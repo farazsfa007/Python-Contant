{
 "cells": [
  {
   "cell_type": "code",
   "execution_count": 3,
   "metadata": {},
   "outputs": [
    {
     "name": "stdout",
     "output_type": "stream",
     "text": [
      "Number Of Words Are :  7\n"
     ]
    }
   ],
   "source": [
    "# 1.Find Number Of Words In A Sentence\n",
    "Strings=\"My Name Is Syed Faraz Ahmad faraz\"\n",
    "print('Number Of Words Are : ', len(Strings.split()))"
   ]
  },
  {
   "cell_type": "code",
   "execution_count": 1,
   "metadata": {},
   "outputs": [
    {
     "ename": "AttributeError",
     "evalue": "'str' object has no attribute 'extends'",
     "output_type": "error",
     "traceback": [
      "\u001b[1;31m---------------------------------------------------------------------------\u001b[0m",
      "\u001b[1;31mAttributeError\u001b[0m                            Traceback (most recent call last)",
      "\u001b[1;32me:\\PythonDataScience\\BasicsOfDataScience\\16_Sep_21_HomeWork.ipynb Cell 2'\u001b[0m in \u001b[0;36m<cell line: 4>\u001b[1;34m()\u001b[0m\n\u001b[0;32m      <a href='vscode-notebook-cell:/e%3A/PythonDataScience/BasicsOfDataScience/16_Sep_21_HomeWork.ipynb#ch0000001?line=3'>4</a>\u001b[0m \u001b[39mfor\u001b[39;00m j \u001b[39min\u001b[39;00m \u001b[39mrange\u001b[39m(\u001b[39m5\u001b[39m):\n\u001b[0;32m      <a href='vscode-notebook-cell:/e%3A/PythonDataScience/BasicsOfDataScience/16_Sep_21_HomeWork.ipynb#ch0000001?line=4'>5</a>\u001b[0m     rate\u001b[39m=\u001b[39m\u001b[39minput\u001b[39m(\u001b[39m'\u001b[39m\u001b[39mRating: \u001b[39m\u001b[39m'\u001b[39m)\n\u001b[1;32m----> <a href='vscode-notebook-cell:/e%3A/PythonDataScience/BasicsOfDataScience/16_Sep_21_HomeWork.ipynb#ch0000001?line=6'>7</a>\u001b[0m     name\u001b[39m.\u001b[39;49mextends(rating3)\n\u001b[0;32m      <a href='vscode-notebook-cell:/e%3A/PythonDataScience/BasicsOfDataScience/16_Sep_21_HomeWork.ipynb#ch0000001?line=7'>8</a>\u001b[0m \u001b[39mprint\u001b[39m(N)\n",
      "\u001b[1;31mAttributeError\u001b[0m: 'str' object has no attribute 'extends'"
     ]
    }
   ],
   "source": [
    "# 2.Take Five Movies As Input in A loop And Take Rating In another Loop\n",
    "for i in range(5):\n",
    "    name=input('Movies name: ')\n",
    "for j in range(5):\n",
    "    rate=input('Rating: ')\n",
    "\n",
    "    name.extends(rating3)\n",
    "print(N)"
   ]
  },
  {
   "cell_type": "code",
   "execution_count": 24,
   "metadata": {},
   "outputs": [
    {
     "name": "stdout",
     "output_type": "stream",
     "text": [
      "['Strawberry', 'Papaya', 'Banana', 'Pineapple']\n"
     ]
    }
   ],
   "source": [
    "# 3.WAP To Remove The Element Given By the User From The Existing List\n",
    "Fruit=['Mango','Strawberry','Papaya','Banana','Pineapple']\n",
    "Fruit.remove('Mango')\n",
    "print(Fruit)"
   ]
  },
  {
   "cell_type": "code",
   "execution_count": 28,
   "metadata": {},
   "outputs": [
    {
     "data": {
      "text/plain": [
       "['Strawberry', 'Papaya', 'Banana', 'Pineapple']"
      ]
     },
     "execution_count": 28,
     "metadata": {},
     "output_type": "execute_result"
    }
   ],
   "source": [
    "Fruit"
   ]
  },
  {
   "cell_type": "code",
   "execution_count": 30,
   "metadata": {},
   "outputs": [
    {
     "ename": "TypeError",
     "evalue": "'list' object cannot be interpreted as an integer",
     "output_type": "error",
     "traceback": [
      "\u001b[1;31m---------------------------------------------------------------------------\u001b[0m",
      "\u001b[1;31mTypeError\u001b[0m                                 Traceback (most recent call last)",
      "\u001b[1;32m~\\AppData\\Local\\Temp/ipykernel_18424/601677302.py\u001b[0m in \u001b[0;36m<module>\u001b[1;34m\u001b[0m\n\u001b[0;32m      1\u001b[0m \u001b[1;31m# 4.WAP To Replace a given Element From the List\u001b[0m\u001b[1;33m\u001b[0m\u001b[1;33m\u001b[0m\u001b[0m\n\u001b[0;32m      2\u001b[0m \u001b[0mVegeis\u001b[0m\u001b[1;33m=\u001b[0m\u001b[1;33m[\u001b[0m\u001b[1;34m'tomato'\u001b[0m\u001b[1;33m,\u001b[0m\u001b[1;34m'aubergien'\u001b[0m\u001b[1;33m,\u001b[0m\u001b[1;34m'ladyfinger'\u001b[0m\u001b[1;33m,\u001b[0m\u001b[1;34m'potato'\u001b[0m\u001b[1;33m,\u001b[0m\u001b[1;34m'bitterground'\u001b[0m\u001b[1;33m]\u001b[0m\u001b[1;33m\u001b[0m\u001b[1;33m\u001b[0m\u001b[0m\n\u001b[1;32m----> 3\u001b[1;33m \u001b[0mVegeis\u001b[0m\u001b[1;33m.\u001b[0m\u001b[0mpop\u001b[0m\u001b[1;33m(\u001b[0m\u001b[0mFruit\u001b[0m\u001b[1;33m)\u001b[0m\u001b[1;33m\u001b[0m\u001b[1;33m\u001b[0m\u001b[0m\n\u001b[0m",
      "\u001b[1;31mTypeError\u001b[0m: 'list' object cannot be interpreted as an integer"
     ]
    }
   ],
   "source": [
    "# 4.WAP To Replace a given Element From the List\n",
    "Vegeis=['tomato','aubergien','ladyfinger','potato','bitterground']\n",
    "Vegeis.pop(Fruit)\n"
   ]
  },
  {
   "cell_type": "code",
   "execution_count": null,
   "metadata": {},
   "outputs": [],
   "source": []
  }
 ],
 "metadata": {
  "interpreter": {
   "hash": "8da01e5a71448ea74f54d88afa8911010d1d12e23bc7e103d40d5def4a09152c"
  },
  "kernelspec": {
   "display_name": "Python 3.9.7 64-bit",
   "name": "python3"
  },
  "language_info": {
   "codemirror_mode": {
    "name": "ipython",
    "version": 3
   },
   "file_extension": ".py",
   "mimetype": "text/x-python",
   "name": "python",
   "nbconvert_exporter": "python",
   "pygments_lexer": "ipython3",
   "version": "3.10.2"
  },
  "orig_nbformat": 4
 },
 "nbformat": 4,
 "nbformat_minor": 2
}
