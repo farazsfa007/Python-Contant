{
 "cells": [
  {
   "cell_type": "code",
   "execution_count": 1,
   "metadata": {},
   "outputs": [
    {
     "name": "stdout",
     "output_type": "stream",
     "text": [
      "hay\n"
     ]
    }
   ],
   "source": [
    "print(\"hay\")"
   ]
  },
  {
   "cell_type": "code",
   "execution_count": 2,
   "metadata": {},
   "outputs": [
    {
     "name": "stdout",
     "output_type": "stream",
     "text": [
      "pareahan\n"
     ]
    }
   ],
   "source": [
    "print('pareahan')"
   ]
  },
  {
   "cell_type": "code",
   "execution_count": 3,
   "metadata": {},
   "outputs": [
    {
     "data": {
      "text/plain": [
       "'Faraz'"
      ]
     },
     "execution_count": 3,
     "metadata": {},
     "output_type": "execute_result"
    }
   ],
   "source": [
    "input(\"enter your name\")"
   ]
  },
  {
   "cell_type": "code",
   "execution_count": 4,
   "metadata": {},
   "outputs": [
    {
     "name": "stdout",
     "output_type": "stream",
     "text": [
      "its divisible\n"
     ]
    }
   ],
   "source": [
    "# Condition\n",
    "n=77\n",
    "if n%7==0 and n%11==0 :\n",
    "  print('its divisible')"
   ]
  },
  {
   "cell_type": "code",
   "execution_count": 5,
   "metadata": {},
   "outputs": [],
   "source": [
    "friend = input(\"Enter a name : \")"
   ]
  },
  {
   "cell_type": "code",
   "execution_count": 6,
   "metadata": {},
   "outputs": [],
   "source": [
    "num1=int(input(\"Enter First Digit : \"))\n",
    "num2=int(input(\"Enter First Digit : \"))"
   ]
  },
  {
   "cell_type": "code",
   "execution_count": 7,
   "metadata": {},
   "outputs": [
    {
     "name": "stdout",
     "output_type": "stream",
     "text": [
      "35\n"
     ]
    }
   ],
   "source": [
    "print(num1+num2)"
   ]
  },
  {
   "cell_type": "code",
   "execution_count": 8,
   "metadata": {},
   "outputs": [
    {
     "name": "stdout",
     "output_type": "stream",
     "text": [
      "12\n",
      "23\n"
     ]
    }
   ],
   "source": [
    "print(num1)\n",
    "print(num2)"
   ]
  },
  {
   "cell_type": "code",
   "execution_count": 9,
   "metadata": {},
   "outputs": [
    {
     "name": "stdout",
     "output_type": "stream",
     "text": [
      "Total :  291\n",
      "Avarage:  58.2\n",
      "Percentage:  58.199999999999996\n"
     ]
    }
   ],
   "source": [
    "# 1. WAP to input marks of five subjects and print average and percentage (assume total 100 of each subject)\n",
    "sub1=int(input(\"English: \"))\n",
    "sub2=int(input(\"Math: \"))\n",
    "sub3=int(input(\"Computer: \"))\n",
    "sub4=int(input(\"Chemestry: \"))\n",
    "sub5=int(input(\"Physics: \"))\n",
    "\n",
    "total=sub1+sub2+sub3+sub4+sub5\n",
    "avg=total/5\n",
    "percentage=(total/500)*100\n",
    "\n",
    "print(\"Total : \",total)\n",
    "print(\"Avarage: \",avg)\n",
    "print(\"Percentage: \",percentage)\n"
   ]
  },
  {
   "cell_type": "code",
   "execution_count": 10,
   "metadata": {},
   "outputs": [],
   "source": [
    "# 2. WAP to enter a student name, rollno, course, year and print it.\n",
    "\n",
    "Student=input(\"Student Name: \")\n",
    "Roll=int(input(\"Roll No: \"))\n",
    "course=input(\"Course Name: \")\n",
    "year=int(input(\"Year: \"))"
   ]
  },
  {
   "cell_type": "code",
   "execution_count": 11,
   "metadata": {},
   "outputs": [],
   "source": [
    "a=23"
   ]
  },
  {
   "cell_type": "code",
   "execution_count": 12,
   "metadata": {},
   "outputs": [
    {
     "name": "stdout",
     "output_type": "stream",
     "text": [
      "you are Not Eligible\n"
     ]
    }
   ],
   "source": [
    "## Blocks in Python\n",
    "\n",
    "age=int(input(\"Enter Your Age\"))\n",
    "if age>18:\n",
    "    print(\"you are Eligible\")\n",
    "else:\n",
    "    print(\"you are Not Eligible\")\n"
   ]
  },
  {
   "cell_type": "code",
   "execution_count": 13,
   "metadata": {},
   "outputs": [
    {
     "name": "stdout",
     "output_type": "stream",
     "text": [
      "Grade A\n"
     ]
    }
   ],
   "source": [
    "marks=90\n",
    "\n",
    "if marks>=90:\n",
    "    print(\"Grade A\")\n",
    "elif marks>= 70:\n",
    "    print(\"Grade B\")\n",
    "elif marks>= 30:\n",
    "    print(\"Grade C\")\n",
    "else:\n",
    "    print(\"fail\")"
   ]
  },
  {
   "cell_type": "code",
   "execution_count": 14,
   "metadata": {},
   "outputs": [
    {
     "name": "stdout",
     "output_type": "stream",
     "text": [
      "Not a Perfect Square\n"
     ]
    }
   ],
   "source": [
    "## WAP To find a Perfect Square\n",
    "\n",
    "n=int(input(\"Enter A Number: \"))\n",
    "\n",
    "sq_rt=n**0.5\n",
    "if sq_rt==int(sq_rt):\n",
    "    print(\"Its A Perfect Square\")\n",
    "else:\n",
    "    \n",
    "    print(\"Not a Perfect Square\")"
   ]
  },
  {
   "cell_type": "code",
   "execution_count": null,
   "metadata": {},
   "outputs": [],
   "source": []
  }
 ],
 "metadata": {
  "interpreter": {
   "hash": "8da01e5a71448ea74f54d88afa8911010d1d12e23bc7e103d40d5def4a09152c"
  },
  "kernelspec": {
   "display_name": "Python 3.9.7 64-bit",
   "name": "python3"
  },
  "language_info": {
   "codemirror_mode": {
    "name": "ipython",
    "version": 3
   },
   "file_extension": ".py",
   "mimetype": "text/x-python",
   "name": "python",
   "nbconvert_exporter": "python",
   "pygments_lexer": "ipython3",
   "version": "3.10.2"
  },
  "orig_nbformat": 4
 },
 "nbformat": 4,
 "nbformat_minor": 2
}
