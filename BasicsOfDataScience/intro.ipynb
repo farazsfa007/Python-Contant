{
 "cells": [
  {
   "cell_type": "code",
   "execution_count": 1,
   "source": [
    "print(\"hay\")\r\n"
   ],
   "outputs": [
    {
     "output_type": "stream",
     "name": "stdout",
     "text": [
      "hay\n"
     ]
    }
   ],
   "metadata": {}
  },
  {
   "cell_type": "code",
   "execution_count": 2,
   "source": [
    "print('pareahan')"
   ],
   "outputs": [
    {
     "output_type": "stream",
     "name": "stdout",
     "text": [
      "pareahan\n"
     ]
    }
   ],
   "metadata": {}
  },
  {
   "cell_type": "code",
   "execution_count": 3,
   "source": [
    "input(\"enter your name\")"
   ],
   "outputs": [
    {
     "output_type": "execute_result",
     "data": {
      "text/plain": [
       "'67'"
      ]
     },
     "metadata": {},
     "execution_count": 3
    }
   ],
   "metadata": {}
  },
  {
   "cell_type": "code",
   "execution_count": 4,
   "source": [
    "# Condition\r\n",
    "n=77\r\n",
    "if n%7==0 and n%11==0 :\r\n",
    "  print('its divisible')"
   ],
   "outputs": [
    {
     "output_type": "stream",
     "name": "stdout",
     "text": [
      "its divisible\n"
     ]
    }
   ],
   "metadata": {}
  },
  {
   "cell_type": "code",
   "execution_count": 5,
   "source": [
    "friend = input(\"Enter a name : \")"
   ],
   "outputs": [],
   "metadata": {}
  },
  {
   "cell_type": "code",
   "execution_count": 6,
   "source": [
    "num1=int(input(\"Enter First Digit : \"))\r\n",
    "num2=int(input(\"Enter First Digit : \"))"
   ],
   "outputs": [],
   "metadata": {}
  },
  {
   "cell_type": "code",
   "execution_count": 7,
   "source": [
    "print(num1+num2)"
   ],
   "outputs": [
    {
     "output_type": "stream",
     "name": "stdout",
     "text": [
      "143\n"
     ]
    }
   ],
   "metadata": {}
  },
  {
   "cell_type": "code",
   "execution_count": 8,
   "source": [
    "print(num1)\r\n",
    "print(num2)"
   ],
   "outputs": [
    {
     "output_type": "stream",
     "name": "stdout",
     "text": [
      "78\n",
      "65\n"
     ]
    }
   ],
   "metadata": {}
  },
  {
   "cell_type": "code",
   "execution_count": 9,
   "source": [
    "# 1. WAP to input marks of five subjects and print average and percentage (assume total 100 of each subject)\r\n",
    "sub1=int(input(\"English: \"))\r\n",
    "sub2=int(input(\"Math: \"))\r\n",
    "sub3=int(input(\"Computer: \"))\r\n",
    "sub4=int(input(\"Chemestry: \"))\r\n",
    "sub5=int(input(\"Physics: \"))\r\n",
    "\r\n",
    "total=sub1+sub2+sub3+sub4+sub5\r\n",
    "avg=total/5\r\n",
    "percentage=(total/500)*100\r\n",
    "\r\n",
    "print(\"Total : \",total)\r\n",
    "print(\"Avarage: \",avg)\r\n",
    "print(\"Percentage: \",percentage)\r\n"
   ],
   "outputs": [
    {
     "output_type": "stream",
     "name": "stdout",
     "text": [
      "Total :  353\n",
      "Avarage:  70.6\n",
      "Percentage:  70.6\n"
     ]
    }
   ],
   "metadata": {}
  },
  {
   "cell_type": "code",
   "execution_count": 10,
   "source": [
    "# 2. WAP to enter a student name, rollno, course, year and print it.\r\n",
    "\r\n",
    "Student=input(\"Student Name: \")\r\n",
    "Roll=int(input(\"Roll No: \"))\r\n",
    "course=input(\"Course Name: \")\r\n",
    "year=int(input(\"Year: \"))"
   ],
   "outputs": [],
   "metadata": {}
  },
  {
   "cell_type": "code",
   "execution_count": 11,
   "source": [
    "a=23"
   ],
   "outputs": [],
   "metadata": {}
  },
  {
   "cell_type": "code",
   "execution_count": 12,
   "source": [
    "## Blocks in Python\r\n",
    "\r\n",
    "age=int(input(\"Enter Your Age\"))\r\n",
    "if age>18:\r\n",
    "    print(\"you are Eligible\")\r\n",
    "else:\r\n",
    "    print(\"you are Not Eligible\")\r\n"
   ],
   "outputs": [
    {
     "output_type": "stream",
     "name": "stdout",
     "text": [
      "you are Eligible\n"
     ]
    }
   ],
   "metadata": {}
  },
  {
   "cell_type": "code",
   "execution_count": 13,
   "source": [
    "marks=90\r\n",
    "\r\n",
    "if marks>=90:\r\n",
    "    print(\"Grade A\")\r\n",
    "elif marks>= 70:\r\n",
    "    print(\"Grade B\")\r\n",
    "elif marks>= 30:\r\n",
    "    print(\"Grade C\")\r\n",
    "else:\r\n",
    "    print(\"fail\")"
   ],
   "outputs": [
    {
     "output_type": "stream",
     "name": "stdout",
     "text": [
      "Grade A\n"
     ]
    }
   ],
   "metadata": {}
  },
  {
   "cell_type": "code",
   "execution_count": 14,
   "source": [
    "## WAP To find a Perfect Square\r\n",
    "\r\n",
    "n=int(input(\"Enter A Number: \"))\r\n",
    "\r\n",
    "sq_rt=n**0.5\r\n",
    "if sq_rt==int(sq_rt):\r\n",
    "    print(\"Its A Perfect Square\")\r\n",
    "else:\r\n",
    "    \r\n",
    "    print(\"Not a Perfect Square\")"
   ],
   "outputs": [
    {
     "output_type": "stream",
     "name": "stdout",
     "text": [
      "Not a Perfect Square\n"
     ]
    }
   ],
   "metadata": {}
  }
 ],
 "metadata": {
  "orig_nbformat": 4,
  "language_info": {
   "name": "python",
   "version": "3.9.7",
   "mimetype": "text/x-python",
   "codemirror_mode": {
    "name": "ipython",
    "version": 3
   },
   "pygments_lexer": "ipython3",
   "nbconvert_exporter": "python",
   "file_extension": ".py"
  },
  "kernelspec": {
   "name": "python3",
   "display_name": "Python 3.9.7 64-bit"
  },
  "interpreter": {
   "hash": "8da01e5a71448ea74f54d88afa8911010d1d12e23bc7e103d40d5def4a09152c"
  }
 },
 "nbformat": 4,
 "nbformat_minor": 2
}