{
 "cells": [
  {
   "cell_type": "code",
   "execution_count": 68,
   "metadata": {},
   "outputs": [],
   "source": [
    "import cv2\n",
    "import os"
   ]
  },
  {
   "cell_type": "code",
   "execution_count": 69,
   "metadata": {},
   "outputs": [],
   "source": [
    "img=cv2.imread('R.jpeg')"
   ]
  },
  {
   "cell_type": "code",
   "execution_count": 70,
   "metadata": {},
   "outputs": [
    {
     "data": {
      "text/plain": [
       "True"
      ]
     },
     "execution_count": 70,
     "metadata": {},
     "output_type": "execute_result"
    }
   ],
   "source": [
    "# loading the classifier\n",
    "face_detector = cv2.CascadeClassifier('face.xml')\n",
    "\n",
    "# detecting the faces\n",
    "detected_faces = face_detector.detectMultiScale(img, 1.1, 5)\n",
    "\n",
    "\n",
    "# marking the faces\n",
    "for (x, y, w, h) in detected_faces:\n",
    "    cv2.rectangle(img, (x, y), (x+w, y+h), (0, 255, 0), 4)\n",
    "\n",
    "cv2.imwrite('faces_detect.jpg', img)"
   ]
  },
  {
   "cell_type": "code",
   "execution_count": 71,
   "metadata": {},
   "outputs": [],
   "source": [
    "face_detector=cv2.CascadeClassifier('face.xml')\n",
    "detected_faces=face_detector.detectMultiScale(img,1.1,5)\n",
    "cropped_face=[]\n",
    "\n",
    "for (x,y,w,h) in detected_faces:\n",
    "    cropped_face.append(img[y:y+h,x:x+w])\n",
    "\n",
    "# try:\n",
    "#     os.mkdir('.//faces')\n",
    "# except Exception as e:\n",
    "#     print(e)\n",
    "\n",
    "for index,face in enumerate(cropped_face):\n",
    "    cv2.imwrite(f'faces/face{index+1}.jpeg',face)\n"
   ]
  }
 ],
 "metadata": {
  "interpreter": {
   "hash": "8da01e5a71448ea74f54d88afa8911010d1d12e23bc7e103d40d5def4a09152c"
  },
  "kernelspec": {
   "display_name": "Python 3.9.7 64-bit",
   "name": "python3"
  },
  "language_info": {
   "codemirror_mode": {
    "name": "ipython",
    "version": 3
   },
   "file_extension": ".py",
   "mimetype": "text/x-python",
   "name": "python",
   "nbconvert_exporter": "python",
   "pygments_lexer": "ipython3",
   "version": "3.9.7"
  },
  "orig_nbformat": 4
 },
 "nbformat": 4,
 "nbformat_minor": 2
}
