{
 "cells": [
  {
   "cell_type": "code",
   "execution_count": 1,
   "metadata": {},
   "outputs": [],
   "source": [
    "import plotly.graph_objs as go\n",
    "import plotly.express as px"
   ]
  },
  {
   "cell_type": "code",
   "execution_count": 2,
   "metadata": {},
   "outputs": [],
   "source": [
    "import pandas as pd"
   ]
  },
  {
   "cell_type": "code",
   "execution_count": 3,
   "metadata": {},
   "outputs": [],
   "source": [
    "df = pd.read_csv('Pokemon.csv')"
   ]
  },
  {
   "cell_type": "code",
   "execution_count": 4,
   "metadata": {},
   "outputs": [
    {
     "data": {
      "text/html": [
       "<div>\n",
       "<style scoped>\n",
       "    .dataframe tbody tr th:only-of-type {\n",
       "        vertical-align: middle;\n",
       "    }\n",
       "\n",
       "    .dataframe tbody tr th {\n",
       "        vertical-align: top;\n",
       "    }\n",
       "\n",
       "    .dataframe thead th {\n",
       "        text-align: right;\n",
       "    }\n",
       "</style>\n",
       "<table border=\"1\" class=\"dataframe\">\n",
       "  <thead>\n",
       "    <tr style=\"text-align: right;\">\n",
       "      <th></th>\n",
       "      <th>#</th>\n",
       "      <th>Name</th>\n",
       "      <th>Type 1</th>\n",
       "      <th>Type 2</th>\n",
       "      <th>Total</th>\n",
       "      <th>HP</th>\n",
       "      <th>Attack</th>\n",
       "      <th>Defense</th>\n",
       "      <th>Sp. Atk</th>\n",
       "      <th>Sp. Def</th>\n",
       "      <th>Speed</th>\n",
       "      <th>Generation</th>\n",
       "      <th>Legendary</th>\n",
       "    </tr>\n",
       "  </thead>\n",
       "  <tbody>\n",
       "    <tr>\n",
       "      <th>0</th>\n",
       "      <td>1</td>\n",
       "      <td>Bulbasaur</td>\n",
       "      <td>Grass</td>\n",
       "      <td>Poison</td>\n",
       "      <td>318</td>\n",
       "      <td>45</td>\n",
       "      <td>49</td>\n",
       "      <td>49</td>\n",
       "      <td>65</td>\n",
       "      <td>65</td>\n",
       "      <td>45</td>\n",
       "      <td>1</td>\n",
       "      <td>False</td>\n",
       "    </tr>\n",
       "    <tr>\n",
       "      <th>1</th>\n",
       "      <td>2</td>\n",
       "      <td>Ivysaur</td>\n",
       "      <td>Grass</td>\n",
       "      <td>Poison</td>\n",
       "      <td>405</td>\n",
       "      <td>60</td>\n",
       "      <td>62</td>\n",
       "      <td>63</td>\n",
       "      <td>80</td>\n",
       "      <td>80</td>\n",
       "      <td>60</td>\n",
       "      <td>1</td>\n",
       "      <td>False</td>\n",
       "    </tr>\n",
       "    <tr>\n",
       "      <th>2</th>\n",
       "      <td>3</td>\n",
       "      <td>Venusaur</td>\n",
       "      <td>Grass</td>\n",
       "      <td>Poison</td>\n",
       "      <td>525</td>\n",
       "      <td>80</td>\n",
       "      <td>82</td>\n",
       "      <td>83</td>\n",
       "      <td>100</td>\n",
       "      <td>100</td>\n",
       "      <td>80</td>\n",
       "      <td>1</td>\n",
       "      <td>False</td>\n",
       "    </tr>\n",
       "    <tr>\n",
       "      <th>3</th>\n",
       "      <td>3</td>\n",
       "      <td>VenusaurMega Venusaur</td>\n",
       "      <td>Grass</td>\n",
       "      <td>Poison</td>\n",
       "      <td>625</td>\n",
       "      <td>80</td>\n",
       "      <td>100</td>\n",
       "      <td>123</td>\n",
       "      <td>122</td>\n",
       "      <td>120</td>\n",
       "      <td>80</td>\n",
       "      <td>1</td>\n",
       "      <td>False</td>\n",
       "    </tr>\n",
       "    <tr>\n",
       "      <th>4</th>\n",
       "      <td>4</td>\n",
       "      <td>Charmander</td>\n",
       "      <td>Fire</td>\n",
       "      <td>NaN</td>\n",
       "      <td>309</td>\n",
       "      <td>39</td>\n",
       "      <td>52</td>\n",
       "      <td>43</td>\n",
       "      <td>60</td>\n",
       "      <td>50</td>\n",
       "      <td>65</td>\n",
       "      <td>1</td>\n",
       "      <td>False</td>\n",
       "    </tr>\n",
       "  </tbody>\n",
       "</table>\n",
       "</div>"
      ],
      "text/plain": [
       "   #                   Name Type 1  Type 2  Total  HP  Attack  Defense  \\\n",
       "0  1              Bulbasaur  Grass  Poison    318  45      49       49   \n",
       "1  2                Ivysaur  Grass  Poison    405  60      62       63   \n",
       "2  3               Venusaur  Grass  Poison    525  80      82       83   \n",
       "3  3  VenusaurMega Venusaur  Grass  Poison    625  80     100      123   \n",
       "4  4             Charmander   Fire     NaN    309  39      52       43   \n",
       "\n",
       "   Sp. Atk  Sp. Def  Speed  Generation  Legendary  \n",
       "0       65       65     45           1      False  \n",
       "1       80       80     60           1      False  \n",
       "2      100      100     80           1      False  \n",
       "3      122      120     80           1      False  \n",
       "4       60       50     65           1      False  "
      ]
     },
     "execution_count": 4,
     "metadata": {},
     "output_type": "execute_result"
    }
   ],
   "source": [
    "df.head()"
   ]
  },
  {
   "cell_type": "code",
   "execution_count": 5,
   "metadata": {},
   "outputs": [],
   "source": [
    "grasstype = df[df['Type 1'] == 'Grass']"
   ]
  },
  {
   "cell_type": "code",
   "execution_count": 6,
   "metadata": {},
   "outputs": [
    {
     "name": "stderr",
     "output_type": "stream",
     "text": [
      "C:\\Users\\ASUS\\AppData\\Local\\Programs\\Python\\Python39\\lib\\site-packages\\plotly\\graph_objs\\_deprecations.py:378: DeprecationWarning:\n",
      "\n",
      "plotly.graph_objs.Line is deprecated.\n",
      "Please replace it with one of the following more specific types\n",
      "  - plotly.graph_objs.scatter.Line\n",
      "  - plotly.graph_objs.layout.shape.Line\n",
      "  - etc.\n",
      "\n",
      "\n"
     ]
    },
    {
     "data": {
      "application/vnd.plotly.v1+json": {
       "config": {
        "plotlyServerURL": "https://plot.ly"
       },
       "data": [
        {
         "type": "scatter",
         "x": [
          "Bulbasaur",
          "Ivysaur",
          "Venusaur",
          "VenusaurMega Venusaur",
          "Oddish",
          "Gloom",
          "Vileplume",
          "Bellsprout",
          "Weepinbell",
          "Victreebel",
          "Exeggcute",
          "Exeggutor",
          "Tangela",
          "Chikorita",
          "Bayleef",
          "Meganium",
          "Bellossom",
          "Hoppip",
          "Skiploom",
          "Jumpluff",
          "Sunkern",
          "Sunflora",
          "Treecko",
          "Grovyle",
          "Sceptile",
          "SceptileMega Sceptile",
          "Seedot",
          "Nuzleaf",
          "Shiftry",
          "Shroomish",
          "Breloom",
          "Roselia",
          "Cacnea",
          "Cacturne",
          "Tropius",
          "Turtwig",
          "Grotle",
          "Torterra",
          "Budew",
          "Roserade",
          "Cherubi",
          "Cherrim",
          "Carnivine",
          "Snover",
          "Abomasnow",
          "AbomasnowMega Abomasnow",
          "Tangrowth",
          "Leafeon",
          "ShayminLand Forme",
          "ShayminSky Forme",
          "Snivy",
          "Servine",
          "Serperior",
          "Pansage",
          "Simisage",
          "Cottonee",
          "Whimsicott",
          "Petilil",
          "Lilligant",
          "Maractus",
          "Foongus",
          "Amoonguss",
          "Ferroseed",
          "Ferrothorn",
          "Virizion",
          "Chespin",
          "Quilladin",
          "Chesnaught",
          "Skiddo",
          "Gogoat"
         ],
         "y": [
          45,
          60,
          80,
          80,
          45,
          60,
          75,
          50,
          65,
          80,
          60,
          95,
          65,
          45,
          60,
          80,
          75,
          35,
          55,
          75,
          30,
          75,
          40,
          50,
          70,
          70,
          40,
          70,
          90,
          60,
          60,
          50,
          50,
          70,
          99,
          55,
          75,
          95,
          40,
          60,
          45,
          70,
          74,
          60,
          90,
          90,
          100,
          65,
          100,
          100,
          45,
          60,
          75,
          50,
          75,
          40,
          60,
          45,
          70,
          75,
          69,
          114,
          44,
          74,
          91,
          56,
          61,
          88,
          66,
          123
         ]
        }
       ],
       "layout": {
        "height": 300,
        "template": {
         "data": {
          "bar": [
           {
            "error_x": {
             "color": "#2a3f5f"
            },
            "error_y": {
             "color": "#2a3f5f"
            },
            "marker": {
             "line": {
              "color": "#E5ECF6",
              "width": 0.5
             },
             "pattern": {
              "fillmode": "overlay",
              "size": 10,
              "solidity": 0.2
             }
            },
            "type": "bar"
           }
          ],
          "barpolar": [
           {
            "marker": {
             "line": {
              "color": "#E5ECF6",
              "width": 0.5
             },
             "pattern": {
              "fillmode": "overlay",
              "size": 10,
              "solidity": 0.2
             }
            },
            "type": "barpolar"
           }
          ],
          "carpet": [
           {
            "aaxis": {
             "endlinecolor": "#2a3f5f",
             "gridcolor": "white",
             "linecolor": "white",
             "minorgridcolor": "white",
             "startlinecolor": "#2a3f5f"
            },
            "baxis": {
             "endlinecolor": "#2a3f5f",
             "gridcolor": "white",
             "linecolor": "white",
             "minorgridcolor": "white",
             "startlinecolor": "#2a3f5f"
            },
            "type": "carpet"
           }
          ],
          "choropleth": [
           {
            "colorbar": {
             "outlinewidth": 0,
             "ticks": ""
            },
            "type": "choropleth"
           }
          ],
          "contour": [
           {
            "colorbar": {
             "outlinewidth": 0,
             "ticks": ""
            },
            "colorscale": [
             [
              0,
              "#0d0887"
             ],
             [
              0.1111111111111111,
              "#46039f"
             ],
             [
              0.2222222222222222,
              "#7201a8"
             ],
             [
              0.3333333333333333,
              "#9c179e"
             ],
             [
              0.4444444444444444,
              "#bd3786"
             ],
             [
              0.5555555555555556,
              "#d8576b"
             ],
             [
              0.6666666666666666,
              "#ed7953"
             ],
             [
              0.7777777777777778,
              "#fb9f3a"
             ],
             [
              0.8888888888888888,
              "#fdca26"
             ],
             [
              1,
              "#f0f921"
             ]
            ],
            "type": "contour"
           }
          ],
          "contourcarpet": [
           {
            "colorbar": {
             "outlinewidth": 0,
             "ticks": ""
            },
            "type": "contourcarpet"
           }
          ],
          "heatmap": [
           {
            "colorbar": {
             "outlinewidth": 0,
             "ticks": ""
            },
            "colorscale": [
             [
              0,
              "#0d0887"
             ],
             [
              0.1111111111111111,
              "#46039f"
             ],
             [
              0.2222222222222222,
              "#7201a8"
             ],
             [
              0.3333333333333333,
              "#9c179e"
             ],
             [
              0.4444444444444444,
              "#bd3786"
             ],
             [
              0.5555555555555556,
              "#d8576b"
             ],
             [
              0.6666666666666666,
              "#ed7953"
             ],
             [
              0.7777777777777778,
              "#fb9f3a"
             ],
             [
              0.8888888888888888,
              "#fdca26"
             ],
             [
              1,
              "#f0f921"
             ]
            ],
            "type": "heatmap"
           }
          ],
          "heatmapgl": [
           {
            "colorbar": {
             "outlinewidth": 0,
             "ticks": ""
            },
            "colorscale": [
             [
              0,
              "#0d0887"
             ],
             [
              0.1111111111111111,
              "#46039f"
             ],
             [
              0.2222222222222222,
              "#7201a8"
             ],
             [
              0.3333333333333333,
              "#9c179e"
             ],
             [
              0.4444444444444444,
              "#bd3786"
             ],
             [
              0.5555555555555556,
              "#d8576b"
             ],
             [
              0.6666666666666666,
              "#ed7953"
             ],
             [
              0.7777777777777778,
              "#fb9f3a"
             ],
             [
              0.8888888888888888,
              "#fdca26"
             ],
             [
              1,
              "#f0f921"
             ]
            ],
            "type": "heatmapgl"
           }
          ],
          "histogram": [
           {
            "marker": {
             "pattern": {
              "fillmode": "overlay",
              "size": 10,
              "solidity": 0.2
             }
            },
            "type": "histogram"
           }
          ],
          "histogram2d": [
           {
            "colorbar": {
             "outlinewidth": 0,
             "ticks": ""
            },
            "colorscale": [
             [
              0,
              "#0d0887"
             ],
             [
              0.1111111111111111,
              "#46039f"
             ],
             [
              0.2222222222222222,
              "#7201a8"
             ],
             [
              0.3333333333333333,
              "#9c179e"
             ],
             [
              0.4444444444444444,
              "#bd3786"
             ],
             [
              0.5555555555555556,
              "#d8576b"
             ],
             [
              0.6666666666666666,
              "#ed7953"
             ],
             [
              0.7777777777777778,
              "#fb9f3a"
             ],
             [
              0.8888888888888888,
              "#fdca26"
             ],
             [
              1,
              "#f0f921"
             ]
            ],
            "type": "histogram2d"
           }
          ],
          "histogram2dcontour": [
           {
            "colorbar": {
             "outlinewidth": 0,
             "ticks": ""
            },
            "colorscale": [
             [
              0,
              "#0d0887"
             ],
             [
              0.1111111111111111,
              "#46039f"
             ],
             [
              0.2222222222222222,
              "#7201a8"
             ],
             [
              0.3333333333333333,
              "#9c179e"
             ],
             [
              0.4444444444444444,
              "#bd3786"
             ],
             [
              0.5555555555555556,
              "#d8576b"
             ],
             [
              0.6666666666666666,
              "#ed7953"
             ],
             [
              0.7777777777777778,
              "#fb9f3a"
             ],
             [
              0.8888888888888888,
              "#fdca26"
             ],
             [
              1,
              "#f0f921"
             ]
            ],
            "type": "histogram2dcontour"
           }
          ],
          "mesh3d": [
           {
            "colorbar": {
             "outlinewidth": 0,
             "ticks": ""
            },
            "type": "mesh3d"
           }
          ],
          "parcoords": [
           {
            "line": {
             "colorbar": {
              "outlinewidth": 0,
              "ticks": ""
             }
            },
            "type": "parcoords"
           }
          ],
          "pie": [
           {
            "automargin": true,
            "type": "pie"
           }
          ],
          "scatter": [
           {
            "marker": {
             "colorbar": {
              "outlinewidth": 0,
              "ticks": ""
             }
            },
            "type": "scatter"
           }
          ],
          "scatter3d": [
           {
            "line": {
             "colorbar": {
              "outlinewidth": 0,
              "ticks": ""
             }
            },
            "marker": {
             "colorbar": {
              "outlinewidth": 0,
              "ticks": ""
             }
            },
            "type": "scatter3d"
           }
          ],
          "scattercarpet": [
           {
            "marker": {
             "colorbar": {
              "outlinewidth": 0,
              "ticks": ""
             }
            },
            "type": "scattercarpet"
           }
          ],
          "scattergeo": [
           {
            "marker": {
             "colorbar": {
              "outlinewidth": 0,
              "ticks": ""
             }
            },
            "type": "scattergeo"
           }
          ],
          "scattergl": [
           {
            "marker": {
             "colorbar": {
              "outlinewidth": 0,
              "ticks": ""
             }
            },
            "type": "scattergl"
           }
          ],
          "scattermapbox": [
           {
            "marker": {
             "colorbar": {
              "outlinewidth": 0,
              "ticks": ""
             }
            },
            "type": "scattermapbox"
           }
          ],
          "scatterpolar": [
           {
            "marker": {
             "colorbar": {
              "outlinewidth": 0,
              "ticks": ""
             }
            },
            "type": "scatterpolar"
           }
          ],
          "scatterpolargl": [
           {
            "marker": {
             "colorbar": {
              "outlinewidth": 0,
              "ticks": ""
             }
            },
            "type": "scatterpolargl"
           }
          ],
          "scatterternary": [
           {
            "marker": {
             "colorbar": {
              "outlinewidth": 0,
              "ticks": ""
             }
            },
            "type": "scatterternary"
           }
          ],
          "surface": [
           {
            "colorbar": {
             "outlinewidth": 0,
             "ticks": ""
            },
            "colorscale": [
             [
              0,
              "#0d0887"
             ],
             [
              0.1111111111111111,
              "#46039f"
             ],
             [
              0.2222222222222222,
              "#7201a8"
             ],
             [
              0.3333333333333333,
              "#9c179e"
             ],
             [
              0.4444444444444444,
              "#bd3786"
             ],
             [
              0.5555555555555556,
              "#d8576b"
             ],
             [
              0.6666666666666666,
              "#ed7953"
             ],
             [
              0.7777777777777778,
              "#fb9f3a"
             ],
             [
              0.8888888888888888,
              "#fdca26"
             ],
             [
              1,
              "#f0f921"
             ]
            ],
            "type": "surface"
           }
          ],
          "table": [
           {
            "cells": {
             "fill": {
              "color": "#EBF0F8"
             },
             "line": {
              "color": "white"
             }
            },
            "header": {
             "fill": {
              "color": "#C8D4E3"
             },
             "line": {
              "color": "white"
             }
            },
            "type": "table"
           }
          ]
         },
         "layout": {
          "annotationdefaults": {
           "arrowcolor": "#2a3f5f",
           "arrowhead": 0,
           "arrowwidth": 1
          },
          "autotypenumbers": "strict",
          "coloraxis": {
           "colorbar": {
            "outlinewidth": 0,
            "ticks": ""
           }
          },
          "colorscale": {
           "diverging": [
            [
             0,
             "#8e0152"
            ],
            [
             0.1,
             "#c51b7d"
            ],
            [
             0.2,
             "#de77ae"
            ],
            [
             0.3,
             "#f1b6da"
            ],
            [
             0.4,
             "#fde0ef"
            ],
            [
             0.5,
             "#f7f7f7"
            ],
            [
             0.6,
             "#e6f5d0"
            ],
            [
             0.7,
             "#b8e186"
            ],
            [
             0.8,
             "#7fbc41"
            ],
            [
             0.9,
             "#4d9221"
            ],
            [
             1,
             "#276419"
            ]
           ],
           "sequential": [
            [
             0,
             "#0d0887"
            ],
            [
             0.1111111111111111,
             "#46039f"
            ],
            [
             0.2222222222222222,
             "#7201a8"
            ],
            [
             0.3333333333333333,
             "#9c179e"
            ],
            [
             0.4444444444444444,
             "#bd3786"
            ],
            [
             0.5555555555555556,
             "#d8576b"
            ],
            [
             0.6666666666666666,
             "#ed7953"
            ],
            [
             0.7777777777777778,
             "#fb9f3a"
            ],
            [
             0.8888888888888888,
             "#fdca26"
            ],
            [
             1,
             "#f0f921"
            ]
           ],
           "sequentialminus": [
            [
             0,
             "#0d0887"
            ],
            [
             0.1111111111111111,
             "#46039f"
            ],
            [
             0.2222222222222222,
             "#7201a8"
            ],
            [
             0.3333333333333333,
             "#9c179e"
            ],
            [
             0.4444444444444444,
             "#bd3786"
            ],
            [
             0.5555555555555556,
             "#d8576b"
            ],
            [
             0.6666666666666666,
             "#ed7953"
            ],
            [
             0.7777777777777778,
             "#fb9f3a"
            ],
            [
             0.8888888888888888,
             "#fdca26"
            ],
            [
             1,
             "#f0f921"
            ]
           ]
          },
          "colorway": [
           "#636efa",
           "#EF553B",
           "#00cc96",
           "#ab63fa",
           "#FFA15A",
           "#19d3f3",
           "#FF6692",
           "#B6E880",
           "#FF97FF",
           "#FECB52"
          ],
          "font": {
           "color": "#2a3f5f"
          },
          "geo": {
           "bgcolor": "white",
           "lakecolor": "white",
           "landcolor": "#E5ECF6",
           "showlakes": true,
           "showland": true,
           "subunitcolor": "white"
          },
          "hoverlabel": {
           "align": "left"
          },
          "hovermode": "closest",
          "mapbox": {
           "style": "light"
          },
          "paper_bgcolor": "white",
          "plot_bgcolor": "#E5ECF6",
          "polar": {
           "angularaxis": {
            "gridcolor": "white",
            "linecolor": "white",
            "ticks": ""
           },
           "bgcolor": "#E5ECF6",
           "radialaxis": {
            "gridcolor": "white",
            "linecolor": "white",
            "ticks": ""
           }
          },
          "scene": {
           "xaxis": {
            "backgroundcolor": "#E5ECF6",
            "gridcolor": "white",
            "gridwidth": 2,
            "linecolor": "white",
            "showbackground": true,
            "ticks": "",
            "zerolinecolor": "white"
           },
           "yaxis": {
            "backgroundcolor": "#E5ECF6",
            "gridcolor": "white",
            "gridwidth": 2,
            "linecolor": "white",
            "showbackground": true,
            "ticks": "",
            "zerolinecolor": "white"
           },
           "zaxis": {
            "backgroundcolor": "#E5ECF6",
            "gridcolor": "white",
            "gridwidth": 2,
            "linecolor": "white",
            "showbackground": true,
            "ticks": "",
            "zerolinecolor": "white"
           }
          },
          "shapedefaults": {
           "line": {
            "color": "#2a3f5f"
           }
          },
          "ternary": {
           "aaxis": {
            "gridcolor": "white",
            "linecolor": "white",
            "ticks": ""
           },
           "baxis": {
            "gridcolor": "white",
            "linecolor": "white",
            "ticks": ""
           },
           "bgcolor": "#E5ECF6",
           "caxis": {
            "gridcolor": "white",
            "linecolor": "white",
            "ticks": ""
           }
          },
          "title": {
           "x": 0.05
          },
          "xaxis": {
           "automargin": true,
           "gridcolor": "white",
           "linecolor": "white",
           "ticks": "",
           "title": {
            "standoff": 15
           },
           "zerolinecolor": "white",
           "zerolinewidth": 2
          },
          "yaxis": {
           "automargin": true,
           "gridcolor": "white",
           "linecolor": "white",
           "ticks": "",
           "title": {
            "standoff": 15
           },
           "zerolinecolor": "white",
           "zerolinewidth": 2
          }
         }
        },
        "title": {
         "text": "Pokemon HP plot"
        },
        "width": 700
       }
      }
     },
     "metadata": {},
     "output_type": "display_data"
    }
   ],
   "source": [
    "name = grasstype.Name\n",
    "hp = grasstype.HP\n",
    "\n",
    "fig = go.Figure({'layout' : { 'width':700, 'height' : 300, 'title' : 'Pokemon HP plot' }})\n",
    "fig.add_trace( go.Line( x = name, y = hp ) )"
   ]
  },
  {
   "cell_type": "code",
   "execution_count": 7,
   "metadata": {},
   "outputs": [
    {
     "data": {
      "application/vnd.plotly.v1+json": {
       "config": {
        "plotlyServerURL": "https://plot.ly"
       },
       "data": [
        {
         "alignmentgroup": "True",
         "hovertemplate": "Name=%{x}<br>Total=%{y}<extra></extra>",
         "legendgroup": "",
         "marker": {
          "color": "#636efa",
          "pattern": {
           "shape": ""
          }
         },
         "name": "",
         "offsetgroup": "",
         "orientation": "v",
         "showlegend": false,
         "textposition": "auto",
         "type": "bar",
         "x": [
          "Bulbasaur",
          "Ivysaur",
          "Venusaur",
          "VenusaurMega Venusaur",
          "Charmander",
          "Charmeleon",
          "Charizard",
          "CharizardMega Charizard X",
          "CharizardMega Charizard Y",
          "Squirtle",
          "Wartortle",
          "Blastoise",
          "BlastoiseMega Blastoise",
          "Caterpie",
          "Metapod",
          "Butterfree",
          "Weedle",
          "Kakuna",
          "Beedrill",
          "BeedrillMega Beedrill",
          "Pidgey",
          "Pidgeotto",
          "Pidgeot",
          "PidgeotMega Pidgeot",
          "Rattata",
          "Raticate",
          "Spearow",
          "Fearow",
          "Ekans",
          "Arbok",
          "Pikachu",
          "Raichu",
          "Sandshrew",
          "Sandslash",
          "Nidoran♀",
          "Nidorina",
          "Nidoqueen",
          "Nidoran♂",
          "Nidorino",
          "Nidoking",
          "Clefairy",
          "Clefable",
          "Vulpix",
          "Ninetales",
          "Jigglypuff",
          "Wigglytuff",
          "Zubat",
          "Golbat",
          "Oddish",
          "Gloom",
          "Vileplume",
          "Paras",
          "Parasect",
          "Venonat",
          "Venomoth",
          "Diglett",
          "Dugtrio",
          "Meowth",
          "Persian",
          "Psyduck",
          "Golduck",
          "Mankey",
          "Primeape",
          "Growlithe",
          "Arcanine",
          "Poliwag",
          "Poliwhirl",
          "Poliwrath",
          "Abra",
          "Kadabra",
          "Alakazam",
          "AlakazamMega Alakazam",
          "Machop",
          "Machoke",
          "Machamp",
          "Bellsprout",
          "Weepinbell",
          "Victreebel",
          "Tentacool",
          "Tentacruel",
          "Geodude",
          "Graveler",
          "Golem",
          "Ponyta",
          "Rapidash",
          "Slowpoke",
          "Slowbro",
          "SlowbroMega Slowbro",
          "Magnemite",
          "Magneton",
          "Farfetch'd",
          "Doduo",
          "Dodrio",
          "Seel",
          "Dewgong",
          "Grimer",
          "Muk",
          "Shellder",
          "Cloyster",
          "Gastly",
          "Haunter",
          "Gengar",
          "GengarMega Gengar",
          "Onix",
          "Drowzee",
          "Hypno",
          "Krabby",
          "Kingler",
          "Voltorb",
          "Electrode",
          "Exeggcute",
          "Exeggutor",
          "Cubone",
          "Marowak",
          "Hitmonlee",
          "Hitmonchan",
          "Lickitung",
          "Koffing",
          "Weezing",
          "Rhyhorn",
          "Rhydon",
          "Chansey",
          "Tangela",
          "Kangaskhan",
          "KangaskhanMega Kangaskhan",
          "Horsea",
          "Seadra",
          "Goldeen",
          "Seaking",
          "Staryu",
          "Starmie",
          "Mr. Mime",
          "Scyther",
          "Jynx",
          "Electabuzz",
          "Magmar",
          "Pinsir",
          "PinsirMega Pinsir",
          "Tauros",
          "Magikarp",
          "Gyarados",
          "GyaradosMega Gyarados",
          "Lapras",
          "Ditto",
          "Eevee",
          "Vaporeon",
          "Jolteon",
          "Flareon",
          "Porygon",
          "Omanyte",
          "Omastar",
          "Kabuto",
          "Kabutops",
          "Aerodactyl",
          "AerodactylMega Aerodactyl",
          "Snorlax",
          "Articuno",
          "Zapdos",
          "Moltres",
          "Dratini",
          "Dragonair",
          "Dragonite",
          "Mewtwo",
          "MewtwoMega Mewtwo X",
          "MewtwoMega Mewtwo Y",
          "Mew",
          "Chikorita",
          "Bayleef",
          "Meganium",
          "Cyndaquil",
          "Quilava",
          "Typhlosion",
          "Totodile",
          "Croconaw",
          "Feraligatr",
          "Sentret",
          "Furret",
          "Hoothoot",
          "Noctowl",
          "Ledyba",
          "Ledian",
          "Spinarak",
          "Ariados",
          "Crobat",
          "Chinchou",
          "Lanturn",
          "Pichu",
          "Cleffa",
          "Igglybuff",
          "Togepi",
          "Togetic",
          "Natu",
          "Xatu",
          "Mareep",
          "Flaaffy",
          "Ampharos",
          "AmpharosMega Ampharos",
          "Bellossom",
          "Marill",
          "Azumarill",
          "Sudowoodo",
          "Politoed",
          "Hoppip",
          "Skiploom",
          "Jumpluff",
          "Aipom",
          "Sunkern",
          "Sunflora",
          "Yanma",
          "Wooper",
          "Quagsire",
          "Espeon",
          "Umbreon",
          "Murkrow",
          "Slowking",
          "Misdreavus",
          "Unown",
          "Wobbuffet",
          "Girafarig",
          "Pineco",
          "Forretress",
          "Dunsparce",
          "Gligar",
          "Steelix",
          "SteelixMega Steelix",
          "Snubbull",
          "Granbull",
          "Qwilfish",
          "Scizor",
          "ScizorMega Scizor",
          "Shuckle",
          "Heracross",
          "HeracrossMega Heracross",
          "Sneasel",
          "Teddiursa",
          "Ursaring",
          "Slugma",
          "Magcargo",
          "Swinub",
          "Piloswine",
          "Corsola",
          "Remoraid",
          "Octillery",
          "Delibird",
          "Mantine",
          "Skarmory",
          "Houndour",
          "Houndoom",
          "HoundoomMega Houndoom",
          "Kingdra",
          "Phanpy",
          "Donphan",
          "Porygon2",
          "Stantler",
          "Smeargle",
          "Tyrogue",
          "Hitmontop",
          "Smoochum",
          "Elekid",
          "Magby",
          "Miltank",
          "Blissey",
          "Raikou",
          "Entei",
          "Suicune",
          "Larvitar",
          "Pupitar",
          "Tyranitar",
          "TyranitarMega Tyranitar",
          "Lugia",
          "Ho-oh",
          "Celebi",
          "Treecko",
          "Grovyle",
          "Sceptile",
          "SceptileMega Sceptile",
          "Torchic",
          "Combusken",
          "Blaziken",
          "BlazikenMega Blaziken",
          "Mudkip",
          "Marshtomp",
          "Swampert",
          "SwampertMega Swampert",
          "Poochyena",
          "Mightyena",
          "Zigzagoon",
          "Linoone",
          "Wurmple",
          "Silcoon",
          "Beautifly",
          "Cascoon",
          "Dustox",
          "Lotad",
          "Lombre",
          "Ludicolo",
          "Seedot",
          "Nuzleaf",
          "Shiftry",
          "Taillow",
          "Swellow",
          "Wingull",
          "Pelipper",
          "Ralts",
          "Kirlia",
          "Gardevoir",
          "GardevoirMega Gardevoir",
          "Surskit",
          "Masquerain",
          "Shroomish",
          "Breloom",
          "Slakoth",
          "Vigoroth",
          "Slaking",
          "Nincada",
          "Ninjask",
          "Shedinja",
          "Whismur",
          "Loudred",
          "Exploud",
          "Makuhita",
          "Hariyama",
          "Azurill",
          "Nosepass",
          "Skitty",
          "Delcatty",
          "Sableye",
          "SableyeMega Sableye",
          "Mawile",
          "MawileMega Mawile",
          "Aron",
          "Lairon",
          "Aggron",
          "AggronMega Aggron",
          "Meditite",
          "Medicham",
          "MedichamMega Medicham",
          "Electrike",
          "Manectric",
          "ManectricMega Manectric",
          "Plusle",
          "Minun",
          "Volbeat",
          "Illumise",
          "Roselia",
          "Gulpin",
          "Swalot",
          "Carvanha",
          "Sharpedo",
          "SharpedoMega Sharpedo",
          "Wailmer",
          "Wailord",
          "Numel",
          "Camerupt",
          "CameruptMega Camerupt",
          "Torkoal",
          "Spoink",
          "Grumpig",
          "Spinda",
          "Trapinch",
          "Vibrava",
          "Flygon",
          "Cacnea",
          "Cacturne",
          "Swablu",
          "Altaria",
          "AltariaMega Altaria",
          "Zangoose",
          "Seviper",
          "Lunatone",
          "Solrock",
          "Barboach",
          "Whiscash",
          "Corphish",
          "Crawdaunt",
          "Baltoy",
          "Claydol",
          "Lileep",
          "Cradily",
          "Anorith",
          "Armaldo",
          "Feebas",
          "Milotic",
          "Castform",
          "Kecleon",
          "Shuppet",
          "Banette",
          "BanetteMega Banette",
          "Duskull",
          "Dusclops",
          "Tropius",
          "Chimecho",
          "Absol",
          "AbsolMega Absol",
          "Wynaut",
          "Snorunt",
          "Glalie",
          "GlalieMega Glalie",
          "Spheal",
          "Sealeo",
          "Walrein",
          "Clamperl",
          "Huntail",
          "Gorebyss",
          "Relicanth",
          "Luvdisc",
          "Bagon",
          "Shelgon",
          "Salamence",
          "SalamenceMega Salamence",
          "Beldum",
          "Metang",
          "Metagross",
          "MetagrossMega Metagross",
          "Regirock",
          "Regice",
          "Registeel",
          "Latias",
          "LatiasMega Latias",
          "Latios",
          "LatiosMega Latios",
          "Kyogre",
          "KyogrePrimal Kyogre",
          "Groudon",
          "GroudonPrimal Groudon",
          "Rayquaza",
          "RayquazaMega Rayquaza",
          "Jirachi",
          "DeoxysNormal Forme",
          "DeoxysAttack Forme",
          "DeoxysDefense Forme",
          "DeoxysSpeed Forme",
          "Turtwig",
          "Grotle",
          "Torterra",
          "Chimchar",
          "Monferno",
          "Infernape",
          "Piplup",
          "Prinplup",
          "Empoleon",
          "Starly",
          "Staravia",
          "Staraptor",
          "Bidoof",
          "Bibarel",
          "Kricketot",
          "Kricketune",
          "Shinx",
          "Luxio",
          "Luxray",
          "Budew",
          "Roserade",
          "Cranidos",
          "Rampardos",
          "Shieldon",
          "Bastiodon",
          "Burmy",
          "WormadamPlant Cloak",
          "WormadamSandy Cloak",
          "WormadamTrash Cloak",
          "Mothim",
          "Combee",
          "Vespiquen",
          "Pachirisu",
          "Buizel",
          "Floatzel",
          "Cherubi",
          "Cherrim",
          "Shellos",
          "Gastrodon",
          "Ambipom",
          "Drifloon",
          "Drifblim",
          "Buneary",
          "Lopunny",
          "LopunnyMega Lopunny",
          "Mismagius",
          "Honchkrow",
          "Glameow",
          "Purugly",
          "Chingling",
          "Stunky",
          "Skuntank",
          "Bronzor",
          "Bronzong",
          "Bonsly",
          "Mime Jr.",
          "Happiny",
          "Chatot",
          "Spiritomb",
          "Gible",
          "Gabite",
          "Garchomp",
          "GarchompMega Garchomp",
          "Munchlax",
          "Riolu",
          "Lucario",
          "LucarioMega Lucario",
          "Hippopotas",
          "Hippowdon",
          "Skorupi",
          "Drapion",
          "Croagunk",
          "Toxicroak",
          "Carnivine",
          "Finneon",
          "Lumineon",
          "Mantyke",
          "Snover",
          "Abomasnow",
          "AbomasnowMega Abomasnow",
          "Weavile",
          "Magnezone",
          "Lickilicky",
          "Rhyperior",
          "Tangrowth",
          "Electivire",
          "Magmortar",
          "Togekiss",
          "Yanmega",
          "Leafeon",
          "Glaceon",
          "Gliscor",
          "Mamoswine",
          "Porygon-Z",
          "Gallade",
          "GalladeMega Gallade",
          "Probopass",
          "Dusknoir",
          "Froslass",
          "Rotom",
          "RotomHeat Rotom",
          "RotomWash Rotom",
          "RotomFrost Rotom",
          "RotomFan Rotom",
          "RotomMow Rotom",
          "Uxie",
          "Mesprit",
          "Azelf",
          "Dialga",
          "Palkia",
          "Heatran",
          "Regigigas",
          "GiratinaAltered Forme",
          "GiratinaOrigin Forme",
          "Cresselia",
          "Phione",
          "Manaphy",
          "Darkrai",
          "ShayminLand Forme",
          "ShayminSky Forme",
          "Arceus",
          "Victini",
          "Snivy",
          "Servine",
          "Serperior",
          "Tepig",
          "Pignite",
          "Emboar",
          "Oshawott",
          "Dewott",
          "Samurott",
          "Patrat",
          "Watchog",
          "Lillipup",
          "Herdier",
          "Stoutland",
          "Purrloin",
          "Liepard",
          "Pansage",
          "Simisage",
          "Pansear",
          "Simisear",
          "Panpour",
          "Simipour",
          "Munna",
          "Musharna",
          "Pidove",
          "Tranquill",
          "Unfezant",
          "Blitzle",
          "Zebstrika",
          "Roggenrola",
          "Boldore",
          "Gigalith",
          "Woobat",
          "Swoobat",
          "Drilbur",
          "Excadrill",
          "Audino",
          "AudinoMega Audino",
          "Timburr",
          "Gurdurr",
          "Conkeldurr",
          "Tympole",
          "Palpitoad",
          "Seismitoad",
          "Throh",
          "Sawk",
          "Sewaddle",
          "Swadloon",
          "Leavanny",
          "Venipede",
          "Whirlipede",
          "Scolipede",
          "Cottonee",
          "Whimsicott",
          "Petilil",
          "Lilligant",
          "Basculin",
          "Sandile",
          "Krokorok",
          "Krookodile",
          "Darumaka",
          "DarmanitanStandard Mode",
          "DarmanitanZen Mode",
          "Maractus",
          "Dwebble",
          "Crustle",
          "Scraggy",
          "Scrafty",
          "Sigilyph",
          "Yamask",
          "Cofagrigus",
          "Tirtouga",
          "Carracosta",
          "Archen",
          "Archeops",
          "Trubbish",
          "Garbodor",
          "Zorua",
          "Zoroark",
          "Minccino",
          "Cinccino",
          "Gothita",
          "Gothorita",
          "Gothitelle",
          "Solosis",
          "Duosion",
          "Reuniclus",
          "Ducklett",
          "Swanna",
          "Vanillite",
          "Vanillish",
          "Vanilluxe",
          "Deerling",
          "Sawsbuck",
          "Emolga",
          "Karrablast",
          "Escavalier",
          "Foongus",
          "Amoonguss",
          "Frillish",
          "Jellicent",
          "Alomomola",
          "Joltik",
          "Galvantula",
          "Ferroseed",
          "Ferrothorn",
          "Klink",
          "Klang",
          "Klinklang",
          "Tynamo",
          "Eelektrik",
          "Eelektross",
          "Elgyem",
          "Beheeyem",
          "Litwick",
          "Lampent",
          "Chandelure",
          "Axew",
          "Fraxure",
          "Haxorus",
          "Cubchoo",
          "Beartic",
          "Cryogonal",
          "Shelmet",
          "Accelgor",
          "Stunfisk",
          "Mienfoo",
          "Mienshao",
          "Druddigon",
          "Golett",
          "Golurk",
          "Pawniard",
          "Bisharp",
          "Bouffalant",
          "Rufflet",
          "Braviary",
          "Vullaby",
          "Mandibuzz",
          "Heatmor",
          "Durant",
          "Deino",
          "Zweilous",
          "Hydreigon",
          "Larvesta",
          "Volcarona",
          "Cobalion",
          "Terrakion",
          "Virizion",
          "TornadusIncarnate Forme",
          "TornadusTherian Forme",
          "ThundurusIncarnate Forme",
          "ThundurusTherian Forme",
          "Reshiram",
          "Zekrom",
          "LandorusIncarnate Forme",
          "LandorusTherian Forme",
          "Kyurem",
          "KyuremBlack Kyurem",
          "KyuremWhite Kyurem",
          "KeldeoOrdinary Forme",
          "KeldeoResolute Forme",
          "MeloettaAria Forme",
          "MeloettaPirouette Forme",
          "Genesect",
          "Chespin",
          "Quilladin",
          "Chesnaught",
          "Fennekin",
          "Braixen",
          "Delphox",
          "Froakie",
          "Frogadier",
          "Greninja",
          "Bunnelby",
          "Diggersby",
          "Fletchling",
          "Fletchinder",
          "Talonflame",
          "Scatterbug",
          "Spewpa",
          "Vivillon",
          "Litleo",
          "Pyroar",
          "Flabébé",
          "Floette",
          "Florges",
          "Skiddo",
          "Gogoat",
          "Pancham",
          "Pangoro",
          "Furfrou",
          "Espurr",
          "MeowsticMale",
          "MeowsticFemale",
          "Honedge",
          "Doublade",
          "AegislashBlade Forme",
          "AegislashShield Forme",
          "Spritzee",
          "Aromatisse",
          "Swirlix",
          "Slurpuff",
          "Inkay",
          "Malamar",
          "Binacle",
          "Barbaracle",
          "Skrelp",
          "Dragalge",
          "Clauncher",
          "Clawitzer",
          "Helioptile",
          "Heliolisk",
          "Tyrunt",
          "Tyrantrum",
          "Amaura",
          "Aurorus",
          "Sylveon",
          "Hawlucha",
          "Dedenne",
          "Carbink",
          "Goomy",
          "Sliggoo",
          "Goodra",
          "Klefki",
          "Phantump",
          "Trevenant",
          "PumpkabooAverage Size",
          "PumpkabooSmall Size",
          "PumpkabooLarge Size",
          "PumpkabooSuper Size",
          "GourgeistAverage Size",
          "GourgeistSmall Size",
          "GourgeistLarge Size",
          "GourgeistSuper Size",
          "Bergmite",
          "Avalugg",
          "Noibat",
          "Noivern",
          "Xerneas",
          "Yveltal",
          "Zygarde50% Forme",
          "Diancie",
          "DiancieMega Diancie",
          "HoopaHoopa Confined",
          "HoopaHoopa Unbound",
          "Volcanion"
         ],
         "xaxis": "x",
         "y": [
          318,
          405,
          525,
          625,
          309,
          405,
          534,
          634,
          634,
          314,
          405,
          530,
          630,
          195,
          205,
          395,
          195,
          205,
          395,
          495,
          251,
          349,
          479,
          579,
          253,
          413,
          262,
          442,
          288,
          438,
          320,
          485,
          300,
          450,
          275,
          365,
          505,
          273,
          365,
          505,
          323,
          483,
          299,
          505,
          270,
          435,
          245,
          455,
          320,
          395,
          490,
          285,
          405,
          305,
          450,
          265,
          405,
          290,
          440,
          320,
          500,
          305,
          455,
          350,
          555,
          300,
          385,
          510,
          310,
          400,
          500,
          590,
          305,
          405,
          505,
          300,
          390,
          490,
          335,
          515,
          300,
          390,
          495,
          410,
          500,
          315,
          490,
          590,
          325,
          465,
          352,
          310,
          460,
          325,
          475,
          325,
          500,
          305,
          525,
          310,
          405,
          500,
          600,
          385,
          328,
          483,
          325,
          475,
          330,
          480,
          325,
          520,
          320,
          425,
          455,
          455,
          385,
          340,
          490,
          345,
          485,
          450,
          435,
          490,
          590,
          295,
          440,
          320,
          450,
          340,
          520,
          460,
          500,
          455,
          490,
          495,
          500,
          600,
          490,
          200,
          540,
          640,
          535,
          288,
          325,
          525,
          525,
          525,
          395,
          355,
          495,
          355,
          495,
          515,
          615,
          540,
          580,
          580,
          580,
          300,
          420,
          600,
          680,
          780,
          780,
          600,
          318,
          405,
          525,
          309,
          405,
          534,
          314,
          405,
          530,
          215,
          415,
          262,
          442,
          265,
          390,
          250,
          390,
          535,
          330,
          460,
          205,
          218,
          210,
          245,
          405,
          320,
          470,
          280,
          365,
          510,
          610,
          490,
          250,
          420,
          410,
          500,
          250,
          340,
          460,
          360,
          180,
          425,
          390,
          210,
          430,
          525,
          525,
          405,
          490,
          435,
          336,
          405,
          455,
          290,
          465,
          415,
          430,
          510,
          610,
          300,
          450,
          430,
          500,
          600,
          505,
          500,
          600,
          430,
          330,
          500,
          250,
          410,
          250,
          450,
          380,
          300,
          480,
          330,
          465,
          465,
          330,
          500,
          600,
          540,
          330,
          500,
          515,
          465,
          250,
          210,
          455,
          305,
          360,
          365,
          490,
          540,
          580,
          580,
          580,
          300,
          410,
          600,
          700,
          680,
          680,
          600,
          310,
          405,
          530,
          630,
          310,
          405,
          530,
          630,
          310,
          405,
          535,
          635,
          220,
          420,
          240,
          420,
          195,
          205,
          395,
          205,
          385,
          220,
          340,
          480,
          220,
          340,
          480,
          270,
          430,
          270,
          430,
          198,
          278,
          518,
          618,
          269,
          414,
          295,
          460,
          280,
          440,
          670,
          266,
          456,
          236,
          240,
          360,
          490,
          237,
          474,
          190,
          375,
          260,
          380,
          380,
          480,
          380,
          480,
          330,
          430,
          530,
          630,
          280,
          410,
          510,
          295,
          475,
          575,
          405,
          405,
          400,
          400,
          400,
          302,
          467,
          305,
          460,
          560,
          400,
          500,
          305,
          460,
          560,
          470,
          330,
          470,
          360,
          290,
          340,
          520,
          335,
          475,
          310,
          490,
          590,
          458,
          458,
          440,
          440,
          288,
          468,
          308,
          468,
          300,
          500,
          355,
          495,
          355,
          495,
          200,
          540,
          420,
          440,
          295,
          455,
          555,
          295,
          455,
          460,
          425,
          465,
          565,
          260,
          300,
          480,
          580,
          290,
          410,
          530,
          345,
          485,
          485,
          485,
          330,
          300,
          420,
          600,
          700,
          300,
          420,
          600,
          700,
          580,
          580,
          580,
          600,
          700,
          600,
          700,
          670,
          770,
          670,
          770,
          680,
          780,
          600,
          600,
          600,
          600,
          600,
          318,
          405,
          525,
          309,
          405,
          534,
          314,
          405,
          530,
          245,
          340,
          485,
          250,
          410,
          194,
          384,
          263,
          363,
          523,
          280,
          515,
          350,
          495,
          350,
          495,
          224,
          424,
          424,
          424,
          424,
          244,
          474,
          405,
          330,
          495,
          275,
          450,
          325,
          475,
          482,
          348,
          498,
          350,
          480,
          580,
          495,
          505,
          310,
          452,
          285,
          329,
          479,
          300,
          500,
          290,
          310,
          220,
          411,
          485,
          300,
          410,
          600,
          700,
          390,
          285,
          525,
          625,
          330,
          525,
          330,
          500,
          300,
          490,
          454,
          330,
          460,
          345,
          334,
          494,
          594,
          510,
          535,
          515,
          535,
          535,
          540,
          540,
          545,
          515,
          525,
          525,
          510,
          530,
          535,
          518,
          618,
          525,
          525,
          480,
          440,
          520,
          520,
          520,
          520,
          520,
          580,
          580,
          580,
          680,
          680,
          600,
          670,
          680,
          680,
          600,
          480,
          600,
          600,
          600,
          600,
          720,
          600,
          308,
          413,
          528,
          308,
          418,
          528,
          308,
          413,
          528,
          255,
          420,
          275,
          370,
          500,
          281,
          446,
          316,
          498,
          316,
          498,
          316,
          498,
          292,
          487,
          264,
          358,
          488,
          295,
          497,
          280,
          390,
          515,
          313,
          425,
          328,
          508,
          445,
          545,
          305,
          405,
          505,
          294,
          384,
          509,
          465,
          465,
          310,
          380,
          500,
          260,
          360,
          485,
          280,
          480,
          280,
          480,
          460,
          292,
          351,
          519,
          315,
          480,
          540,
          461,
          325,
          475,
          348,
          488,
          490,
          303,
          483,
          355,
          495,
          401,
          567,
          329,
          474,
          330,
          510,
          300,
          470,
          290,
          390,
          490,
          290,
          370,
          490,
          305,
          473,
          305,
          395,
          535,
          335,
          475,
          428,
          315,
          495,
          294,
          464,
          335,
          480,
          470,
          319,
          472,
          305,
          489,
          300,
          440,
          520,
          275,
          405,
          515,
          335,
          485,
          275,
          370,
          520,
          320,
          410,
          540,
          305,
          485,
          485,
          305,
          495,
          471,
          350,
          510,
          485,
          303,
          483,
          340,
          490,
          490,
          350,
          510,
          370,
          510,
          484,
          484,
          300,
          420,
          600,
          360,
          550,
          580,
          580,
          580,
          580,
          580,
          580,
          580,
          680,
          680,
          600,
          600,
          660,
          700,
          700,
          580,
          580,
          600,
          600,
          600,
          313,
          405,
          530,
          307,
          409,
          534,
          314,
          405,
          530,
          237,
          423,
          278,
          382,
          499,
          200,
          213,
          411,
          369,
          507,
          303,
          371,
          552,
          350,
          531,
          348,
          495,
          472,
          355,
          466,
          466,
          325,
          448,
          520,
          520,
          341,
          462,
          341,
          480,
          288,
          482,
          306,
          500,
          320,
          494,
          330,
          500,
          289,
          481,
          362,
          521,
          362,
          521,
          525,
          500,
          431,
          500,
          300,
          452,
          600,
          470,
          309,
          474,
          335,
          335,
          335,
          335,
          494,
          494,
          494,
          494,
          304,
          514,
          245,
          535,
          680,
          680,
          600,
          600,
          700,
          600,
          680,
          600
         ],
         "yaxis": "y"
        }
       ],
       "layout": {
        "barmode": "relative",
        "legend": {
         "tracegroupgap": 0
        },
        "margin": {
         "t": 60
        },
        "template": {
         "data": {
          "bar": [
           {
            "error_x": {
             "color": "#2a3f5f"
            },
            "error_y": {
             "color": "#2a3f5f"
            },
            "marker": {
             "line": {
              "color": "#E5ECF6",
              "width": 0.5
             },
             "pattern": {
              "fillmode": "overlay",
              "size": 10,
              "solidity": 0.2
             }
            },
            "type": "bar"
           }
          ],
          "barpolar": [
           {
            "marker": {
             "line": {
              "color": "#E5ECF6",
              "width": 0.5
             },
             "pattern": {
              "fillmode": "overlay",
              "size": 10,
              "solidity": 0.2
             }
            },
            "type": "barpolar"
           }
          ],
          "carpet": [
           {
            "aaxis": {
             "endlinecolor": "#2a3f5f",
             "gridcolor": "white",
             "linecolor": "white",
             "minorgridcolor": "white",
             "startlinecolor": "#2a3f5f"
            },
            "baxis": {
             "endlinecolor": "#2a3f5f",
             "gridcolor": "white",
             "linecolor": "white",
             "minorgridcolor": "white",
             "startlinecolor": "#2a3f5f"
            },
            "type": "carpet"
           }
          ],
          "choropleth": [
           {
            "colorbar": {
             "outlinewidth": 0,
             "ticks": ""
            },
            "type": "choropleth"
           }
          ],
          "contour": [
           {
            "colorbar": {
             "outlinewidth": 0,
             "ticks": ""
            },
            "colorscale": [
             [
              0,
              "#0d0887"
             ],
             [
              0.1111111111111111,
              "#46039f"
             ],
             [
              0.2222222222222222,
              "#7201a8"
             ],
             [
              0.3333333333333333,
              "#9c179e"
             ],
             [
              0.4444444444444444,
              "#bd3786"
             ],
             [
              0.5555555555555556,
              "#d8576b"
             ],
             [
              0.6666666666666666,
              "#ed7953"
             ],
             [
              0.7777777777777778,
              "#fb9f3a"
             ],
             [
              0.8888888888888888,
              "#fdca26"
             ],
             [
              1,
              "#f0f921"
             ]
            ],
            "type": "contour"
           }
          ],
          "contourcarpet": [
           {
            "colorbar": {
             "outlinewidth": 0,
             "ticks": ""
            },
            "type": "contourcarpet"
           }
          ],
          "heatmap": [
           {
            "colorbar": {
             "outlinewidth": 0,
             "ticks": ""
            },
            "colorscale": [
             [
              0,
              "#0d0887"
             ],
             [
              0.1111111111111111,
              "#46039f"
             ],
             [
              0.2222222222222222,
              "#7201a8"
             ],
             [
              0.3333333333333333,
              "#9c179e"
             ],
             [
              0.4444444444444444,
              "#bd3786"
             ],
             [
              0.5555555555555556,
              "#d8576b"
             ],
             [
              0.6666666666666666,
              "#ed7953"
             ],
             [
              0.7777777777777778,
              "#fb9f3a"
             ],
             [
              0.8888888888888888,
              "#fdca26"
             ],
             [
              1,
              "#f0f921"
             ]
            ],
            "type": "heatmap"
           }
          ],
          "heatmapgl": [
           {
            "colorbar": {
             "outlinewidth": 0,
             "ticks": ""
            },
            "colorscale": [
             [
              0,
              "#0d0887"
             ],
             [
              0.1111111111111111,
              "#46039f"
             ],
             [
              0.2222222222222222,
              "#7201a8"
             ],
             [
              0.3333333333333333,
              "#9c179e"
             ],
             [
              0.4444444444444444,
              "#bd3786"
             ],
             [
              0.5555555555555556,
              "#d8576b"
             ],
             [
              0.6666666666666666,
              "#ed7953"
             ],
             [
              0.7777777777777778,
              "#fb9f3a"
             ],
             [
              0.8888888888888888,
              "#fdca26"
             ],
             [
              1,
              "#f0f921"
             ]
            ],
            "type": "heatmapgl"
           }
          ],
          "histogram": [
           {
            "marker": {
             "pattern": {
              "fillmode": "overlay",
              "size": 10,
              "solidity": 0.2
             }
            },
            "type": "histogram"
           }
          ],
          "histogram2d": [
           {
            "colorbar": {
             "outlinewidth": 0,
             "ticks": ""
            },
            "colorscale": [
             [
              0,
              "#0d0887"
             ],
             [
              0.1111111111111111,
              "#46039f"
             ],
             [
              0.2222222222222222,
              "#7201a8"
             ],
             [
              0.3333333333333333,
              "#9c179e"
             ],
             [
              0.4444444444444444,
              "#bd3786"
             ],
             [
              0.5555555555555556,
              "#d8576b"
             ],
             [
              0.6666666666666666,
              "#ed7953"
             ],
             [
              0.7777777777777778,
              "#fb9f3a"
             ],
             [
              0.8888888888888888,
              "#fdca26"
             ],
             [
              1,
              "#f0f921"
             ]
            ],
            "type": "histogram2d"
           }
          ],
          "histogram2dcontour": [
           {
            "colorbar": {
             "outlinewidth": 0,
             "ticks": ""
            },
            "colorscale": [
             [
              0,
              "#0d0887"
             ],
             [
              0.1111111111111111,
              "#46039f"
             ],
             [
              0.2222222222222222,
              "#7201a8"
             ],
             [
              0.3333333333333333,
              "#9c179e"
             ],
             [
              0.4444444444444444,
              "#bd3786"
             ],
             [
              0.5555555555555556,
              "#d8576b"
             ],
             [
              0.6666666666666666,
              "#ed7953"
             ],
             [
              0.7777777777777778,
              "#fb9f3a"
             ],
             [
              0.8888888888888888,
              "#fdca26"
             ],
             [
              1,
              "#f0f921"
             ]
            ],
            "type": "histogram2dcontour"
           }
          ],
          "mesh3d": [
           {
            "colorbar": {
             "outlinewidth": 0,
             "ticks": ""
            },
            "type": "mesh3d"
           }
          ],
          "parcoords": [
           {
            "line": {
             "colorbar": {
              "outlinewidth": 0,
              "ticks": ""
             }
            },
            "type": "parcoords"
           }
          ],
          "pie": [
           {
            "automargin": true,
            "type": "pie"
           }
          ],
          "scatter": [
           {
            "marker": {
             "colorbar": {
              "outlinewidth": 0,
              "ticks": ""
             }
            },
            "type": "scatter"
           }
          ],
          "scatter3d": [
           {
            "line": {
             "colorbar": {
              "outlinewidth": 0,
              "ticks": ""
             }
            },
            "marker": {
             "colorbar": {
              "outlinewidth": 0,
              "ticks": ""
             }
            },
            "type": "scatter3d"
           }
          ],
          "scattercarpet": [
           {
            "marker": {
             "colorbar": {
              "outlinewidth": 0,
              "ticks": ""
             }
            },
            "type": "scattercarpet"
           }
          ],
          "scattergeo": [
           {
            "marker": {
             "colorbar": {
              "outlinewidth": 0,
              "ticks": ""
             }
            },
            "type": "scattergeo"
           }
          ],
          "scattergl": [
           {
            "marker": {
             "colorbar": {
              "outlinewidth": 0,
              "ticks": ""
             }
            },
            "type": "scattergl"
           }
          ],
          "scattermapbox": [
           {
            "marker": {
             "colorbar": {
              "outlinewidth": 0,
              "ticks": ""
             }
            },
            "type": "scattermapbox"
           }
          ],
          "scatterpolar": [
           {
            "marker": {
             "colorbar": {
              "outlinewidth": 0,
              "ticks": ""
             }
            },
            "type": "scatterpolar"
           }
          ],
          "scatterpolargl": [
           {
            "marker": {
             "colorbar": {
              "outlinewidth": 0,
              "ticks": ""
             }
            },
            "type": "scatterpolargl"
           }
          ],
          "scatterternary": [
           {
            "marker": {
             "colorbar": {
              "outlinewidth": 0,
              "ticks": ""
             }
            },
            "type": "scatterternary"
           }
          ],
          "surface": [
           {
            "colorbar": {
             "outlinewidth": 0,
             "ticks": ""
            },
            "colorscale": [
             [
              0,
              "#0d0887"
             ],
             [
              0.1111111111111111,
              "#46039f"
             ],
             [
              0.2222222222222222,
              "#7201a8"
             ],
             [
              0.3333333333333333,
              "#9c179e"
             ],
             [
              0.4444444444444444,
              "#bd3786"
             ],
             [
              0.5555555555555556,
              "#d8576b"
             ],
             [
              0.6666666666666666,
              "#ed7953"
             ],
             [
              0.7777777777777778,
              "#fb9f3a"
             ],
             [
              0.8888888888888888,
              "#fdca26"
             ],
             [
              1,
              "#f0f921"
             ]
            ],
            "type": "surface"
           }
          ],
          "table": [
           {
            "cells": {
             "fill": {
              "color": "#EBF0F8"
             },
             "line": {
              "color": "white"
             }
            },
            "header": {
             "fill": {
              "color": "#C8D4E3"
             },
             "line": {
              "color": "white"
             }
            },
            "type": "table"
           }
          ]
         },
         "layout": {
          "annotationdefaults": {
           "arrowcolor": "#2a3f5f",
           "arrowhead": 0,
           "arrowwidth": 1
          },
          "autotypenumbers": "strict",
          "coloraxis": {
           "colorbar": {
            "outlinewidth": 0,
            "ticks": ""
           }
          },
          "colorscale": {
           "diverging": [
            [
             0,
             "#8e0152"
            ],
            [
             0.1,
             "#c51b7d"
            ],
            [
             0.2,
             "#de77ae"
            ],
            [
             0.3,
             "#f1b6da"
            ],
            [
             0.4,
             "#fde0ef"
            ],
            [
             0.5,
             "#f7f7f7"
            ],
            [
             0.6,
             "#e6f5d0"
            ],
            [
             0.7,
             "#b8e186"
            ],
            [
             0.8,
             "#7fbc41"
            ],
            [
             0.9,
             "#4d9221"
            ],
            [
             1,
             "#276419"
            ]
           ],
           "sequential": [
            [
             0,
             "#0d0887"
            ],
            [
             0.1111111111111111,
             "#46039f"
            ],
            [
             0.2222222222222222,
             "#7201a8"
            ],
            [
             0.3333333333333333,
             "#9c179e"
            ],
            [
             0.4444444444444444,
             "#bd3786"
            ],
            [
             0.5555555555555556,
             "#d8576b"
            ],
            [
             0.6666666666666666,
             "#ed7953"
            ],
            [
             0.7777777777777778,
             "#fb9f3a"
            ],
            [
             0.8888888888888888,
             "#fdca26"
            ],
            [
             1,
             "#f0f921"
            ]
           ],
           "sequentialminus": [
            [
             0,
             "#0d0887"
            ],
            [
             0.1111111111111111,
             "#46039f"
            ],
            [
             0.2222222222222222,
             "#7201a8"
            ],
            [
             0.3333333333333333,
             "#9c179e"
            ],
            [
             0.4444444444444444,
             "#bd3786"
            ],
            [
             0.5555555555555556,
             "#d8576b"
            ],
            [
             0.6666666666666666,
             "#ed7953"
            ],
            [
             0.7777777777777778,
             "#fb9f3a"
            ],
            [
             0.8888888888888888,
             "#fdca26"
            ],
            [
             1,
             "#f0f921"
            ]
           ]
          },
          "colorway": [
           "#636efa",
           "#EF553B",
           "#00cc96",
           "#ab63fa",
           "#FFA15A",
           "#19d3f3",
           "#FF6692",
           "#B6E880",
           "#FF97FF",
           "#FECB52"
          ],
          "font": {
           "color": "#2a3f5f"
          },
          "geo": {
           "bgcolor": "white",
           "lakecolor": "white",
           "landcolor": "#E5ECF6",
           "showlakes": true,
           "showland": true,
           "subunitcolor": "white"
          },
          "hoverlabel": {
           "align": "left"
          },
          "hovermode": "closest",
          "mapbox": {
           "style": "light"
          },
          "paper_bgcolor": "white",
          "plot_bgcolor": "#E5ECF6",
          "polar": {
           "angularaxis": {
            "gridcolor": "white",
            "linecolor": "white",
            "ticks": ""
           },
           "bgcolor": "#E5ECF6",
           "radialaxis": {
            "gridcolor": "white",
            "linecolor": "white",
            "ticks": ""
           }
          },
          "scene": {
           "xaxis": {
            "backgroundcolor": "#E5ECF6",
            "gridcolor": "white",
            "gridwidth": 2,
            "linecolor": "white",
            "showbackground": true,
            "ticks": "",
            "zerolinecolor": "white"
           },
           "yaxis": {
            "backgroundcolor": "#E5ECF6",
            "gridcolor": "white",
            "gridwidth": 2,
            "linecolor": "white",
            "showbackground": true,
            "ticks": "",
            "zerolinecolor": "white"
           },
           "zaxis": {
            "backgroundcolor": "#E5ECF6",
            "gridcolor": "white",
            "gridwidth": 2,
            "linecolor": "white",
            "showbackground": true,
            "ticks": "",
            "zerolinecolor": "white"
           }
          },
          "shapedefaults": {
           "line": {
            "color": "#2a3f5f"
           }
          },
          "ternary": {
           "aaxis": {
            "gridcolor": "white",
            "linecolor": "white",
            "ticks": ""
           },
           "baxis": {
            "gridcolor": "white",
            "linecolor": "white",
            "ticks": ""
           },
           "bgcolor": "#E5ECF6",
           "caxis": {
            "gridcolor": "white",
            "linecolor": "white",
            "ticks": ""
           }
          },
          "title": {
           "x": 0.05
          },
          "xaxis": {
           "automargin": true,
           "gridcolor": "white",
           "linecolor": "white",
           "ticks": "",
           "title": {
            "standoff": 15
           },
           "zerolinecolor": "white",
           "zerolinewidth": 2
          },
          "yaxis": {
           "automargin": true,
           "gridcolor": "white",
           "linecolor": "white",
           "ticks": "",
           "title": {
            "standoff": 15
           },
           "zerolinecolor": "white",
           "zerolinewidth": 2
          }
         }
        },
        "xaxis": {
         "anchor": "y",
         "domain": [
          0,
          1
         ],
         "title": {
          "text": "Name"
         }
        },
        "yaxis": {
         "anchor": "x",
         "domain": [
          0,
          1
         ],
         "title": {
          "text": "Total"
         }
        }
       }
      }
     },
     "metadata": {},
     "output_type": "display_data"
    }
   ],
   "source": [
    "px.bar( data_frame = df, x = 'Name', y = 'Total' )"
   ]
  },
  {
   "cell_type": "code",
   "execution_count": 8,
   "metadata": {},
   "outputs": [
    {
     "data": {
      "application/vnd.plotly.v1+json": {
       "config": {
        "plotlyServerURL": "https://plot.ly"
       },
       "data": [
        {
         "alignmentgroup": "True",
         "hovertemplate": "Type 1=Grass<br>Name=%{x}<br>Total=%{y}<extra></extra>",
         "legendgroup": "Grass",
         "marker": {
          "color": "#636efa",
          "pattern": {
           "shape": ""
          }
         },
         "name": "Grass",
         "offsetgroup": "Grass",
         "orientation": "v",
         "showlegend": true,
         "textposition": "auto",
         "type": "bar",
         "x": [
          "Bulbasaur",
          "Ivysaur",
          "Venusaur",
          "VenusaurMega Venusaur",
          "Oddish",
          "Gloom",
          "Vileplume",
          "Bellsprout",
          "Weepinbell",
          "Victreebel",
          "Exeggcute",
          "Exeggutor",
          "Tangela",
          "Chikorita",
          "Bayleef",
          "Meganium",
          "Bellossom",
          "Hoppip",
          "Skiploom",
          "Jumpluff",
          "Sunkern",
          "Sunflora",
          "Treecko",
          "Grovyle",
          "Sceptile",
          "SceptileMega Sceptile",
          "Seedot",
          "Nuzleaf",
          "Shiftry",
          "Shroomish",
          "Breloom",
          "Roselia",
          "Cacnea",
          "Cacturne",
          "Tropius",
          "Turtwig",
          "Grotle",
          "Torterra",
          "Budew",
          "Roserade",
          "Cherubi",
          "Cherrim",
          "Carnivine",
          "Snover",
          "Abomasnow",
          "AbomasnowMega Abomasnow",
          "Tangrowth",
          "Leafeon",
          "ShayminLand Forme",
          "ShayminSky Forme",
          "Snivy",
          "Servine",
          "Serperior",
          "Pansage",
          "Simisage",
          "Cottonee",
          "Whimsicott",
          "Petilil",
          "Lilligant",
          "Maractus",
          "Foongus",
          "Amoonguss",
          "Ferroseed",
          "Ferrothorn",
          "Virizion",
          "Chespin",
          "Quilladin",
          "Chesnaught",
          "Skiddo",
          "Gogoat"
         ],
         "xaxis": "x",
         "y": [
          318,
          405,
          525,
          625,
          320,
          395,
          490,
          300,
          390,
          490,
          325,
          520,
          435,
          318,
          405,
          525,
          490,
          250,
          340,
          460,
          180,
          425,
          310,
          405,
          530,
          630,
          220,
          340,
          480,
          295,
          460,
          400,
          335,
          475,
          460,
          318,
          405,
          525,
          280,
          515,
          275,
          450,
          454,
          334,
          494,
          594,
          535,
          525,
          600,
          600,
          308,
          413,
          528,
          316,
          498,
          280,
          480,
          280,
          480,
          461,
          294,
          464,
          305,
          489,
          580,
          313,
          405,
          530,
          350,
          531
         ],
         "yaxis": "y"
        },
        {
         "alignmentgroup": "True",
         "hovertemplate": "Type 1=Fire<br>Name=%{x}<br>Total=%{y}<extra></extra>",
         "legendgroup": "Fire",
         "marker": {
          "color": "#EF553B",
          "pattern": {
           "shape": ""
          }
         },
         "name": "Fire",
         "offsetgroup": "Fire",
         "orientation": "v",
         "showlegend": true,
         "textposition": "auto",
         "type": "bar",
         "x": [
          "Charmander",
          "Charmeleon",
          "Charizard",
          "CharizardMega Charizard X",
          "CharizardMega Charizard Y",
          "Vulpix",
          "Ninetales",
          "Growlithe",
          "Arcanine",
          "Ponyta",
          "Rapidash",
          "Magmar",
          "Flareon",
          "Moltres",
          "Cyndaquil",
          "Quilava",
          "Typhlosion",
          "Slugma",
          "Magcargo",
          "Magby",
          "Entei",
          "Ho-oh",
          "Torchic",
          "Combusken",
          "Blaziken",
          "BlazikenMega Blaziken",
          "Numel",
          "Camerupt",
          "CameruptMega Camerupt",
          "Torkoal",
          "Chimchar",
          "Monferno",
          "Infernape",
          "Magmortar",
          "Heatran",
          "Tepig",
          "Pignite",
          "Emboar",
          "Pansear",
          "Simisear",
          "Darumaka",
          "DarmanitanStandard Mode",
          "DarmanitanZen Mode",
          "Heatmor",
          "Fennekin",
          "Braixen",
          "Delphox",
          "Fletchinder",
          "Talonflame",
          "Litleo",
          "Pyroar",
          "Volcanion"
         ],
         "xaxis": "x",
         "y": [
          309,
          405,
          534,
          634,
          634,
          299,
          505,
          350,
          555,
          410,
          500,
          495,
          525,
          580,
          309,
          405,
          534,
          250,
          410,
          365,
          580,
          680,
          310,
          405,
          530,
          630,
          305,
          460,
          560,
          470,
          309,
          405,
          534,
          540,
          600,
          308,
          418,
          528,
          316,
          498,
          315,
          480,
          540,
          484,
          307,
          409,
          534,
          382,
          499,
          369,
          507,
          600
         ],
         "yaxis": "y"
        },
        {
         "alignmentgroup": "True",
         "hovertemplate": "Type 1=Water<br>Name=%{x}<br>Total=%{y}<extra></extra>",
         "legendgroup": "Water",
         "marker": {
          "color": "#00cc96",
          "pattern": {
           "shape": ""
          }
         },
         "name": "Water",
         "offsetgroup": "Water",
         "orientation": "v",
         "showlegend": true,
         "textposition": "auto",
         "type": "bar",
         "x": [
          "Squirtle",
          "Wartortle",
          "Blastoise",
          "BlastoiseMega Blastoise",
          "Psyduck",
          "Golduck",
          "Poliwag",
          "Poliwhirl",
          "Poliwrath",
          "Tentacool",
          "Tentacruel",
          "Slowpoke",
          "Slowbro",
          "SlowbroMega Slowbro",
          "Seel",
          "Dewgong",
          "Shellder",
          "Cloyster",
          "Krabby",
          "Kingler",
          "Horsea",
          "Seadra",
          "Goldeen",
          "Seaking",
          "Staryu",
          "Starmie",
          "Magikarp",
          "Gyarados",
          "GyaradosMega Gyarados",
          "Lapras",
          "Vaporeon",
          "Totodile",
          "Croconaw",
          "Feraligatr",
          "Chinchou",
          "Lanturn",
          "Marill",
          "Azumarill",
          "Politoed",
          "Wooper",
          "Quagsire",
          "Slowking",
          "Qwilfish",
          "Corsola",
          "Remoraid",
          "Octillery",
          "Mantine",
          "Kingdra",
          "Suicune",
          "Mudkip",
          "Marshtomp",
          "Swampert",
          "SwampertMega Swampert",
          "Lotad",
          "Lombre",
          "Ludicolo",
          "Wingull",
          "Pelipper",
          "Carvanha",
          "Sharpedo",
          "SharpedoMega Sharpedo",
          "Wailmer",
          "Wailord",
          "Barboach",
          "Whiscash",
          "Corphish",
          "Crawdaunt",
          "Feebas",
          "Milotic",
          "Clamperl",
          "Huntail",
          "Gorebyss",
          "Relicanth",
          "Luvdisc",
          "Kyogre",
          "KyogrePrimal Kyogre",
          "Piplup",
          "Prinplup",
          "Empoleon",
          "Buizel",
          "Floatzel",
          "Shellos",
          "Gastrodon",
          "Finneon",
          "Lumineon",
          "Mantyke",
          "Palkia",
          "Phione",
          "Manaphy",
          "Oshawott",
          "Dewott",
          "Samurott",
          "Panpour",
          "Simipour",
          "Tympole",
          "Palpitoad",
          "Seismitoad",
          "Basculin",
          "Tirtouga",
          "Carracosta",
          "Ducklett",
          "Swanna",
          "Frillish",
          "Jellicent",
          "Alomomola",
          "KeldeoOrdinary Forme",
          "KeldeoResolute Forme",
          "Froakie",
          "Frogadier",
          "Greninja",
          "Clauncher",
          "Clawitzer"
         ],
         "xaxis": "x",
         "y": [
          314,
          405,
          530,
          630,
          320,
          500,
          300,
          385,
          510,
          335,
          515,
          315,
          490,
          590,
          325,
          475,
          305,
          525,
          325,
          475,
          295,
          440,
          320,
          450,
          340,
          520,
          200,
          540,
          640,
          535,
          525,
          314,
          405,
          530,
          330,
          460,
          250,
          420,
          500,
          210,
          430,
          490,
          430,
          380,
          300,
          480,
          465,
          540,
          580,
          310,
          405,
          535,
          635,
          220,
          340,
          480,
          270,
          430,
          305,
          460,
          560,
          400,
          500,
          288,
          468,
          308,
          468,
          200,
          540,
          345,
          485,
          485,
          485,
          330,
          670,
          770,
          314,
          405,
          530,
          330,
          495,
          325,
          475,
          330,
          460,
          345,
          680,
          480,
          600,
          308,
          413,
          528,
          316,
          498,
          294,
          384,
          509,
          460,
          355,
          495,
          305,
          473,
          335,
          480,
          470,
          580,
          580,
          314,
          405,
          530,
          330,
          500
         ],
         "yaxis": "y"
        },
        {
         "alignmentgroup": "True",
         "hovertemplate": "Type 1=Bug<br>Name=%{x}<br>Total=%{y}<extra></extra>",
         "legendgroup": "Bug",
         "marker": {
          "color": "#ab63fa",
          "pattern": {
           "shape": ""
          }
         },
         "name": "Bug",
         "offsetgroup": "Bug",
         "orientation": "v",
         "showlegend": true,
         "textposition": "auto",
         "type": "bar",
         "x": [
          "Caterpie",
          "Metapod",
          "Butterfree",
          "Weedle",
          "Kakuna",
          "Beedrill",
          "BeedrillMega Beedrill",
          "Paras",
          "Parasect",
          "Venonat",
          "Venomoth",
          "Scyther",
          "Pinsir",
          "PinsirMega Pinsir",
          "Ledyba",
          "Ledian",
          "Spinarak",
          "Ariados",
          "Yanma",
          "Pineco",
          "Forretress",
          "Scizor",
          "ScizorMega Scizor",
          "Shuckle",
          "Heracross",
          "HeracrossMega Heracross",
          "Wurmple",
          "Silcoon",
          "Beautifly",
          "Cascoon",
          "Dustox",
          "Surskit",
          "Masquerain",
          "Nincada",
          "Ninjask",
          "Shedinja",
          "Volbeat",
          "Illumise",
          "Kricketot",
          "Kricketune",
          "Burmy",
          "WormadamPlant Cloak",
          "WormadamSandy Cloak",
          "WormadamTrash Cloak",
          "Mothim",
          "Combee",
          "Vespiquen",
          "Yanmega",
          "Sewaddle",
          "Swadloon",
          "Leavanny",
          "Venipede",
          "Whirlipede",
          "Scolipede",
          "Dwebble",
          "Crustle",
          "Karrablast",
          "Escavalier",
          "Joltik",
          "Galvantula",
          "Shelmet",
          "Accelgor",
          "Durant",
          "Larvesta",
          "Volcarona",
          "Genesect",
          "Scatterbug",
          "Spewpa",
          "Vivillon"
         ],
         "xaxis": "x",
         "y": [
          195,
          205,
          395,
          195,
          205,
          395,
          495,
          285,
          405,
          305,
          450,
          500,
          500,
          600,
          265,
          390,
          250,
          390,
          390,
          290,
          465,
          500,
          600,
          505,
          500,
          600,
          195,
          205,
          395,
          205,
          385,
          269,
          414,
          266,
          456,
          236,
          400,
          400,
          194,
          384,
          224,
          424,
          424,
          424,
          424,
          244,
          474,
          515,
          310,
          380,
          500,
          260,
          360,
          485,
          325,
          475,
          315,
          495,
          319,
          472,
          305,
          495,
          484,
          360,
          550,
          600,
          200,
          213,
          411
         ],
         "yaxis": "y"
        },
        {
         "alignmentgroup": "True",
         "hovertemplate": "Type 1=Normal<br>Name=%{x}<br>Total=%{y}<extra></extra>",
         "legendgroup": "Normal",
         "marker": {
          "color": "#FFA15A",
          "pattern": {
           "shape": ""
          }
         },
         "name": "Normal",
         "offsetgroup": "Normal",
         "orientation": "v",
         "showlegend": true,
         "textposition": "auto",
         "type": "bar",
         "x": [
          "Pidgey",
          "Pidgeotto",
          "Pidgeot",
          "PidgeotMega Pidgeot",
          "Rattata",
          "Raticate",
          "Spearow",
          "Fearow",
          "Jigglypuff",
          "Wigglytuff",
          "Meowth",
          "Persian",
          "Farfetch'd",
          "Doduo",
          "Dodrio",
          "Lickitung",
          "Chansey",
          "Kangaskhan",
          "KangaskhanMega Kangaskhan",
          "Tauros",
          "Ditto",
          "Eevee",
          "Porygon",
          "Snorlax",
          "Sentret",
          "Furret",
          "Hoothoot",
          "Noctowl",
          "Igglybuff",
          "Aipom",
          "Girafarig",
          "Dunsparce",
          "Teddiursa",
          "Ursaring",
          "Porygon2",
          "Stantler",
          "Smeargle",
          "Miltank",
          "Blissey",
          "Zigzagoon",
          "Linoone",
          "Taillow",
          "Swellow",
          "Slakoth",
          "Vigoroth",
          "Slaking",
          "Whismur",
          "Loudred",
          "Exploud",
          "Azurill",
          "Skitty",
          "Delcatty",
          "Spinda",
          "Swablu",
          "Zangoose",
          "Castform",
          "Kecleon",
          "Starly",
          "Staravia",
          "Staraptor",
          "Bidoof",
          "Bibarel",
          "Ambipom",
          "Buneary",
          "Lopunny",
          "LopunnyMega Lopunny",
          "Glameow",
          "Purugly",
          "Happiny",
          "Chatot",
          "Munchlax",
          "Lickilicky",
          "Porygon-Z",
          "Regigigas",
          "Arceus",
          "Patrat",
          "Watchog",
          "Lillipup",
          "Herdier",
          "Stoutland",
          "Pidove",
          "Tranquill",
          "Unfezant",
          "Audino",
          "AudinoMega Audino",
          "Minccino",
          "Cinccino",
          "Deerling",
          "Sawsbuck",
          "Bouffalant",
          "Rufflet",
          "Braviary",
          "MeloettaAria Forme",
          "MeloettaPirouette Forme",
          "Bunnelby",
          "Diggersby",
          "Fletchling",
          "Furfrou"
         ],
         "xaxis": "x",
         "y": [
          251,
          349,
          479,
          579,
          253,
          413,
          262,
          442,
          270,
          435,
          290,
          440,
          352,
          310,
          460,
          385,
          450,
          490,
          590,
          490,
          288,
          325,
          395,
          540,
          215,
          415,
          262,
          442,
          210,
          360,
          455,
          415,
          330,
          500,
          515,
          465,
          250,
          490,
          540,
          240,
          420,
          270,
          430,
          280,
          440,
          670,
          240,
          360,
          490,
          190,
          260,
          380,
          360,
          310,
          458,
          420,
          440,
          245,
          340,
          485,
          250,
          410,
          482,
          350,
          480,
          580,
          310,
          452,
          220,
          411,
          390,
          515,
          535,
          670,
          720,
          255,
          420,
          275,
          370,
          500,
          264,
          358,
          488,
          445,
          545,
          300,
          470,
          335,
          475,
          490,
          350,
          510,
          600,
          600,
          237,
          423,
          278,
          472
         ],
         "yaxis": "y"
        },
        {
         "alignmentgroup": "True",
         "hovertemplate": "Type 1=Poison<br>Name=%{x}<br>Total=%{y}<extra></extra>",
         "legendgroup": "Poison",
         "marker": {
          "color": "#19d3f3",
          "pattern": {
           "shape": ""
          }
         },
         "name": "Poison",
         "offsetgroup": "Poison",
         "orientation": "v",
         "showlegend": true,
         "textposition": "auto",
         "type": "bar",
         "x": [
          "Ekans",
          "Arbok",
          "Nidoran♀",
          "Nidorina",
          "Nidoqueen",
          "Nidoran♂",
          "Nidorino",
          "Nidoking",
          "Zubat",
          "Golbat",
          "Grimer",
          "Muk",
          "Koffing",
          "Weezing",
          "Crobat",
          "Gulpin",
          "Swalot",
          "Seviper",
          "Stunky",
          "Skuntank",
          "Skorupi",
          "Drapion",
          "Croagunk",
          "Toxicroak",
          "Trubbish",
          "Garbodor",
          "Skrelp",
          "Dragalge"
         ],
         "xaxis": "x",
         "y": [
          288,
          438,
          275,
          365,
          505,
          273,
          365,
          505,
          245,
          455,
          325,
          500,
          340,
          490,
          535,
          302,
          467,
          458,
          329,
          479,
          330,
          500,
          300,
          490,
          329,
          474,
          320,
          494
         ],
         "yaxis": "y"
        },
        {
         "alignmentgroup": "True",
         "hovertemplate": "Type 1=Electric<br>Name=%{x}<br>Total=%{y}<extra></extra>",
         "legendgroup": "Electric",
         "marker": {
          "color": "#FF6692",
          "pattern": {
           "shape": ""
          }
         },
         "name": "Electric",
         "offsetgroup": "Electric",
         "orientation": "v",
         "showlegend": true,
         "textposition": "auto",
         "type": "bar",
         "x": [
          "Pikachu",
          "Raichu",
          "Magnemite",
          "Magneton",
          "Voltorb",
          "Electrode",
          "Electabuzz",
          "Jolteon",
          "Zapdos",
          "Pichu",
          "Mareep",
          "Flaaffy",
          "Ampharos",
          "AmpharosMega Ampharos",
          "Elekid",
          "Raikou",
          "Electrike",
          "Manectric",
          "ManectricMega Manectric",
          "Plusle",
          "Minun",
          "Shinx",
          "Luxio",
          "Luxray",
          "Pachirisu",
          "Magnezone",
          "Electivire",
          "Rotom",
          "RotomHeat Rotom",
          "RotomWash Rotom",
          "RotomFrost Rotom",
          "RotomFan Rotom",
          "RotomMow Rotom",
          "Blitzle",
          "Zebstrika",
          "Emolga",
          "Tynamo",
          "Eelektrik",
          "Eelektross",
          "ThundurusIncarnate Forme",
          "ThundurusTherian Forme",
          "Helioptile",
          "Heliolisk",
          "Dedenne"
         ],
         "xaxis": "x",
         "y": [
          320,
          485,
          325,
          465,
          330,
          480,
          490,
          525,
          580,
          205,
          280,
          365,
          510,
          610,
          360,
          580,
          295,
          475,
          575,
          405,
          405,
          263,
          363,
          523,
          405,
          535,
          540,
          440,
          520,
          520,
          520,
          520,
          520,
          295,
          497,
          428,
          275,
          405,
          515,
          580,
          580,
          289,
          481,
          431
         ],
         "yaxis": "y"
        },
        {
         "alignmentgroup": "True",
         "hovertemplate": "Type 1=Ground<br>Name=%{x}<br>Total=%{y}<extra></extra>",
         "legendgroup": "Ground",
         "marker": {
          "color": "#B6E880",
          "pattern": {
           "shape": ""
          }
         },
         "name": "Ground",
         "offsetgroup": "Ground",
         "orientation": "v",
         "showlegend": true,
         "textposition": "auto",
         "type": "bar",
         "x": [
          "Sandshrew",
          "Sandslash",
          "Diglett",
          "Dugtrio",
          "Cubone",
          "Marowak",
          "Rhyhorn",
          "Rhydon",
          "Gligar",
          "Phanpy",
          "Donphan",
          "Trapinch",
          "Vibrava",
          "Flygon",
          "Baltoy",
          "Claydol",
          "Groudon",
          "GroudonPrimal Groudon",
          "Hippopotas",
          "Hippowdon",
          "Rhyperior",
          "Gliscor",
          "Drilbur",
          "Excadrill",
          "Sandile",
          "Krokorok",
          "Krookodile",
          "Stunfisk",
          "Golett",
          "Golurk",
          "LandorusIncarnate Forme",
          "LandorusTherian Forme"
         ],
         "xaxis": "x",
         "y": [
          300,
          450,
          265,
          405,
          320,
          425,
          345,
          485,
          430,
          330,
          500,
          290,
          340,
          520,
          300,
          500,
          670,
          770,
          330,
          525,
          535,
          510,
          328,
          508,
          292,
          351,
          519,
          471,
          303,
          483,
          600,
          600
         ],
         "yaxis": "y"
        },
        {
         "alignmentgroup": "True",
         "hovertemplate": "Type 1=Fairy<br>Name=%{x}<br>Total=%{y}<extra></extra>",
         "legendgroup": "Fairy",
         "marker": {
          "color": "#FF97FF",
          "pattern": {
           "shape": ""
          }
         },
         "name": "Fairy",
         "offsetgroup": "Fairy",
         "orientation": "v",
         "showlegend": true,
         "textposition": "auto",
         "type": "bar",
         "x": [
          "Clefairy",
          "Clefable",
          "Cleffa",
          "Togepi",
          "Togetic",
          "Snubbull",
          "Granbull",
          "Togekiss",
          "Flabébé",
          "Floette",
          "Florges",
          "Spritzee",
          "Aromatisse",
          "Swirlix",
          "Slurpuff",
          "Sylveon",
          "Xerneas"
         ],
         "xaxis": "x",
         "y": [
          323,
          483,
          218,
          245,
          405,
          300,
          450,
          545,
          303,
          371,
          552,
          341,
          462,
          341,
          480,
          525,
          680
         ],
         "yaxis": "y"
        },
        {
         "alignmentgroup": "True",
         "hovertemplate": "Type 1=Fighting<br>Name=%{x}<br>Total=%{y}<extra></extra>",
         "legendgroup": "Fighting",
         "marker": {
          "color": "#FECB52",
          "pattern": {
           "shape": ""
          }
         },
         "name": "Fighting",
         "offsetgroup": "Fighting",
         "orientation": "v",
         "showlegend": true,
         "textposition": "auto",
         "type": "bar",
         "x": [
          "Mankey",
          "Primeape",
          "Machop",
          "Machoke",
          "Machamp",
          "Hitmonlee",
          "Hitmonchan",
          "Tyrogue",
          "Hitmontop",
          "Makuhita",
          "Hariyama",
          "Meditite",
          "Medicham",
          "MedichamMega Medicham",
          "Riolu",
          "Lucario",
          "LucarioMega Lucario",
          "Timburr",
          "Gurdurr",
          "Conkeldurr",
          "Throh",
          "Sawk",
          "Mienfoo",
          "Mienshao",
          "Pancham",
          "Pangoro",
          "Hawlucha"
         ],
         "xaxis": "x",
         "y": [
          305,
          455,
          305,
          405,
          505,
          455,
          455,
          210,
          455,
          237,
          474,
          280,
          410,
          510,
          285,
          525,
          625,
          305,
          405,
          505,
          465,
          465,
          350,
          510,
          348,
          495,
          500
         ],
         "yaxis": "y"
        },
        {
         "alignmentgroup": "True",
         "hovertemplate": "Type 1=Psychic<br>Name=%{x}<br>Total=%{y}<extra></extra>",
         "legendgroup": "Psychic",
         "marker": {
          "color": "#636efa",
          "pattern": {
           "shape": ""
          }
         },
         "name": "Psychic",
         "offsetgroup": "Psychic",
         "orientation": "v",
         "showlegend": true,
         "textposition": "auto",
         "type": "bar",
         "x": [
          "Abra",
          "Kadabra",
          "Alakazam",
          "AlakazamMega Alakazam",
          "Drowzee",
          "Hypno",
          "Mr. Mime",
          "Mewtwo",
          "MewtwoMega Mewtwo X",
          "MewtwoMega Mewtwo Y",
          "Mew",
          "Natu",
          "Xatu",
          "Espeon",
          "Unown",
          "Wobbuffet",
          "Lugia",
          "Celebi",
          "Ralts",
          "Kirlia",
          "Gardevoir",
          "GardevoirMega Gardevoir",
          "Spoink",
          "Grumpig",
          "Chimecho",
          "Wynaut",
          "DeoxysNormal Forme",
          "DeoxysAttack Forme",
          "DeoxysDefense Forme",
          "DeoxysSpeed Forme",
          "Chingling",
          "Mime Jr.",
          "Gallade",
          "GalladeMega Gallade",
          "Uxie",
          "Mesprit",
          "Azelf",
          "Cresselia",
          "Victini",
          "Munna",
          "Musharna",
          "Woobat",
          "Swoobat",
          "Sigilyph",
          "Gothita",
          "Gothorita",
          "Gothitelle",
          "Solosis",
          "Duosion",
          "Reuniclus",
          "Elgyem",
          "Beheeyem",
          "Espurr",
          "MeowsticMale",
          "MeowsticFemale",
          "HoopaHoopa Confined",
          "HoopaHoopa Unbound"
         ],
         "xaxis": "x",
         "y": [
          310,
          400,
          500,
          590,
          328,
          483,
          460,
          680,
          780,
          780,
          600,
          320,
          470,
          525,
          336,
          405,
          680,
          600,
          198,
          278,
          518,
          618,
          330,
          470,
          425,
          260,
          600,
          600,
          600,
          600,
          285,
          310,
          518,
          618,
          580,
          580,
          580,
          600,
          600,
          292,
          487,
          313,
          425,
          490,
          290,
          390,
          490,
          290,
          370,
          490,
          335,
          485,
          355,
          466,
          466,
          600,
          680
         ],
         "yaxis": "y"
        },
        {
         "alignmentgroup": "True",
         "hovertemplate": "Type 1=Rock<br>Name=%{x}<br>Total=%{y}<extra></extra>",
         "legendgroup": "Rock",
         "marker": {
          "color": "#EF553B",
          "pattern": {
           "shape": ""
          }
         },
         "name": "Rock",
         "offsetgroup": "Rock",
         "orientation": "v",
         "showlegend": true,
         "textposition": "auto",
         "type": "bar",
         "x": [
          "Geodude",
          "Graveler",
          "Golem",
          "Onix",
          "Omanyte",
          "Omastar",
          "Kabuto",
          "Kabutops",
          "Aerodactyl",
          "AerodactylMega Aerodactyl",
          "Sudowoodo",
          "Larvitar",
          "Pupitar",
          "Tyranitar",
          "TyranitarMega Tyranitar",
          "Nosepass",
          "Lunatone",
          "Solrock",
          "Lileep",
          "Cradily",
          "Anorith",
          "Armaldo",
          "Regirock",
          "Cranidos",
          "Rampardos",
          "Shieldon",
          "Bastiodon",
          "Bonsly",
          "Probopass",
          "Roggenrola",
          "Boldore",
          "Gigalith",
          "Archen",
          "Archeops",
          "Terrakion",
          "Binacle",
          "Barbaracle",
          "Tyrunt",
          "Tyrantrum",
          "Amaura",
          "Aurorus",
          "Carbink",
          "Diancie",
          "DiancieMega Diancie"
         ],
         "xaxis": "x",
         "y": [
          300,
          390,
          495,
          385,
          355,
          495,
          355,
          495,
          515,
          615,
          410,
          300,
          410,
          600,
          700,
          375,
          440,
          440,
          355,
          495,
          355,
          495,
          580,
          350,
          495,
          350,
          495,
          290,
          525,
          280,
          390,
          515,
          401,
          567,
          580,
          306,
          500,
          362,
          521,
          362,
          521,
          500,
          600,
          700
         ],
         "yaxis": "y"
        },
        {
         "alignmentgroup": "True",
         "hovertemplate": "Type 1=Ghost<br>Name=%{x}<br>Total=%{y}<extra></extra>",
         "legendgroup": "Ghost",
         "marker": {
          "color": "#00cc96",
          "pattern": {
           "shape": ""
          }
         },
         "name": "Ghost",
         "offsetgroup": "Ghost",
         "orientation": "v",
         "showlegend": true,
         "textposition": "auto",
         "type": "bar",
         "x": [
          "Gastly",
          "Haunter",
          "Gengar",
          "GengarMega Gengar",
          "Misdreavus",
          "Shuppet",
          "Banette",
          "BanetteMega Banette",
          "Duskull",
          "Dusclops",
          "Drifloon",
          "Drifblim",
          "Mismagius",
          "Spiritomb",
          "Dusknoir",
          "GiratinaAltered Forme",
          "GiratinaOrigin Forme",
          "Yamask",
          "Cofagrigus",
          "Litwick",
          "Lampent",
          "Chandelure",
          "Phantump",
          "Trevenant",
          "PumpkabooAverage Size",
          "PumpkabooSmall Size",
          "PumpkabooLarge Size",
          "PumpkabooSuper Size",
          "GourgeistAverage Size",
          "GourgeistSmall Size",
          "GourgeistLarge Size",
          "GourgeistSuper Size"
         ],
         "xaxis": "x",
         "y": [
          310,
          405,
          500,
          600,
          435,
          295,
          455,
          555,
          295,
          455,
          348,
          498,
          495,
          485,
          525,
          680,
          680,
          303,
          483,
          275,
          370,
          520,
          309,
          474,
          335,
          335,
          335,
          335,
          494,
          494,
          494,
          494
         ],
         "yaxis": "y"
        },
        {
         "alignmentgroup": "True",
         "hovertemplate": "Type 1=Ice<br>Name=%{x}<br>Total=%{y}<extra></extra>",
         "legendgroup": "Ice",
         "marker": {
          "color": "#ab63fa",
          "pattern": {
           "shape": ""
          }
         },
         "name": "Ice",
         "offsetgroup": "Ice",
         "orientation": "v",
         "showlegend": true,
         "textposition": "auto",
         "type": "bar",
         "x": [
          "Jynx",
          "Articuno",
          "Swinub",
          "Piloswine",
          "Delibird",
          "Smoochum",
          "Snorunt",
          "Glalie",
          "GlalieMega Glalie",
          "Spheal",
          "Sealeo",
          "Walrein",
          "Regice",
          "Glaceon",
          "Mamoswine",
          "Froslass",
          "Vanillite",
          "Vanillish",
          "Vanilluxe",
          "Cubchoo",
          "Beartic",
          "Cryogonal",
          "Bergmite",
          "Avalugg"
         ],
         "xaxis": "x",
         "y": [
          455,
          580,
          250,
          450,
          330,
          305,
          300,
          480,
          580,
          290,
          410,
          530,
          580,
          525,
          530,
          480,
          305,
          395,
          535,
          305,
          485,
          485,
          304,
          514
         ],
         "yaxis": "y"
        },
        {
         "alignmentgroup": "True",
         "hovertemplate": "Type 1=Dragon<br>Name=%{x}<br>Total=%{y}<extra></extra>",
         "legendgroup": "Dragon",
         "marker": {
          "color": "#FFA15A",
          "pattern": {
           "shape": ""
          }
         },
         "name": "Dragon",
         "offsetgroup": "Dragon",
         "orientation": "v",
         "showlegend": true,
         "textposition": "auto",
         "type": "bar",
         "x": [
          "Dratini",
          "Dragonair",
          "Dragonite",
          "Altaria",
          "AltariaMega Altaria",
          "Bagon",
          "Shelgon",
          "Salamence",
          "SalamenceMega Salamence",
          "Latias",
          "LatiasMega Latias",
          "Latios",
          "LatiosMega Latios",
          "Rayquaza",
          "RayquazaMega Rayquaza",
          "Gible",
          "Gabite",
          "Garchomp",
          "GarchompMega Garchomp",
          "Axew",
          "Fraxure",
          "Haxorus",
          "Druddigon",
          "Reshiram",
          "Zekrom",
          "Kyurem",
          "KyuremBlack Kyurem",
          "KyuremWhite Kyurem",
          "Goomy",
          "Sliggoo",
          "Goodra",
          "Zygarde50% Forme"
         ],
         "xaxis": "x",
         "y": [
          300,
          420,
          600,
          490,
          590,
          300,
          420,
          600,
          700,
          600,
          700,
          600,
          700,
          680,
          780,
          300,
          410,
          600,
          700,
          320,
          410,
          540,
          485,
          680,
          680,
          660,
          700,
          700,
          300,
          452,
          600,
          600
         ],
         "yaxis": "y"
        },
        {
         "alignmentgroup": "True",
         "hovertemplate": "Type 1=Dark<br>Name=%{x}<br>Total=%{y}<extra></extra>",
         "legendgroup": "Dark",
         "marker": {
          "color": "#19d3f3",
          "pattern": {
           "shape": ""
          }
         },
         "name": "Dark",
         "offsetgroup": "Dark",
         "orientation": "v",
         "showlegend": true,
         "textposition": "auto",
         "type": "bar",
         "x": [
          "Umbreon",
          "Murkrow",
          "Sneasel",
          "Houndour",
          "Houndoom",
          "HoundoomMega Houndoom",
          "Poochyena",
          "Mightyena",
          "Sableye",
          "SableyeMega Sableye",
          "Absol",
          "AbsolMega Absol",
          "Honchkrow",
          "Weavile",
          "Darkrai",
          "Purrloin",
          "Liepard",
          "Scraggy",
          "Scrafty",
          "Zorua",
          "Zoroark",
          "Pawniard",
          "Bisharp",
          "Vullaby",
          "Mandibuzz",
          "Deino",
          "Zweilous",
          "Hydreigon",
          "Inkay",
          "Malamar",
          "Yveltal"
         ],
         "xaxis": "x",
         "y": [
          525,
          405,
          430,
          330,
          500,
          600,
          220,
          420,
          380,
          480,
          465,
          565,
          505,
          510,
          600,
          281,
          446,
          348,
          488,
          330,
          510,
          340,
          490,
          370,
          510,
          300,
          420,
          600,
          288,
          482,
          680
         ],
         "yaxis": "y"
        },
        {
         "alignmentgroup": "True",
         "hovertemplate": "Type 1=Steel<br>Name=%{x}<br>Total=%{y}<extra></extra>",
         "legendgroup": "Steel",
         "marker": {
          "color": "#FF6692",
          "pattern": {
           "shape": ""
          }
         },
         "name": "Steel",
         "offsetgroup": "Steel",
         "orientation": "v",
         "showlegend": true,
         "textposition": "auto",
         "type": "bar",
         "x": [
          "Steelix",
          "SteelixMega Steelix",
          "Skarmory",
          "Mawile",
          "MawileMega Mawile",
          "Aron",
          "Lairon",
          "Aggron",
          "AggronMega Aggron",
          "Beldum",
          "Metang",
          "Metagross",
          "MetagrossMega Metagross",
          "Registeel",
          "Jirachi",
          "Bronzor",
          "Bronzong",
          "Dialga",
          "Klink",
          "Klang",
          "Klinklang",
          "Cobalion",
          "Honedge",
          "Doublade",
          "AegislashBlade Forme",
          "AegislashShield Forme",
          "Klefki"
         ],
         "xaxis": "x",
         "y": [
          510,
          610,
          465,
          380,
          480,
          330,
          430,
          530,
          630,
          300,
          420,
          600,
          700,
          580,
          600,
          300,
          500,
          680,
          300,
          440,
          520,
          580,
          325,
          448,
          520,
          520,
          470
         ],
         "yaxis": "y"
        },
        {
         "alignmentgroup": "True",
         "hovertemplate": "Type 1=Flying<br>Name=%{x}<br>Total=%{y}<extra></extra>",
         "legendgroup": "Flying",
         "marker": {
          "color": "#B6E880",
          "pattern": {
           "shape": ""
          }
         },
         "name": "Flying",
         "offsetgroup": "Flying",
         "orientation": "v",
         "showlegend": true,
         "textposition": "auto",
         "type": "bar",
         "x": [
          "TornadusIncarnate Forme",
          "TornadusTherian Forme",
          "Noibat",
          "Noivern"
         ],
         "xaxis": "x",
         "y": [
          580,
          580,
          245,
          535
         ],
         "yaxis": "y"
        }
       ],
       "layout": {
        "barmode": "relative",
        "legend": {
         "title": {
          "text": "Type 1"
         },
         "tracegroupgap": 0
        },
        "margin": {
         "t": 60
        },
        "template": {
         "data": {
          "bar": [
           {
            "error_x": {
             "color": "#2a3f5f"
            },
            "error_y": {
             "color": "#2a3f5f"
            },
            "marker": {
             "line": {
              "color": "#E5ECF6",
              "width": 0.5
             },
             "pattern": {
              "fillmode": "overlay",
              "size": 10,
              "solidity": 0.2
             }
            },
            "type": "bar"
           }
          ],
          "barpolar": [
           {
            "marker": {
             "line": {
              "color": "#E5ECF6",
              "width": 0.5
             },
             "pattern": {
              "fillmode": "overlay",
              "size": 10,
              "solidity": 0.2
             }
            },
            "type": "barpolar"
           }
          ],
          "carpet": [
           {
            "aaxis": {
             "endlinecolor": "#2a3f5f",
             "gridcolor": "white",
             "linecolor": "white",
             "minorgridcolor": "white",
             "startlinecolor": "#2a3f5f"
            },
            "baxis": {
             "endlinecolor": "#2a3f5f",
             "gridcolor": "white",
             "linecolor": "white",
             "minorgridcolor": "white",
             "startlinecolor": "#2a3f5f"
            },
            "type": "carpet"
           }
          ],
          "choropleth": [
           {
            "colorbar": {
             "outlinewidth": 0,
             "ticks": ""
            },
            "type": "choropleth"
           }
          ],
          "contour": [
           {
            "colorbar": {
             "outlinewidth": 0,
             "ticks": ""
            },
            "colorscale": [
             [
              0,
              "#0d0887"
             ],
             [
              0.1111111111111111,
              "#46039f"
             ],
             [
              0.2222222222222222,
              "#7201a8"
             ],
             [
              0.3333333333333333,
              "#9c179e"
             ],
             [
              0.4444444444444444,
              "#bd3786"
             ],
             [
              0.5555555555555556,
              "#d8576b"
             ],
             [
              0.6666666666666666,
              "#ed7953"
             ],
             [
              0.7777777777777778,
              "#fb9f3a"
             ],
             [
              0.8888888888888888,
              "#fdca26"
             ],
             [
              1,
              "#f0f921"
             ]
            ],
            "type": "contour"
           }
          ],
          "contourcarpet": [
           {
            "colorbar": {
             "outlinewidth": 0,
             "ticks": ""
            },
            "type": "contourcarpet"
           }
          ],
          "heatmap": [
           {
            "colorbar": {
             "outlinewidth": 0,
             "ticks": ""
            },
            "colorscale": [
             [
              0,
              "#0d0887"
             ],
             [
              0.1111111111111111,
              "#46039f"
             ],
             [
              0.2222222222222222,
              "#7201a8"
             ],
             [
              0.3333333333333333,
              "#9c179e"
             ],
             [
              0.4444444444444444,
              "#bd3786"
             ],
             [
              0.5555555555555556,
              "#d8576b"
             ],
             [
              0.6666666666666666,
              "#ed7953"
             ],
             [
              0.7777777777777778,
              "#fb9f3a"
             ],
             [
              0.8888888888888888,
              "#fdca26"
             ],
             [
              1,
              "#f0f921"
             ]
            ],
            "type": "heatmap"
           }
          ],
          "heatmapgl": [
           {
            "colorbar": {
             "outlinewidth": 0,
             "ticks": ""
            },
            "colorscale": [
             [
              0,
              "#0d0887"
             ],
             [
              0.1111111111111111,
              "#46039f"
             ],
             [
              0.2222222222222222,
              "#7201a8"
             ],
             [
              0.3333333333333333,
              "#9c179e"
             ],
             [
              0.4444444444444444,
              "#bd3786"
             ],
             [
              0.5555555555555556,
              "#d8576b"
             ],
             [
              0.6666666666666666,
              "#ed7953"
             ],
             [
              0.7777777777777778,
              "#fb9f3a"
             ],
             [
              0.8888888888888888,
              "#fdca26"
             ],
             [
              1,
              "#f0f921"
             ]
            ],
            "type": "heatmapgl"
           }
          ],
          "histogram": [
           {
            "marker": {
             "pattern": {
              "fillmode": "overlay",
              "size": 10,
              "solidity": 0.2
             }
            },
            "type": "histogram"
           }
          ],
          "histogram2d": [
           {
            "colorbar": {
             "outlinewidth": 0,
             "ticks": ""
            },
            "colorscale": [
             [
              0,
              "#0d0887"
             ],
             [
              0.1111111111111111,
              "#46039f"
             ],
             [
              0.2222222222222222,
              "#7201a8"
             ],
             [
              0.3333333333333333,
              "#9c179e"
             ],
             [
              0.4444444444444444,
              "#bd3786"
             ],
             [
              0.5555555555555556,
              "#d8576b"
             ],
             [
              0.6666666666666666,
              "#ed7953"
             ],
             [
              0.7777777777777778,
              "#fb9f3a"
             ],
             [
              0.8888888888888888,
              "#fdca26"
             ],
             [
              1,
              "#f0f921"
             ]
            ],
            "type": "histogram2d"
           }
          ],
          "histogram2dcontour": [
           {
            "colorbar": {
             "outlinewidth": 0,
             "ticks": ""
            },
            "colorscale": [
             [
              0,
              "#0d0887"
             ],
             [
              0.1111111111111111,
              "#46039f"
             ],
             [
              0.2222222222222222,
              "#7201a8"
             ],
             [
              0.3333333333333333,
              "#9c179e"
             ],
             [
              0.4444444444444444,
              "#bd3786"
             ],
             [
              0.5555555555555556,
              "#d8576b"
             ],
             [
              0.6666666666666666,
              "#ed7953"
             ],
             [
              0.7777777777777778,
              "#fb9f3a"
             ],
             [
              0.8888888888888888,
              "#fdca26"
             ],
             [
              1,
              "#f0f921"
             ]
            ],
            "type": "histogram2dcontour"
           }
          ],
          "mesh3d": [
           {
            "colorbar": {
             "outlinewidth": 0,
             "ticks": ""
            },
            "type": "mesh3d"
           }
          ],
          "parcoords": [
           {
            "line": {
             "colorbar": {
              "outlinewidth": 0,
              "ticks": ""
             }
            },
            "type": "parcoords"
           }
          ],
          "pie": [
           {
            "automargin": true,
            "type": "pie"
           }
          ],
          "scatter": [
           {
            "marker": {
             "colorbar": {
              "outlinewidth": 0,
              "ticks": ""
             }
            },
            "type": "scatter"
           }
          ],
          "scatter3d": [
           {
            "line": {
             "colorbar": {
              "outlinewidth": 0,
              "ticks": ""
             }
            },
            "marker": {
             "colorbar": {
              "outlinewidth": 0,
              "ticks": ""
             }
            },
            "type": "scatter3d"
           }
          ],
          "scattercarpet": [
           {
            "marker": {
             "colorbar": {
              "outlinewidth": 0,
              "ticks": ""
             }
            },
            "type": "scattercarpet"
           }
          ],
          "scattergeo": [
           {
            "marker": {
             "colorbar": {
              "outlinewidth": 0,
              "ticks": ""
             }
            },
            "type": "scattergeo"
           }
          ],
          "scattergl": [
           {
            "marker": {
             "colorbar": {
              "outlinewidth": 0,
              "ticks": ""
             }
            },
            "type": "scattergl"
           }
          ],
          "scattermapbox": [
           {
            "marker": {
             "colorbar": {
              "outlinewidth": 0,
              "ticks": ""
             }
            },
            "type": "scattermapbox"
           }
          ],
          "scatterpolar": [
           {
            "marker": {
             "colorbar": {
              "outlinewidth": 0,
              "ticks": ""
             }
            },
            "type": "scatterpolar"
           }
          ],
          "scatterpolargl": [
           {
            "marker": {
             "colorbar": {
              "outlinewidth": 0,
              "ticks": ""
             }
            },
            "type": "scatterpolargl"
           }
          ],
          "scatterternary": [
           {
            "marker": {
             "colorbar": {
              "outlinewidth": 0,
              "ticks": ""
             }
            },
            "type": "scatterternary"
           }
          ],
          "surface": [
           {
            "colorbar": {
             "outlinewidth": 0,
             "ticks": ""
            },
            "colorscale": [
             [
              0,
              "#0d0887"
             ],
             [
              0.1111111111111111,
              "#46039f"
             ],
             [
              0.2222222222222222,
              "#7201a8"
             ],
             [
              0.3333333333333333,
              "#9c179e"
             ],
             [
              0.4444444444444444,
              "#bd3786"
             ],
             [
              0.5555555555555556,
              "#d8576b"
             ],
             [
              0.6666666666666666,
              "#ed7953"
             ],
             [
              0.7777777777777778,
              "#fb9f3a"
             ],
             [
              0.8888888888888888,
              "#fdca26"
             ],
             [
              1,
              "#f0f921"
             ]
            ],
            "type": "surface"
           }
          ],
          "table": [
           {
            "cells": {
             "fill": {
              "color": "#EBF0F8"
             },
             "line": {
              "color": "white"
             }
            },
            "header": {
             "fill": {
              "color": "#C8D4E3"
             },
             "line": {
              "color": "white"
             }
            },
            "type": "table"
           }
          ]
         },
         "layout": {
          "annotationdefaults": {
           "arrowcolor": "#2a3f5f",
           "arrowhead": 0,
           "arrowwidth": 1
          },
          "autotypenumbers": "strict",
          "coloraxis": {
           "colorbar": {
            "outlinewidth": 0,
            "ticks": ""
           }
          },
          "colorscale": {
           "diverging": [
            [
             0,
             "#8e0152"
            ],
            [
             0.1,
             "#c51b7d"
            ],
            [
             0.2,
             "#de77ae"
            ],
            [
             0.3,
             "#f1b6da"
            ],
            [
             0.4,
             "#fde0ef"
            ],
            [
             0.5,
             "#f7f7f7"
            ],
            [
             0.6,
             "#e6f5d0"
            ],
            [
             0.7,
             "#b8e186"
            ],
            [
             0.8,
             "#7fbc41"
            ],
            [
             0.9,
             "#4d9221"
            ],
            [
             1,
             "#276419"
            ]
           ],
           "sequential": [
            [
             0,
             "#0d0887"
            ],
            [
             0.1111111111111111,
             "#46039f"
            ],
            [
             0.2222222222222222,
             "#7201a8"
            ],
            [
             0.3333333333333333,
             "#9c179e"
            ],
            [
             0.4444444444444444,
             "#bd3786"
            ],
            [
             0.5555555555555556,
             "#d8576b"
            ],
            [
             0.6666666666666666,
             "#ed7953"
            ],
            [
             0.7777777777777778,
             "#fb9f3a"
            ],
            [
             0.8888888888888888,
             "#fdca26"
            ],
            [
             1,
             "#f0f921"
            ]
           ],
           "sequentialminus": [
            [
             0,
             "#0d0887"
            ],
            [
             0.1111111111111111,
             "#46039f"
            ],
            [
             0.2222222222222222,
             "#7201a8"
            ],
            [
             0.3333333333333333,
             "#9c179e"
            ],
            [
             0.4444444444444444,
             "#bd3786"
            ],
            [
             0.5555555555555556,
             "#d8576b"
            ],
            [
             0.6666666666666666,
             "#ed7953"
            ],
            [
             0.7777777777777778,
             "#fb9f3a"
            ],
            [
             0.8888888888888888,
             "#fdca26"
            ],
            [
             1,
             "#f0f921"
            ]
           ]
          },
          "colorway": [
           "#636efa",
           "#EF553B",
           "#00cc96",
           "#ab63fa",
           "#FFA15A",
           "#19d3f3",
           "#FF6692",
           "#B6E880",
           "#FF97FF",
           "#FECB52"
          ],
          "font": {
           "color": "#2a3f5f"
          },
          "geo": {
           "bgcolor": "white",
           "lakecolor": "white",
           "landcolor": "#E5ECF6",
           "showlakes": true,
           "showland": true,
           "subunitcolor": "white"
          },
          "hoverlabel": {
           "align": "left"
          },
          "hovermode": "closest",
          "mapbox": {
           "style": "light"
          },
          "paper_bgcolor": "white",
          "plot_bgcolor": "#E5ECF6",
          "polar": {
           "angularaxis": {
            "gridcolor": "white",
            "linecolor": "white",
            "ticks": ""
           },
           "bgcolor": "#E5ECF6",
           "radialaxis": {
            "gridcolor": "white",
            "linecolor": "white",
            "ticks": ""
           }
          },
          "scene": {
           "xaxis": {
            "backgroundcolor": "#E5ECF6",
            "gridcolor": "white",
            "gridwidth": 2,
            "linecolor": "white",
            "showbackground": true,
            "ticks": "",
            "zerolinecolor": "white"
           },
           "yaxis": {
            "backgroundcolor": "#E5ECF6",
            "gridcolor": "white",
            "gridwidth": 2,
            "linecolor": "white",
            "showbackground": true,
            "ticks": "",
            "zerolinecolor": "white"
           },
           "zaxis": {
            "backgroundcolor": "#E5ECF6",
            "gridcolor": "white",
            "gridwidth": 2,
            "linecolor": "white",
            "showbackground": true,
            "ticks": "",
            "zerolinecolor": "white"
           }
          },
          "shapedefaults": {
           "line": {
            "color": "#2a3f5f"
           }
          },
          "ternary": {
           "aaxis": {
            "gridcolor": "white",
            "linecolor": "white",
            "ticks": ""
           },
           "baxis": {
            "gridcolor": "white",
            "linecolor": "white",
            "ticks": ""
           },
           "bgcolor": "#E5ECF6",
           "caxis": {
            "gridcolor": "white",
            "linecolor": "white",
            "ticks": ""
           }
          },
          "title": {
           "x": 0.05
          },
          "xaxis": {
           "automargin": true,
           "gridcolor": "white",
           "linecolor": "white",
           "ticks": "",
           "title": {
            "standoff": 15
           },
           "zerolinecolor": "white",
           "zerolinewidth": 2
          },
          "yaxis": {
           "automargin": true,
           "gridcolor": "white",
           "linecolor": "white",
           "ticks": "",
           "title": {
            "standoff": 15
           },
           "zerolinecolor": "white",
           "zerolinewidth": 2
          }
         }
        },
        "xaxis": {
         "anchor": "y",
         "domain": [
          0,
          1
         ],
         "title": {
          "text": "Name"
         }
        },
        "yaxis": {
         "anchor": "x",
         "domain": [
          0,
          1
         ],
         "title": {
          "text": "Total"
         }
        }
       }
      }
     },
     "metadata": {},
     "output_type": "display_data"
    }
   ],
   "source": [
    "px.bar( data_frame = df, x = 'Name', y = 'Total', color=\"Type 1\" )"
   ]
  },
  {
   "cell_type": "code",
   "execution_count": 9,
   "metadata": {},
   "outputs": [
    {
     "data": {
      "application/vnd.plotly.v1+json": {
       "config": {
        "plotlyServerURL": "https://plot.ly"
       },
       "data": [
        {
         "hovertemplate": "<b>%{hovertext}</b><br><br>Type 1=Grass<br>Attack=%{x}<br>Defense=%{y}<extra></extra>",
         "hovertext": [
          "Bulbasaur",
          "Ivysaur",
          "Venusaur",
          "VenusaurMega Venusaur",
          "Oddish",
          "Gloom",
          "Vileplume",
          "Bellsprout",
          "Weepinbell",
          "Victreebel",
          "Exeggcute",
          "Exeggutor",
          "Tangela",
          "Chikorita",
          "Bayleef",
          "Meganium",
          "Bellossom",
          "Hoppip",
          "Skiploom",
          "Jumpluff",
          "Sunkern",
          "Sunflora",
          "Treecko",
          "Grovyle",
          "Sceptile",
          "SceptileMega Sceptile",
          "Seedot",
          "Nuzleaf",
          "Shiftry",
          "Shroomish",
          "Breloom",
          "Roselia",
          "Cacnea",
          "Cacturne",
          "Tropius",
          "Turtwig",
          "Grotle",
          "Torterra",
          "Budew",
          "Roserade",
          "Cherubi",
          "Cherrim",
          "Carnivine",
          "Snover",
          "Abomasnow",
          "AbomasnowMega Abomasnow",
          "Tangrowth",
          "Leafeon",
          "ShayminLand Forme",
          "ShayminSky Forme",
          "Snivy",
          "Servine",
          "Serperior",
          "Pansage",
          "Simisage",
          "Cottonee",
          "Whimsicott",
          "Petilil",
          "Lilligant",
          "Maractus",
          "Foongus",
          "Amoonguss",
          "Ferroseed",
          "Ferrothorn",
          "Virizion",
          "Chespin",
          "Quilladin",
          "Chesnaught",
          "Skiddo",
          "Gogoat"
         ],
         "legendgroup": "Grass",
         "marker": {
          "color": "#636efa",
          "symbol": "circle"
         },
         "mode": "markers",
         "name": "Grass",
         "orientation": "v",
         "showlegend": true,
         "type": "scatter",
         "x": [
          49,
          62,
          82,
          100,
          50,
          65,
          80,
          75,
          90,
          105,
          40,
          95,
          55,
          49,
          62,
          82,
          80,
          35,
          45,
          55,
          30,
          75,
          45,
          65,
          85,
          110,
          40,
          70,
          100,
          40,
          130,
          60,
          85,
          115,
          68,
          68,
          89,
          109,
          30,
          70,
          35,
          60,
          100,
          62,
          92,
          132,
          100,
          110,
          100,
          103,
          45,
          60,
          75,
          53,
          98,
          27,
          67,
          35,
          60,
          86,
          55,
          85,
          50,
          94,
          90,
          61,
          78,
          107,
          65,
          100
         ],
         "xaxis": "x",
         "y": [
          49,
          63,
          83,
          123,
          55,
          70,
          85,
          35,
          50,
          65,
          80,
          85,
          115,
          65,
          80,
          100,
          95,
          40,
          50,
          70,
          30,
          55,
          35,
          45,
          65,
          75,
          50,
          40,
          60,
          60,
          80,
          45,
          40,
          60,
          83,
          64,
          85,
          105,
          35,
          65,
          45,
          70,
          72,
          50,
          75,
          105,
          125,
          130,
          100,
          75,
          55,
          75,
          95,
          48,
          63,
          60,
          85,
          50,
          75,
          67,
          45,
          70,
          91,
          131,
          72,
          65,
          95,
          122,
          48,
          62
         ],
         "yaxis": "y"
        },
        {
         "hovertemplate": "<b>%{hovertext}</b><br><br>Type 1=Fire<br>Attack=%{x}<br>Defense=%{y}<extra></extra>",
         "hovertext": [
          "Charmander",
          "Charmeleon",
          "Charizard",
          "CharizardMega Charizard X",
          "CharizardMega Charizard Y",
          "Vulpix",
          "Ninetales",
          "Growlithe",
          "Arcanine",
          "Ponyta",
          "Rapidash",
          "Magmar",
          "Flareon",
          "Moltres",
          "Cyndaquil",
          "Quilava",
          "Typhlosion",
          "Slugma",
          "Magcargo",
          "Magby",
          "Entei",
          "Ho-oh",
          "Torchic",
          "Combusken",
          "Blaziken",
          "BlazikenMega Blaziken",
          "Numel",
          "Camerupt",
          "CameruptMega Camerupt",
          "Torkoal",
          "Chimchar",
          "Monferno",
          "Infernape",
          "Magmortar",
          "Heatran",
          "Tepig",
          "Pignite",
          "Emboar",
          "Pansear",
          "Simisear",
          "Darumaka",
          "DarmanitanStandard Mode",
          "DarmanitanZen Mode",
          "Heatmor",
          "Fennekin",
          "Braixen",
          "Delphox",
          "Fletchinder",
          "Talonflame",
          "Litleo",
          "Pyroar",
          "Volcanion"
         ],
         "legendgroup": "Fire",
         "marker": {
          "color": "#EF553B",
          "symbol": "circle"
         },
         "mode": "markers",
         "name": "Fire",
         "orientation": "v",
         "showlegend": true,
         "type": "scatter",
         "x": [
          52,
          64,
          84,
          130,
          104,
          41,
          76,
          70,
          110,
          85,
          100,
          95,
          130,
          100,
          52,
          64,
          84,
          40,
          50,
          75,
          115,
          130,
          60,
          85,
          120,
          160,
          60,
          100,
          120,
          85,
          58,
          78,
          104,
          95,
          90,
          63,
          93,
          123,
          53,
          98,
          90,
          140,
          30,
          97,
          45,
          59,
          69,
          73,
          81,
          50,
          68,
          110
         ],
         "xaxis": "x",
         "y": [
          43,
          58,
          78,
          111,
          78,
          40,
          75,
          45,
          80,
          55,
          70,
          57,
          60,
          90,
          43,
          58,
          78,
          40,
          120,
          37,
          85,
          90,
          40,
          60,
          70,
          80,
          40,
          70,
          100,
          140,
          44,
          52,
          71,
          67,
          106,
          45,
          55,
          65,
          48,
          63,
          45,
          55,
          105,
          66,
          40,
          58,
          72,
          55,
          71,
          58,
          72,
          120
         ],
         "yaxis": "y"
        },
        {
         "hovertemplate": "<b>%{hovertext}</b><br><br>Type 1=Water<br>Attack=%{x}<br>Defense=%{y}<extra></extra>",
         "hovertext": [
          "Squirtle",
          "Wartortle",
          "Blastoise",
          "BlastoiseMega Blastoise",
          "Psyduck",
          "Golduck",
          "Poliwag",
          "Poliwhirl",
          "Poliwrath",
          "Tentacool",
          "Tentacruel",
          "Slowpoke",
          "Slowbro",
          "SlowbroMega Slowbro",
          "Seel",
          "Dewgong",
          "Shellder",
          "Cloyster",
          "Krabby",
          "Kingler",
          "Horsea",
          "Seadra",
          "Goldeen",
          "Seaking",
          "Staryu",
          "Starmie",
          "Magikarp",
          "Gyarados",
          "GyaradosMega Gyarados",
          "Lapras",
          "Vaporeon",
          "Totodile",
          "Croconaw",
          "Feraligatr",
          "Chinchou",
          "Lanturn",
          "Marill",
          "Azumarill",
          "Politoed",
          "Wooper",
          "Quagsire",
          "Slowking",
          "Qwilfish",
          "Corsola",
          "Remoraid",
          "Octillery",
          "Mantine",
          "Kingdra",
          "Suicune",
          "Mudkip",
          "Marshtomp",
          "Swampert",
          "SwampertMega Swampert",
          "Lotad",
          "Lombre",
          "Ludicolo",
          "Wingull",
          "Pelipper",
          "Carvanha",
          "Sharpedo",
          "SharpedoMega Sharpedo",
          "Wailmer",
          "Wailord",
          "Barboach",
          "Whiscash",
          "Corphish",
          "Crawdaunt",
          "Feebas",
          "Milotic",
          "Clamperl",
          "Huntail",
          "Gorebyss",
          "Relicanth",
          "Luvdisc",
          "Kyogre",
          "KyogrePrimal Kyogre",
          "Piplup",
          "Prinplup",
          "Empoleon",
          "Buizel",
          "Floatzel",
          "Shellos",
          "Gastrodon",
          "Finneon",
          "Lumineon",
          "Mantyke",
          "Palkia",
          "Phione",
          "Manaphy",
          "Oshawott",
          "Dewott",
          "Samurott",
          "Panpour",
          "Simipour",
          "Tympole",
          "Palpitoad",
          "Seismitoad",
          "Basculin",
          "Tirtouga",
          "Carracosta",
          "Ducklett",
          "Swanna",
          "Frillish",
          "Jellicent",
          "Alomomola",
          "KeldeoOrdinary Forme",
          "KeldeoResolute Forme",
          "Froakie",
          "Frogadier",
          "Greninja",
          "Clauncher",
          "Clawitzer"
         ],
         "legendgroup": "Water",
         "marker": {
          "color": "#00cc96",
          "symbol": "circle"
         },
         "mode": "markers",
         "name": "Water",
         "orientation": "v",
         "showlegend": true,
         "type": "scatter",
         "x": [
          48,
          63,
          83,
          103,
          52,
          82,
          50,
          65,
          95,
          40,
          70,
          65,
          75,
          75,
          45,
          70,
          65,
          95,
          105,
          130,
          40,
          65,
          67,
          92,
          45,
          75,
          10,
          125,
          155,
          85,
          65,
          65,
          80,
          105,
          38,
          58,
          20,
          50,
          75,
          45,
          85,
          75,
          95,
          55,
          65,
          105,
          40,
          95,
          75,
          70,
          85,
          110,
          150,
          30,
          50,
          70,
          30,
          50,
          90,
          120,
          140,
          70,
          90,
          48,
          78,
          80,
          120,
          15,
          60,
          64,
          104,
          84,
          90,
          30,
          100,
          150,
          51,
          66,
          86,
          65,
          105,
          48,
          83,
          49,
          69,
          20,
          120,
          80,
          100,
          55,
          75,
          100,
          53,
          98,
          50,
          65,
          95,
          92,
          78,
          108,
          44,
          87,
          40,
          60,
          75,
          72,
          72,
          56,
          63,
          95,
          53,
          73
         ],
         "xaxis": "x",
         "y": [
          65,
          80,
          100,
          120,
          48,
          78,
          40,
          65,
          95,
          35,
          65,
          65,
          110,
          180,
          55,
          80,
          100,
          180,
          90,
          115,
          70,
          95,
          60,
          65,
          55,
          85,
          55,
          79,
          109,
          80,
          60,
          64,
          80,
          100,
          38,
          58,
          50,
          80,
          75,
          45,
          85,
          80,
          75,
          85,
          35,
          75,
          70,
          95,
          115,
          50,
          70,
          90,
          110,
          30,
          50,
          70,
          30,
          100,
          20,
          40,
          70,
          35,
          45,
          43,
          73,
          65,
          85,
          20,
          79,
          85,
          105,
          105,
          130,
          55,
          90,
          90,
          53,
          68,
          88,
          35,
          55,
          48,
          68,
          56,
          76,
          50,
          100,
          80,
          100,
          45,
          60,
          85,
          48,
          63,
          40,
          55,
          75,
          65,
          103,
          133,
          50,
          63,
          50,
          70,
          80,
          90,
          90,
          40,
          52,
          67,
          62,
          88
         ],
         "yaxis": "y"
        },
        {
         "hovertemplate": "<b>%{hovertext}</b><br><br>Type 1=Bug<br>Attack=%{x}<br>Defense=%{y}<extra></extra>",
         "hovertext": [
          "Caterpie",
          "Metapod",
          "Butterfree",
          "Weedle",
          "Kakuna",
          "Beedrill",
          "BeedrillMega Beedrill",
          "Paras",
          "Parasect",
          "Venonat",
          "Venomoth",
          "Scyther",
          "Pinsir",
          "PinsirMega Pinsir",
          "Ledyba",
          "Ledian",
          "Spinarak",
          "Ariados",
          "Yanma",
          "Pineco",
          "Forretress",
          "Scizor",
          "ScizorMega Scizor",
          "Shuckle",
          "Heracross",
          "HeracrossMega Heracross",
          "Wurmple",
          "Silcoon",
          "Beautifly",
          "Cascoon",
          "Dustox",
          "Surskit",
          "Masquerain",
          "Nincada",
          "Ninjask",
          "Shedinja",
          "Volbeat",
          "Illumise",
          "Kricketot",
          "Kricketune",
          "Burmy",
          "WormadamPlant Cloak",
          "WormadamSandy Cloak",
          "WormadamTrash Cloak",
          "Mothim",
          "Combee",
          "Vespiquen",
          "Yanmega",
          "Sewaddle",
          "Swadloon",
          "Leavanny",
          "Venipede",
          "Whirlipede",
          "Scolipede",
          "Dwebble",
          "Crustle",
          "Karrablast",
          "Escavalier",
          "Joltik",
          "Galvantula",
          "Shelmet",
          "Accelgor",
          "Durant",
          "Larvesta",
          "Volcarona",
          "Genesect",
          "Scatterbug",
          "Spewpa",
          "Vivillon"
         ],
         "legendgroup": "Bug",
         "marker": {
          "color": "#ab63fa",
          "symbol": "circle"
         },
         "mode": "markers",
         "name": "Bug",
         "orientation": "v",
         "showlegend": true,
         "type": "scatter",
         "x": [
          30,
          20,
          45,
          35,
          25,
          90,
          150,
          70,
          95,
          55,
          65,
          110,
          125,
          155,
          20,
          35,
          60,
          90,
          65,
          65,
          90,
          130,
          150,
          10,
          125,
          185,
          45,
          35,
          70,
          35,
          50,
          30,
          60,
          45,
          90,
          90,
          73,
          47,
          25,
          85,
          29,
          59,
          79,
          69,
          94,
          30,
          80,
          76,
          53,
          63,
          103,
          45,
          55,
          100,
          65,
          95,
          75,
          135,
          47,
          77,
          40,
          70,
          109,
          85,
          60,
          120,
          35,
          22,
          52
         ],
         "xaxis": "x",
         "y": [
          35,
          55,
          50,
          30,
          50,
          40,
          40,
          55,
          80,
          50,
          60,
          80,
          100,
          120,
          30,
          50,
          40,
          70,
          45,
          90,
          140,
          100,
          140,
          230,
          75,
          115,
          35,
          55,
          50,
          55,
          70,
          32,
          62,
          90,
          45,
          45,
          55,
          55,
          41,
          51,
          45,
          85,
          105,
          95,
          50,
          42,
          102,
          86,
          70,
          90,
          80,
          59,
          99,
          89,
          85,
          125,
          45,
          105,
          50,
          60,
          85,
          40,
          112,
          55,
          65,
          95,
          40,
          60,
          50
         ],
         "yaxis": "y"
        },
        {
         "hovertemplate": "<b>%{hovertext}</b><br><br>Type 1=Normal<br>Attack=%{x}<br>Defense=%{y}<extra></extra>",
         "hovertext": [
          "Pidgey",
          "Pidgeotto",
          "Pidgeot",
          "PidgeotMega Pidgeot",
          "Rattata",
          "Raticate",
          "Spearow",
          "Fearow",
          "Jigglypuff",
          "Wigglytuff",
          "Meowth",
          "Persian",
          "Farfetch'd",
          "Doduo",
          "Dodrio",
          "Lickitung",
          "Chansey",
          "Kangaskhan",
          "KangaskhanMega Kangaskhan",
          "Tauros",
          "Ditto",
          "Eevee",
          "Porygon",
          "Snorlax",
          "Sentret",
          "Furret",
          "Hoothoot",
          "Noctowl",
          "Igglybuff",
          "Aipom",
          "Girafarig",
          "Dunsparce",
          "Teddiursa",
          "Ursaring",
          "Porygon2",
          "Stantler",
          "Smeargle",
          "Miltank",
          "Blissey",
          "Zigzagoon",
          "Linoone",
          "Taillow",
          "Swellow",
          "Slakoth",
          "Vigoroth",
          "Slaking",
          "Whismur",
          "Loudred",
          "Exploud",
          "Azurill",
          "Skitty",
          "Delcatty",
          "Spinda",
          "Swablu",
          "Zangoose",
          "Castform",
          "Kecleon",
          "Starly",
          "Staravia",
          "Staraptor",
          "Bidoof",
          "Bibarel",
          "Ambipom",
          "Buneary",
          "Lopunny",
          "LopunnyMega Lopunny",
          "Glameow",
          "Purugly",
          "Happiny",
          "Chatot",
          "Munchlax",
          "Lickilicky",
          "Porygon-Z",
          "Regigigas",
          "Arceus",
          "Patrat",
          "Watchog",
          "Lillipup",
          "Herdier",
          "Stoutland",
          "Pidove",
          "Tranquill",
          "Unfezant",
          "Audino",
          "AudinoMega Audino",
          "Minccino",
          "Cinccino",
          "Deerling",
          "Sawsbuck",
          "Bouffalant",
          "Rufflet",
          "Braviary",
          "MeloettaAria Forme",
          "MeloettaPirouette Forme",
          "Bunnelby",
          "Diggersby",
          "Fletchling",
          "Furfrou"
         ],
         "legendgroup": "Normal",
         "marker": {
          "color": "#FFA15A",
          "symbol": "circle"
         },
         "mode": "markers",
         "name": "Normal",
         "orientation": "v",
         "showlegend": true,
         "type": "scatter",
         "x": [
          45,
          60,
          80,
          80,
          56,
          81,
          60,
          90,
          45,
          70,
          45,
          70,
          65,
          85,
          110,
          55,
          5,
          95,
          125,
          100,
          48,
          55,
          60,
          110,
          46,
          76,
          30,
          50,
          30,
          70,
          80,
          70,
          80,
          130,
          80,
          95,
          20,
          80,
          10,
          30,
          70,
          55,
          85,
          60,
          80,
          160,
          51,
          71,
          91,
          20,
          45,
          65,
          60,
          40,
          115,
          70,
          90,
          55,
          75,
          120,
          45,
          85,
          100,
          66,
          76,
          136,
          55,
          82,
          5,
          65,
          85,
          85,
          80,
          160,
          120,
          55,
          85,
          60,
          80,
          110,
          55,
          77,
          115,
          60,
          60,
          50,
          95,
          60,
          100,
          110,
          83,
          123,
          77,
          128,
          36,
          56,
          50,
          80
         ],
         "xaxis": "x",
         "y": [
          40,
          55,
          75,
          80,
          35,
          60,
          30,
          65,
          20,
          45,
          35,
          60,
          55,
          45,
          70,
          75,
          5,
          80,
          100,
          95,
          48,
          50,
          70,
          65,
          34,
          64,
          30,
          50,
          15,
          55,
          65,
          70,
          50,
          75,
          90,
          62,
          35,
          105,
          10,
          41,
          61,
          30,
          60,
          60,
          80,
          100,
          23,
          43,
          63,
          40,
          45,
          65,
          60,
          60,
          60,
          70,
          70,
          30,
          50,
          70,
          40,
          60,
          66,
          44,
          84,
          94,
          42,
          64,
          5,
          45,
          40,
          95,
          70,
          110,
          120,
          39,
          69,
          45,
          65,
          90,
          50,
          62,
          80,
          86,
          126,
          40,
          60,
          50,
          70,
          95,
          50,
          75,
          77,
          90,
          38,
          77,
          43,
          60
         ],
         "yaxis": "y"
        },
        {
         "hovertemplate": "<b>%{hovertext}</b><br><br>Type 1=Poison<br>Attack=%{x}<br>Defense=%{y}<extra></extra>",
         "hovertext": [
          "Ekans",
          "Arbok",
          "Nidoran♀",
          "Nidorina",
          "Nidoqueen",
          "Nidoran♂",
          "Nidorino",
          "Nidoking",
          "Zubat",
          "Golbat",
          "Grimer",
          "Muk",
          "Koffing",
          "Weezing",
          "Crobat",
          "Gulpin",
          "Swalot",
          "Seviper",
          "Stunky",
          "Skuntank",
          "Skorupi",
          "Drapion",
          "Croagunk",
          "Toxicroak",
          "Trubbish",
          "Garbodor",
          "Skrelp",
          "Dragalge"
         ],
         "legendgroup": "Poison",
         "marker": {
          "color": "#19d3f3",
          "symbol": "circle"
         },
         "mode": "markers",
         "name": "Poison",
         "orientation": "v",
         "showlegend": true,
         "type": "scatter",
         "x": [
          60,
          85,
          47,
          62,
          92,
          57,
          72,
          102,
          45,
          80,
          80,
          105,
          65,
          90,
          90,
          43,
          73,
          100,
          63,
          93,
          50,
          90,
          61,
          106,
          50,
          95,
          60,
          75
         ],
         "xaxis": "x",
         "y": [
          44,
          69,
          52,
          67,
          87,
          40,
          57,
          77,
          35,
          70,
          50,
          75,
          95,
          120,
          80,
          53,
          83,
          60,
          47,
          67,
          90,
          110,
          40,
          65,
          62,
          82,
          60,
          90
         ],
         "yaxis": "y"
        },
        {
         "hovertemplate": "<b>%{hovertext}</b><br><br>Type 1=Electric<br>Attack=%{x}<br>Defense=%{y}<extra></extra>",
         "hovertext": [
          "Pikachu",
          "Raichu",
          "Magnemite",
          "Magneton",
          "Voltorb",
          "Electrode",
          "Electabuzz",
          "Jolteon",
          "Zapdos",
          "Pichu",
          "Mareep",
          "Flaaffy",
          "Ampharos",
          "AmpharosMega Ampharos",
          "Elekid",
          "Raikou",
          "Electrike",
          "Manectric",
          "ManectricMega Manectric",
          "Plusle",
          "Minun",
          "Shinx",
          "Luxio",
          "Luxray",
          "Pachirisu",
          "Magnezone",
          "Electivire",
          "Rotom",
          "RotomHeat Rotom",
          "RotomWash Rotom",
          "RotomFrost Rotom",
          "RotomFan Rotom",
          "RotomMow Rotom",
          "Blitzle",
          "Zebstrika",
          "Emolga",
          "Tynamo",
          "Eelektrik",
          "Eelektross",
          "ThundurusIncarnate Forme",
          "ThundurusTherian Forme",
          "Helioptile",
          "Heliolisk",
          "Dedenne"
         ],
         "legendgroup": "Electric",
         "marker": {
          "color": "#FF6692",
          "symbol": "circle"
         },
         "mode": "markers",
         "name": "Electric",
         "orientation": "v",
         "showlegend": true,
         "type": "scatter",
         "x": [
          55,
          90,
          35,
          60,
          30,
          50,
          83,
          65,
          90,
          40,
          40,
          55,
          75,
          95,
          63,
          85,
          45,
          75,
          75,
          50,
          40,
          65,
          85,
          120,
          45,
          70,
          123,
          50,
          65,
          65,
          65,
          65,
          65,
          60,
          100,
          75,
          55,
          85,
          115,
          115,
          105,
          38,
          55,
          58
         ],
         "xaxis": "x",
         "y": [
          40,
          55,
          70,
          95,
          50,
          70,
          57,
          60,
          85,
          15,
          40,
          55,
          85,
          105,
          37,
          75,
          40,
          60,
          80,
          40,
          50,
          34,
          49,
          79,
          70,
          115,
          67,
          77,
          107,
          107,
          107,
          107,
          107,
          32,
          63,
          60,
          40,
          70,
          80,
          70,
          70,
          33,
          52,
          57
         ],
         "yaxis": "y"
        },
        {
         "hovertemplate": "<b>%{hovertext}</b><br><br>Type 1=Ground<br>Attack=%{x}<br>Defense=%{y}<extra></extra>",
         "hovertext": [
          "Sandshrew",
          "Sandslash",
          "Diglett",
          "Dugtrio",
          "Cubone",
          "Marowak",
          "Rhyhorn",
          "Rhydon",
          "Gligar",
          "Phanpy",
          "Donphan",
          "Trapinch",
          "Vibrava",
          "Flygon",
          "Baltoy",
          "Claydol",
          "Groudon",
          "GroudonPrimal Groudon",
          "Hippopotas",
          "Hippowdon",
          "Rhyperior",
          "Gliscor",
          "Drilbur",
          "Excadrill",
          "Sandile",
          "Krokorok",
          "Krookodile",
          "Stunfisk",
          "Golett",
          "Golurk",
          "LandorusIncarnate Forme",
          "LandorusTherian Forme"
         ],
         "legendgroup": "Ground",
         "marker": {
          "color": "#B6E880",
          "symbol": "circle"
         },
         "mode": "markers",
         "name": "Ground",
         "orientation": "v",
         "showlegend": true,
         "type": "scatter",
         "x": [
          75,
          100,
          55,
          80,
          50,
          80,
          85,
          130,
          75,
          60,
          120,
          100,
          70,
          100,
          40,
          70,
          150,
          180,
          72,
          112,
          140,
          95,
          85,
          135,
          72,
          82,
          117,
          66,
          74,
          124,
          125,
          145
         ],
         "xaxis": "x",
         "y": [
          85,
          110,
          25,
          50,
          95,
          110,
          95,
          120,
          105,
          60,
          120,
          45,
          50,
          80,
          55,
          105,
          140,
          160,
          78,
          118,
          130,
          125,
          40,
          60,
          35,
          45,
          80,
          84,
          50,
          80,
          90,
          90
         ],
         "yaxis": "y"
        },
        {
         "hovertemplate": "<b>%{hovertext}</b><br><br>Type 1=Fairy<br>Attack=%{x}<br>Defense=%{y}<extra></extra>",
         "hovertext": [
          "Clefairy",
          "Clefable",
          "Cleffa",
          "Togepi",
          "Togetic",
          "Snubbull",
          "Granbull",
          "Togekiss",
          "Flabébé",
          "Floette",
          "Florges",
          "Spritzee",
          "Aromatisse",
          "Swirlix",
          "Slurpuff",
          "Sylveon",
          "Xerneas"
         ],
         "legendgroup": "Fairy",
         "marker": {
          "color": "#FF97FF",
          "symbol": "circle"
         },
         "mode": "markers",
         "name": "Fairy",
         "orientation": "v",
         "showlegend": true,
         "type": "scatter",
         "x": [
          45,
          70,
          25,
          20,
          40,
          80,
          120,
          50,
          38,
          45,
          65,
          52,
          72,
          48,
          80,
          65,
          131
         ],
         "xaxis": "x",
         "y": [
          48,
          73,
          28,
          65,
          85,
          50,
          75,
          95,
          39,
          47,
          68,
          60,
          72,
          66,
          86,
          65,
          95
         ],
         "yaxis": "y"
        },
        {
         "hovertemplate": "<b>%{hovertext}</b><br><br>Type 1=Fighting<br>Attack=%{x}<br>Defense=%{y}<extra></extra>",
         "hovertext": [
          "Mankey",
          "Primeape",
          "Machop",
          "Machoke",
          "Machamp",
          "Hitmonlee",
          "Hitmonchan",
          "Tyrogue",
          "Hitmontop",
          "Makuhita",
          "Hariyama",
          "Meditite",
          "Medicham",
          "MedichamMega Medicham",
          "Riolu",
          "Lucario",
          "LucarioMega Lucario",
          "Timburr",
          "Gurdurr",
          "Conkeldurr",
          "Throh",
          "Sawk",
          "Mienfoo",
          "Mienshao",
          "Pancham",
          "Pangoro",
          "Hawlucha"
         ],
         "legendgroup": "Fighting",
         "marker": {
          "color": "#FECB52",
          "symbol": "circle"
         },
         "mode": "markers",
         "name": "Fighting",
         "orientation": "v",
         "showlegend": true,
         "type": "scatter",
         "x": [
          80,
          105,
          80,
          100,
          130,
          120,
          105,
          35,
          95,
          60,
          120,
          40,
          60,
          100,
          70,
          110,
          145,
          80,
          105,
          140,
          100,
          125,
          85,
          125,
          82,
          124,
          92
         ],
         "xaxis": "x",
         "y": [
          35,
          60,
          50,
          70,
          80,
          53,
          79,
          35,
          95,
          30,
          60,
          55,
          75,
          85,
          40,
          70,
          88,
          55,
          85,
          95,
          85,
          75,
          50,
          60,
          62,
          78,
          75
         ],
         "yaxis": "y"
        },
        {
         "hovertemplate": "<b>%{hovertext}</b><br><br>Type 1=Psychic<br>Attack=%{x}<br>Defense=%{y}<extra></extra>",
         "hovertext": [
          "Abra",
          "Kadabra",
          "Alakazam",
          "AlakazamMega Alakazam",
          "Drowzee",
          "Hypno",
          "Mr. Mime",
          "Mewtwo",
          "MewtwoMega Mewtwo X",
          "MewtwoMega Mewtwo Y",
          "Mew",
          "Natu",
          "Xatu",
          "Espeon",
          "Unown",
          "Wobbuffet",
          "Lugia",
          "Celebi",
          "Ralts",
          "Kirlia",
          "Gardevoir",
          "GardevoirMega Gardevoir",
          "Spoink",
          "Grumpig",
          "Chimecho",
          "Wynaut",
          "DeoxysNormal Forme",
          "DeoxysAttack Forme",
          "DeoxysDefense Forme",
          "DeoxysSpeed Forme",
          "Chingling",
          "Mime Jr.",
          "Gallade",
          "GalladeMega Gallade",
          "Uxie",
          "Mesprit",
          "Azelf",
          "Cresselia",
          "Victini",
          "Munna",
          "Musharna",
          "Woobat",
          "Swoobat",
          "Sigilyph",
          "Gothita",
          "Gothorita",
          "Gothitelle",
          "Solosis",
          "Duosion",
          "Reuniclus",
          "Elgyem",
          "Beheeyem",
          "Espurr",
          "MeowsticMale",
          "MeowsticFemale",
          "HoopaHoopa Confined",
          "HoopaHoopa Unbound"
         ],
         "legendgroup": "Psychic",
         "marker": {
          "color": "#636efa",
          "symbol": "circle"
         },
         "mode": "markers",
         "name": "Psychic",
         "orientation": "v",
         "showlegend": true,
         "type": "scatter",
         "x": [
          20,
          35,
          50,
          50,
          48,
          73,
          45,
          110,
          190,
          150,
          100,
          50,
          75,
          65,
          72,
          33,
          90,
          100,
          25,
          35,
          65,
          85,
          25,
          45,
          50,
          23,
          150,
          180,
          70,
          95,
          30,
          25,
          125,
          165,
          75,
          105,
          125,
          70,
          100,
          25,
          55,
          45,
          57,
          58,
          30,
          45,
          55,
          30,
          40,
          65,
          55,
          75,
          48,
          48,
          48,
          110,
          160
         ],
         "xaxis": "x",
         "y": [
          15,
          30,
          45,
          65,
          45,
          70,
          65,
          90,
          100,
          70,
          100,
          45,
          70,
          60,
          48,
          58,
          130,
          100,
          25,
          35,
          65,
          65,
          35,
          65,
          70,
          48,
          50,
          20,
          160,
          90,
          50,
          45,
          65,
          95,
          130,
          105,
          70,
          120,
          100,
          45,
          85,
          43,
          55,
          80,
          50,
          70,
          95,
          40,
          50,
          75,
          55,
          75,
          54,
          76,
          76,
          60,
          60
         ],
         "yaxis": "y"
        },
        {
         "hovertemplate": "<b>%{hovertext}</b><br><br>Type 1=Rock<br>Attack=%{x}<br>Defense=%{y}<extra></extra>",
         "hovertext": [
          "Geodude",
          "Graveler",
          "Golem",
          "Onix",
          "Omanyte",
          "Omastar",
          "Kabuto",
          "Kabutops",
          "Aerodactyl",
          "AerodactylMega Aerodactyl",
          "Sudowoodo",
          "Larvitar",
          "Pupitar",
          "Tyranitar",
          "TyranitarMega Tyranitar",
          "Nosepass",
          "Lunatone",
          "Solrock",
          "Lileep",
          "Cradily",
          "Anorith",
          "Armaldo",
          "Regirock",
          "Cranidos",
          "Rampardos",
          "Shieldon",
          "Bastiodon",
          "Bonsly",
          "Probopass",
          "Roggenrola",
          "Boldore",
          "Gigalith",
          "Archen",
          "Archeops",
          "Terrakion",
          "Binacle",
          "Barbaracle",
          "Tyrunt",
          "Tyrantrum",
          "Amaura",
          "Aurorus",
          "Carbink",
          "Diancie",
          "DiancieMega Diancie"
         ],
         "legendgroup": "Rock",
         "marker": {
          "color": "#EF553B",
          "symbol": "circle"
         },
         "mode": "markers",
         "name": "Rock",
         "orientation": "v",
         "showlegend": true,
         "type": "scatter",
         "x": [
          80,
          95,
          120,
          45,
          40,
          60,
          80,
          115,
          105,
          135,
          100,
          64,
          84,
          134,
          164,
          45,
          55,
          95,
          41,
          81,
          95,
          125,
          100,
          125,
          165,
          42,
          52,
          80,
          55,
          75,
          105,
          135,
          112,
          140,
          129,
          52,
          105,
          89,
          121,
          59,
          77,
          50,
          100,
          160
         ],
         "xaxis": "x",
         "y": [
          100,
          115,
          130,
          160,
          100,
          125,
          90,
          105,
          65,
          85,
          115,
          50,
          70,
          110,
          150,
          135,
          65,
          85,
          77,
          97,
          50,
          100,
          200,
          40,
          60,
          118,
          168,
          95,
          145,
          85,
          105,
          130,
          45,
          65,
          90,
          67,
          115,
          77,
          119,
          50,
          72,
          150,
          150,
          110
         ],
         "yaxis": "y"
        },
        {
         "hovertemplate": "<b>%{hovertext}</b><br><br>Type 1=Ghost<br>Attack=%{x}<br>Defense=%{y}<extra></extra>",
         "hovertext": [
          "Gastly",
          "Haunter",
          "Gengar",
          "GengarMega Gengar",
          "Misdreavus",
          "Shuppet",
          "Banette",
          "BanetteMega Banette",
          "Duskull",
          "Dusclops",
          "Drifloon",
          "Drifblim",
          "Mismagius",
          "Spiritomb",
          "Dusknoir",
          "GiratinaAltered Forme",
          "GiratinaOrigin Forme",
          "Yamask",
          "Cofagrigus",
          "Litwick",
          "Lampent",
          "Chandelure",
          "Phantump",
          "Trevenant",
          "PumpkabooAverage Size",
          "PumpkabooSmall Size",
          "PumpkabooLarge Size",
          "PumpkabooSuper Size",
          "GourgeistAverage Size",
          "GourgeistSmall Size",
          "GourgeistLarge Size",
          "GourgeistSuper Size"
         ],
         "legendgroup": "Ghost",
         "marker": {
          "color": "#00cc96",
          "symbol": "circle"
         },
         "mode": "markers",
         "name": "Ghost",
         "orientation": "v",
         "showlegend": true,
         "type": "scatter",
         "x": [
          35,
          50,
          65,
          65,
          60,
          75,
          115,
          165,
          40,
          70,
          50,
          80,
          60,
          92,
          100,
          100,
          120,
          30,
          50,
          30,
          40,
          55,
          70,
          110,
          66,
          66,
          66,
          66,
          90,
          85,
          95,
          100
         ],
         "xaxis": "x",
         "y": [
          30,
          45,
          60,
          80,
          60,
          35,
          65,
          75,
          90,
          130,
          34,
          44,
          60,
          108,
          135,
          120,
          100,
          85,
          145,
          55,
          60,
          90,
          48,
          76,
          70,
          70,
          70,
          70,
          122,
          122,
          122,
          122
         ],
         "yaxis": "y"
        },
        {
         "hovertemplate": "<b>%{hovertext}</b><br><br>Type 1=Ice<br>Attack=%{x}<br>Defense=%{y}<extra></extra>",
         "hovertext": [
          "Jynx",
          "Articuno",
          "Swinub",
          "Piloswine",
          "Delibird",
          "Smoochum",
          "Snorunt",
          "Glalie",
          "GlalieMega Glalie",
          "Spheal",
          "Sealeo",
          "Walrein",
          "Regice",
          "Glaceon",
          "Mamoswine",
          "Froslass",
          "Vanillite",
          "Vanillish",
          "Vanilluxe",
          "Cubchoo",
          "Beartic",
          "Cryogonal",
          "Bergmite",
          "Avalugg"
         ],
         "legendgroup": "Ice",
         "marker": {
          "color": "#ab63fa",
          "symbol": "circle"
         },
         "mode": "markers",
         "name": "Ice",
         "orientation": "v",
         "showlegend": true,
         "type": "scatter",
         "x": [
          50,
          85,
          50,
          100,
          55,
          30,
          50,
          80,
          120,
          40,
          60,
          80,
          50,
          60,
          130,
          80,
          50,
          65,
          95,
          70,
          110,
          50,
          69,
          117
         ],
         "xaxis": "x",
         "y": [
          35,
          100,
          40,
          80,
          45,
          15,
          50,
          80,
          80,
          50,
          70,
          90,
          100,
          110,
          80,
          70,
          50,
          65,
          85,
          40,
          80,
          30,
          85,
          184
         ],
         "yaxis": "y"
        },
        {
         "hovertemplate": "<b>%{hovertext}</b><br><br>Type 1=Dragon<br>Attack=%{x}<br>Defense=%{y}<extra></extra>",
         "hovertext": [
          "Dratini",
          "Dragonair",
          "Dragonite",
          "Altaria",
          "AltariaMega Altaria",
          "Bagon",
          "Shelgon",
          "Salamence",
          "SalamenceMega Salamence",
          "Latias",
          "LatiasMega Latias",
          "Latios",
          "LatiosMega Latios",
          "Rayquaza",
          "RayquazaMega Rayquaza",
          "Gible",
          "Gabite",
          "Garchomp",
          "GarchompMega Garchomp",
          "Axew",
          "Fraxure",
          "Haxorus",
          "Druddigon",
          "Reshiram",
          "Zekrom",
          "Kyurem",
          "KyuremBlack Kyurem",
          "KyuremWhite Kyurem",
          "Goomy",
          "Sliggoo",
          "Goodra",
          "Zygarde50% Forme"
         ],
         "legendgroup": "Dragon",
         "marker": {
          "color": "#FFA15A",
          "symbol": "circle"
         },
         "mode": "markers",
         "name": "Dragon",
         "orientation": "v",
         "showlegend": true,
         "type": "scatter",
         "x": [
          64,
          84,
          134,
          70,
          110,
          75,
          95,
          135,
          145,
          80,
          100,
          90,
          130,
          150,
          180,
          70,
          90,
          130,
          170,
          87,
          117,
          147,
          120,
          120,
          150,
          130,
          170,
          120,
          50,
          75,
          100,
          100
         ],
         "xaxis": "x",
         "y": [
          45,
          65,
          95,
          90,
          110,
          60,
          100,
          80,
          130,
          90,
          120,
          80,
          100,
          90,
          100,
          45,
          65,
          95,
          115,
          60,
          70,
          90,
          90,
          100,
          120,
          90,
          100,
          90,
          35,
          53,
          70,
          121
         ],
         "yaxis": "y"
        },
        {
         "hovertemplate": "<b>%{hovertext}</b><br><br>Type 1=Dark<br>Attack=%{x}<br>Defense=%{y}<extra></extra>",
         "hovertext": [
          "Umbreon",
          "Murkrow",
          "Sneasel",
          "Houndour",
          "Houndoom",
          "HoundoomMega Houndoom",
          "Poochyena",
          "Mightyena",
          "Sableye",
          "SableyeMega Sableye",
          "Absol",
          "AbsolMega Absol",
          "Honchkrow",
          "Weavile",
          "Darkrai",
          "Purrloin",
          "Liepard",
          "Scraggy",
          "Scrafty",
          "Zorua",
          "Zoroark",
          "Pawniard",
          "Bisharp",
          "Vullaby",
          "Mandibuzz",
          "Deino",
          "Zweilous",
          "Hydreigon",
          "Inkay",
          "Malamar",
          "Yveltal"
         ],
         "legendgroup": "Dark",
         "marker": {
          "color": "#19d3f3",
          "symbol": "circle"
         },
         "mode": "markers",
         "name": "Dark",
         "orientation": "v",
         "showlegend": true,
         "type": "scatter",
         "x": [
          65,
          85,
          95,
          60,
          90,
          90,
          55,
          90,
          75,
          85,
          130,
          150,
          125,
          120,
          90,
          50,
          88,
          75,
          90,
          65,
          105,
          85,
          125,
          55,
          65,
          65,
          85,
          105,
          54,
          92,
          131
         ],
         "xaxis": "x",
         "y": [
          110,
          42,
          55,
          30,
          50,
          90,
          35,
          70,
          75,
          125,
          60,
          60,
          52,
          65,
          90,
          37,
          50,
          70,
          115,
          40,
          60,
          70,
          100,
          75,
          105,
          50,
          70,
          90,
          53,
          88,
          95
         ],
         "yaxis": "y"
        },
        {
         "hovertemplate": "<b>%{hovertext}</b><br><br>Type 1=Steel<br>Attack=%{x}<br>Defense=%{y}<extra></extra>",
         "hovertext": [
          "Steelix",
          "SteelixMega Steelix",
          "Skarmory",
          "Mawile",
          "MawileMega Mawile",
          "Aron",
          "Lairon",
          "Aggron",
          "AggronMega Aggron",
          "Beldum",
          "Metang",
          "Metagross",
          "MetagrossMega Metagross",
          "Registeel",
          "Jirachi",
          "Bronzor",
          "Bronzong",
          "Dialga",
          "Klink",
          "Klang",
          "Klinklang",
          "Cobalion",
          "Honedge",
          "Doublade",
          "AegislashBlade Forme",
          "AegislashShield Forme",
          "Klefki"
         ],
         "legendgroup": "Steel",
         "marker": {
          "color": "#FF6692",
          "symbol": "circle"
         },
         "mode": "markers",
         "name": "Steel",
         "orientation": "v",
         "showlegend": true,
         "type": "scatter",
         "x": [
          85,
          125,
          80,
          85,
          105,
          70,
          90,
          110,
          140,
          55,
          75,
          135,
          145,
          75,
          100,
          24,
          89,
          120,
          55,
          80,
          100,
          90,
          80,
          110,
          150,
          50,
          80
         ],
         "xaxis": "x",
         "y": [
          200,
          230,
          140,
          85,
          125,
          100,
          140,
          180,
          230,
          80,
          100,
          130,
          150,
          150,
          100,
          86,
          116,
          120,
          70,
          95,
          115,
          129,
          100,
          150,
          50,
          150,
          91
         ],
         "yaxis": "y"
        },
        {
         "hovertemplate": "<b>%{hovertext}</b><br><br>Type 1=Flying<br>Attack=%{x}<br>Defense=%{y}<extra></extra>",
         "hovertext": [
          "TornadusIncarnate Forme",
          "TornadusTherian Forme",
          "Noibat",
          "Noivern"
         ],
         "legendgroup": "Flying",
         "marker": {
          "color": "#B6E880",
          "symbol": "circle"
         },
         "mode": "markers",
         "name": "Flying",
         "orientation": "v",
         "showlegend": true,
         "type": "scatter",
         "x": [
          115,
          100,
          30,
          70
         ],
         "xaxis": "x",
         "y": [
          70,
          80,
          35,
          80
         ],
         "yaxis": "y"
        }
       ],
       "layout": {
        "legend": {
         "title": {
          "text": "Type 1"
         },
         "tracegroupgap": 0
        },
        "margin": {
         "t": 60
        },
        "template": {
         "data": {
          "bar": [
           {
            "error_x": {
             "color": "#f2f5fa"
            },
            "error_y": {
             "color": "#f2f5fa"
            },
            "marker": {
             "line": {
              "color": "rgb(17,17,17)",
              "width": 0.5
             },
             "pattern": {
              "fillmode": "overlay",
              "size": 10,
              "solidity": 0.2
             }
            },
            "type": "bar"
           }
          ],
          "barpolar": [
           {
            "marker": {
             "line": {
              "color": "rgb(17,17,17)",
              "width": 0.5
             },
             "pattern": {
              "fillmode": "overlay",
              "size": 10,
              "solidity": 0.2
             }
            },
            "type": "barpolar"
           }
          ],
          "carpet": [
           {
            "aaxis": {
             "endlinecolor": "#A2B1C6",
             "gridcolor": "#506784",
             "linecolor": "#506784",
             "minorgridcolor": "#506784",
             "startlinecolor": "#A2B1C6"
            },
            "baxis": {
             "endlinecolor": "#A2B1C6",
             "gridcolor": "#506784",
             "linecolor": "#506784",
             "minorgridcolor": "#506784",
             "startlinecolor": "#A2B1C6"
            },
            "type": "carpet"
           }
          ],
          "choropleth": [
           {
            "colorbar": {
             "outlinewidth": 0,
             "ticks": ""
            },
            "type": "choropleth"
           }
          ],
          "contour": [
           {
            "colorbar": {
             "outlinewidth": 0,
             "ticks": ""
            },
            "colorscale": [
             [
              0,
              "#0d0887"
             ],
             [
              0.1111111111111111,
              "#46039f"
             ],
             [
              0.2222222222222222,
              "#7201a8"
             ],
             [
              0.3333333333333333,
              "#9c179e"
             ],
             [
              0.4444444444444444,
              "#bd3786"
             ],
             [
              0.5555555555555556,
              "#d8576b"
             ],
             [
              0.6666666666666666,
              "#ed7953"
             ],
             [
              0.7777777777777778,
              "#fb9f3a"
             ],
             [
              0.8888888888888888,
              "#fdca26"
             ],
             [
              1,
              "#f0f921"
             ]
            ],
            "type": "contour"
           }
          ],
          "contourcarpet": [
           {
            "colorbar": {
             "outlinewidth": 0,
             "ticks": ""
            },
            "type": "contourcarpet"
           }
          ],
          "heatmap": [
           {
            "colorbar": {
             "outlinewidth": 0,
             "ticks": ""
            },
            "colorscale": [
             [
              0,
              "#0d0887"
             ],
             [
              0.1111111111111111,
              "#46039f"
             ],
             [
              0.2222222222222222,
              "#7201a8"
             ],
             [
              0.3333333333333333,
              "#9c179e"
             ],
             [
              0.4444444444444444,
              "#bd3786"
             ],
             [
              0.5555555555555556,
              "#d8576b"
             ],
             [
              0.6666666666666666,
              "#ed7953"
             ],
             [
              0.7777777777777778,
              "#fb9f3a"
             ],
             [
              0.8888888888888888,
              "#fdca26"
             ],
             [
              1,
              "#f0f921"
             ]
            ],
            "type": "heatmap"
           }
          ],
          "heatmapgl": [
           {
            "colorbar": {
             "outlinewidth": 0,
             "ticks": ""
            },
            "colorscale": [
             [
              0,
              "#0d0887"
             ],
             [
              0.1111111111111111,
              "#46039f"
             ],
             [
              0.2222222222222222,
              "#7201a8"
             ],
             [
              0.3333333333333333,
              "#9c179e"
             ],
             [
              0.4444444444444444,
              "#bd3786"
             ],
             [
              0.5555555555555556,
              "#d8576b"
             ],
             [
              0.6666666666666666,
              "#ed7953"
             ],
             [
              0.7777777777777778,
              "#fb9f3a"
             ],
             [
              0.8888888888888888,
              "#fdca26"
             ],
             [
              1,
              "#f0f921"
             ]
            ],
            "type": "heatmapgl"
           }
          ],
          "histogram": [
           {
            "marker": {
             "pattern": {
              "fillmode": "overlay",
              "size": 10,
              "solidity": 0.2
             }
            },
            "type": "histogram"
           }
          ],
          "histogram2d": [
           {
            "colorbar": {
             "outlinewidth": 0,
             "ticks": ""
            },
            "colorscale": [
             [
              0,
              "#0d0887"
             ],
             [
              0.1111111111111111,
              "#46039f"
             ],
             [
              0.2222222222222222,
              "#7201a8"
             ],
             [
              0.3333333333333333,
              "#9c179e"
             ],
             [
              0.4444444444444444,
              "#bd3786"
             ],
             [
              0.5555555555555556,
              "#d8576b"
             ],
             [
              0.6666666666666666,
              "#ed7953"
             ],
             [
              0.7777777777777778,
              "#fb9f3a"
             ],
             [
              0.8888888888888888,
              "#fdca26"
             ],
             [
              1,
              "#f0f921"
             ]
            ],
            "type": "histogram2d"
           }
          ],
          "histogram2dcontour": [
           {
            "colorbar": {
             "outlinewidth": 0,
             "ticks": ""
            },
            "colorscale": [
             [
              0,
              "#0d0887"
             ],
             [
              0.1111111111111111,
              "#46039f"
             ],
             [
              0.2222222222222222,
              "#7201a8"
             ],
             [
              0.3333333333333333,
              "#9c179e"
             ],
             [
              0.4444444444444444,
              "#bd3786"
             ],
             [
              0.5555555555555556,
              "#d8576b"
             ],
             [
              0.6666666666666666,
              "#ed7953"
             ],
             [
              0.7777777777777778,
              "#fb9f3a"
             ],
             [
              0.8888888888888888,
              "#fdca26"
             ],
             [
              1,
              "#f0f921"
             ]
            ],
            "type": "histogram2dcontour"
           }
          ],
          "mesh3d": [
           {
            "colorbar": {
             "outlinewidth": 0,
             "ticks": ""
            },
            "type": "mesh3d"
           }
          ],
          "parcoords": [
           {
            "line": {
             "colorbar": {
              "outlinewidth": 0,
              "ticks": ""
             }
            },
            "type": "parcoords"
           }
          ],
          "pie": [
           {
            "automargin": true,
            "type": "pie"
           }
          ],
          "scatter": [
           {
            "marker": {
             "line": {
              "color": "#283442"
             }
            },
            "type": "scatter"
           }
          ],
          "scatter3d": [
           {
            "line": {
             "colorbar": {
              "outlinewidth": 0,
              "ticks": ""
             }
            },
            "marker": {
             "colorbar": {
              "outlinewidth": 0,
              "ticks": ""
             }
            },
            "type": "scatter3d"
           }
          ],
          "scattercarpet": [
           {
            "marker": {
             "colorbar": {
              "outlinewidth": 0,
              "ticks": ""
             }
            },
            "type": "scattercarpet"
           }
          ],
          "scattergeo": [
           {
            "marker": {
             "colorbar": {
              "outlinewidth": 0,
              "ticks": ""
             }
            },
            "type": "scattergeo"
           }
          ],
          "scattergl": [
           {
            "marker": {
             "line": {
              "color": "#283442"
             }
            },
            "type": "scattergl"
           }
          ],
          "scattermapbox": [
           {
            "marker": {
             "colorbar": {
              "outlinewidth": 0,
              "ticks": ""
             }
            },
            "type": "scattermapbox"
           }
          ],
          "scatterpolar": [
           {
            "marker": {
             "colorbar": {
              "outlinewidth": 0,
              "ticks": ""
             }
            },
            "type": "scatterpolar"
           }
          ],
          "scatterpolargl": [
           {
            "marker": {
             "colorbar": {
              "outlinewidth": 0,
              "ticks": ""
             }
            },
            "type": "scatterpolargl"
           }
          ],
          "scatterternary": [
           {
            "marker": {
             "colorbar": {
              "outlinewidth": 0,
              "ticks": ""
             }
            },
            "type": "scatterternary"
           }
          ],
          "surface": [
           {
            "colorbar": {
             "outlinewidth": 0,
             "ticks": ""
            },
            "colorscale": [
             [
              0,
              "#0d0887"
             ],
             [
              0.1111111111111111,
              "#46039f"
             ],
             [
              0.2222222222222222,
              "#7201a8"
             ],
             [
              0.3333333333333333,
              "#9c179e"
             ],
             [
              0.4444444444444444,
              "#bd3786"
             ],
             [
              0.5555555555555556,
              "#d8576b"
             ],
             [
              0.6666666666666666,
              "#ed7953"
             ],
             [
              0.7777777777777778,
              "#fb9f3a"
             ],
             [
              0.8888888888888888,
              "#fdca26"
             ],
             [
              1,
              "#f0f921"
             ]
            ],
            "type": "surface"
           }
          ],
          "table": [
           {
            "cells": {
             "fill": {
              "color": "#506784"
             },
             "line": {
              "color": "rgb(17,17,17)"
             }
            },
            "header": {
             "fill": {
              "color": "#2a3f5f"
             },
             "line": {
              "color": "rgb(17,17,17)"
             }
            },
            "type": "table"
           }
          ]
         },
         "layout": {
          "annotationdefaults": {
           "arrowcolor": "#f2f5fa",
           "arrowhead": 0,
           "arrowwidth": 1
          },
          "autotypenumbers": "strict",
          "coloraxis": {
           "colorbar": {
            "outlinewidth": 0,
            "ticks": ""
           }
          },
          "colorscale": {
           "diverging": [
            [
             0,
             "#8e0152"
            ],
            [
             0.1,
             "#c51b7d"
            ],
            [
             0.2,
             "#de77ae"
            ],
            [
             0.3,
             "#f1b6da"
            ],
            [
             0.4,
             "#fde0ef"
            ],
            [
             0.5,
             "#f7f7f7"
            ],
            [
             0.6,
             "#e6f5d0"
            ],
            [
             0.7,
             "#b8e186"
            ],
            [
             0.8,
             "#7fbc41"
            ],
            [
             0.9,
             "#4d9221"
            ],
            [
             1,
             "#276419"
            ]
           ],
           "sequential": [
            [
             0,
             "#0d0887"
            ],
            [
             0.1111111111111111,
             "#46039f"
            ],
            [
             0.2222222222222222,
             "#7201a8"
            ],
            [
             0.3333333333333333,
             "#9c179e"
            ],
            [
             0.4444444444444444,
             "#bd3786"
            ],
            [
             0.5555555555555556,
             "#d8576b"
            ],
            [
             0.6666666666666666,
             "#ed7953"
            ],
            [
             0.7777777777777778,
             "#fb9f3a"
            ],
            [
             0.8888888888888888,
             "#fdca26"
            ],
            [
             1,
             "#f0f921"
            ]
           ],
           "sequentialminus": [
            [
             0,
             "#0d0887"
            ],
            [
             0.1111111111111111,
             "#46039f"
            ],
            [
             0.2222222222222222,
             "#7201a8"
            ],
            [
             0.3333333333333333,
             "#9c179e"
            ],
            [
             0.4444444444444444,
             "#bd3786"
            ],
            [
             0.5555555555555556,
             "#d8576b"
            ],
            [
             0.6666666666666666,
             "#ed7953"
            ],
            [
             0.7777777777777778,
             "#fb9f3a"
            ],
            [
             0.8888888888888888,
             "#fdca26"
            ],
            [
             1,
             "#f0f921"
            ]
           ]
          },
          "colorway": [
           "#636efa",
           "#EF553B",
           "#00cc96",
           "#ab63fa",
           "#FFA15A",
           "#19d3f3",
           "#FF6692",
           "#B6E880",
           "#FF97FF",
           "#FECB52"
          ],
          "font": {
           "color": "#f2f5fa"
          },
          "geo": {
           "bgcolor": "rgb(17,17,17)",
           "lakecolor": "rgb(17,17,17)",
           "landcolor": "rgb(17,17,17)",
           "showlakes": true,
           "showland": true,
           "subunitcolor": "#506784"
          },
          "hoverlabel": {
           "align": "left"
          },
          "hovermode": "closest",
          "mapbox": {
           "style": "dark"
          },
          "paper_bgcolor": "rgb(17,17,17)",
          "plot_bgcolor": "rgb(17,17,17)",
          "polar": {
           "angularaxis": {
            "gridcolor": "#506784",
            "linecolor": "#506784",
            "ticks": ""
           },
           "bgcolor": "rgb(17,17,17)",
           "radialaxis": {
            "gridcolor": "#506784",
            "linecolor": "#506784",
            "ticks": ""
           }
          },
          "scene": {
           "xaxis": {
            "backgroundcolor": "rgb(17,17,17)",
            "gridcolor": "#506784",
            "gridwidth": 2,
            "linecolor": "#506784",
            "showbackground": true,
            "ticks": "",
            "zerolinecolor": "#C8D4E3"
           },
           "yaxis": {
            "backgroundcolor": "rgb(17,17,17)",
            "gridcolor": "#506784",
            "gridwidth": 2,
            "linecolor": "#506784",
            "showbackground": true,
            "ticks": "",
            "zerolinecolor": "#C8D4E3"
           },
           "zaxis": {
            "backgroundcolor": "rgb(17,17,17)",
            "gridcolor": "#506784",
            "gridwidth": 2,
            "linecolor": "#506784",
            "showbackground": true,
            "ticks": "",
            "zerolinecolor": "#C8D4E3"
           }
          },
          "shapedefaults": {
           "line": {
            "color": "#f2f5fa"
           }
          },
          "sliderdefaults": {
           "bgcolor": "#C8D4E3",
           "bordercolor": "rgb(17,17,17)",
           "borderwidth": 1,
           "tickwidth": 0
          },
          "ternary": {
           "aaxis": {
            "gridcolor": "#506784",
            "linecolor": "#506784",
            "ticks": ""
           },
           "baxis": {
            "gridcolor": "#506784",
            "linecolor": "#506784",
            "ticks": ""
           },
           "bgcolor": "rgb(17,17,17)",
           "caxis": {
            "gridcolor": "#506784",
            "linecolor": "#506784",
            "ticks": ""
           }
          },
          "title": {
           "x": 0.05
          },
          "updatemenudefaults": {
           "bgcolor": "#506784",
           "borderwidth": 0
          },
          "xaxis": {
           "automargin": true,
           "gridcolor": "#283442",
           "linecolor": "#506784",
           "ticks": "",
           "title": {
            "standoff": 15
           },
           "zerolinecolor": "#283442",
           "zerolinewidth": 2
          },
          "yaxis": {
           "automargin": true,
           "gridcolor": "#283442",
           "linecolor": "#506784",
           "ticks": "",
           "title": {
            "standoff": 15
           },
           "zerolinecolor": "#283442",
           "zerolinewidth": 2
          }
         }
        },
        "xaxis": {
         "anchor": "y",
         "domain": [
          0,
          1
         ],
         "title": {
          "text": "Attack"
         }
        },
        "yaxis": {
         "anchor": "x",
         "domain": [
          0,
          1
         ],
         "title": {
          "text": "Defense"
         }
        }
       }
      }
     },
     "metadata": {},
     "output_type": "display_data"
    }
   ],
   "source": [
    "px.scatter( data_frame = df, x = 'Attack', y = 'Defense', color=\"Type 1\", hover_name='Name', template = 'plotly_dark' )"
   ]
  },
  {
   "cell_type": "code",
   "execution_count": 10,
   "metadata": {},
   "outputs": [
    {
     "data": {
      "text/plain": [
       "Templates configuration\n",
       "-----------------------\n",
       "    Default template: 'plotly'\n",
       "    Available templates:\n",
       "        ['ggplot2', 'seaborn', 'simple_white', 'plotly',\n",
       "         'plotly_white', 'plotly_dark', 'presentation', 'xgridoff',\n",
       "         'ygridoff', 'gridon', 'none']"
      ]
     },
     "execution_count": 10,
     "metadata": {},
     "output_type": "execute_result"
    }
   ],
   "source": [
    "import plotly.io as pio\n",
    "pio.templates"
   ]
  },
  {
   "cell_type": "code",
   "execution_count": 11,
   "metadata": {},
   "outputs": [
    {
     "data": {
      "application/vnd.plotly.v1+json": {
       "config": {
        "plotlyServerURL": "https://plot.ly"
       },
       "data": [
        {
         "hovertemplate": "<b>%{hovertext}</b><br><br>Type 1=Grass<br>Attack=%{x}<br>Defense=%{y}<br>Sp. Atk=%{marker.size}<extra></extra>",
         "hovertext": [
          "Bulbasaur",
          "Ivysaur",
          "Venusaur",
          "VenusaurMega Venusaur",
          "Oddish",
          "Gloom",
          "Vileplume",
          "Bellsprout",
          "Weepinbell",
          "Victreebel",
          "Exeggcute",
          "Exeggutor",
          "Tangela",
          "Chikorita",
          "Bayleef",
          "Meganium",
          "Bellossom",
          "Hoppip",
          "Skiploom",
          "Jumpluff",
          "Sunkern",
          "Sunflora",
          "Treecko",
          "Grovyle",
          "Sceptile",
          "SceptileMega Sceptile",
          "Seedot",
          "Nuzleaf",
          "Shiftry",
          "Shroomish",
          "Breloom",
          "Roselia",
          "Cacnea",
          "Cacturne",
          "Tropius",
          "Turtwig",
          "Grotle",
          "Torterra",
          "Budew",
          "Roserade",
          "Cherubi",
          "Cherrim",
          "Carnivine",
          "Snover",
          "Abomasnow",
          "AbomasnowMega Abomasnow",
          "Tangrowth",
          "Leafeon",
          "ShayminLand Forme",
          "ShayminSky Forme",
          "Snivy",
          "Servine",
          "Serperior",
          "Pansage",
          "Simisage",
          "Cottonee",
          "Whimsicott",
          "Petilil",
          "Lilligant",
          "Maractus",
          "Foongus",
          "Amoonguss",
          "Ferroseed",
          "Ferrothorn",
          "Virizion",
          "Chespin",
          "Quilladin",
          "Chesnaught",
          "Skiddo",
          "Gogoat"
         ],
         "legendgroup": "Grass",
         "marker": {
          "color": "#636efa",
          "size": [
           65,
           80,
           100,
           122,
           75,
           85,
           110,
           70,
           85,
           100,
           60,
           125,
           100,
           49,
           63,
           83,
           90,
           35,
           45,
           55,
           30,
           105,
           65,
           85,
           105,
           145,
           30,
           60,
           90,
           40,
           60,
           100,
           85,
           115,
           72,
           45,
           55,
           75,
           50,
           125,
           62,
           87,
           90,
           62,
           92,
           132,
           110,
           60,
           100,
           120,
           45,
           60,
           75,
           53,
           98,
           37,
           77,
           70,
           110,
           106,
           55,
           85,
           24,
           54,
           90,
           48,
           56,
           74,
           62,
           97
          ],
          "sizemode": "area",
          "sizeref": 0.485,
          "symbol": "circle"
         },
         "mode": "markers",
         "name": "Grass",
         "orientation": "v",
         "showlegend": true,
         "type": "scatter",
         "x": [
          49,
          62,
          82,
          100,
          50,
          65,
          80,
          75,
          90,
          105,
          40,
          95,
          55,
          49,
          62,
          82,
          80,
          35,
          45,
          55,
          30,
          75,
          45,
          65,
          85,
          110,
          40,
          70,
          100,
          40,
          130,
          60,
          85,
          115,
          68,
          68,
          89,
          109,
          30,
          70,
          35,
          60,
          100,
          62,
          92,
          132,
          100,
          110,
          100,
          103,
          45,
          60,
          75,
          53,
          98,
          27,
          67,
          35,
          60,
          86,
          55,
          85,
          50,
          94,
          90,
          61,
          78,
          107,
          65,
          100
         ],
         "xaxis": "x",
         "y": [
          49,
          63,
          83,
          123,
          55,
          70,
          85,
          35,
          50,
          65,
          80,
          85,
          115,
          65,
          80,
          100,
          95,
          40,
          50,
          70,
          30,
          55,
          35,
          45,
          65,
          75,
          50,
          40,
          60,
          60,
          80,
          45,
          40,
          60,
          83,
          64,
          85,
          105,
          35,
          65,
          45,
          70,
          72,
          50,
          75,
          105,
          125,
          130,
          100,
          75,
          55,
          75,
          95,
          48,
          63,
          60,
          85,
          50,
          75,
          67,
          45,
          70,
          91,
          131,
          72,
          65,
          95,
          122,
          48,
          62
         ],
         "yaxis": "y"
        },
        {
         "hovertemplate": "<b>%{hovertext}</b><br><br>Type 1=Fire<br>Attack=%{x}<br>Defense=%{y}<br>Sp. Atk=%{marker.size}<extra></extra>",
         "hovertext": [
          "Charmander",
          "Charmeleon",
          "Charizard",
          "CharizardMega Charizard X",
          "CharizardMega Charizard Y",
          "Vulpix",
          "Ninetales",
          "Growlithe",
          "Arcanine",
          "Ponyta",
          "Rapidash",
          "Magmar",
          "Flareon",
          "Moltres",
          "Cyndaquil",
          "Quilava",
          "Typhlosion",
          "Slugma",
          "Magcargo",
          "Magby",
          "Entei",
          "Ho-oh",
          "Torchic",
          "Combusken",
          "Blaziken",
          "BlazikenMega Blaziken",
          "Numel",
          "Camerupt",
          "CameruptMega Camerupt",
          "Torkoal",
          "Chimchar",
          "Monferno",
          "Infernape",
          "Magmortar",
          "Heatran",
          "Tepig",
          "Pignite",
          "Emboar",
          "Pansear",
          "Simisear",
          "Darumaka",
          "DarmanitanStandard Mode",
          "DarmanitanZen Mode",
          "Heatmor",
          "Fennekin",
          "Braixen",
          "Delphox",
          "Fletchinder",
          "Talonflame",
          "Litleo",
          "Pyroar",
          "Volcanion"
         ],
         "legendgroup": "Fire",
         "marker": {
          "color": "#EF553B",
          "size": [
           60,
           80,
           109,
           130,
           159,
           50,
           81,
           70,
           100,
           65,
           80,
           100,
           95,
           125,
           60,
           80,
           109,
           70,
           80,
           70,
           90,
           110,
           70,
           85,
           110,
           130,
           65,
           105,
           145,
           85,
           58,
           78,
           104,
           125,
           130,
           45,
           70,
           100,
           53,
           98,
           15,
           30,
           140,
           105,
           62,
           90,
           114,
           56,
           74,
           73,
           109,
           130
          ],
          "sizemode": "area",
          "sizeref": 0.485,
          "symbol": "circle"
         },
         "mode": "markers",
         "name": "Fire",
         "orientation": "v",
         "showlegend": true,
         "type": "scatter",
         "x": [
          52,
          64,
          84,
          130,
          104,
          41,
          76,
          70,
          110,
          85,
          100,
          95,
          130,
          100,
          52,
          64,
          84,
          40,
          50,
          75,
          115,
          130,
          60,
          85,
          120,
          160,
          60,
          100,
          120,
          85,
          58,
          78,
          104,
          95,
          90,
          63,
          93,
          123,
          53,
          98,
          90,
          140,
          30,
          97,
          45,
          59,
          69,
          73,
          81,
          50,
          68,
          110
         ],
         "xaxis": "x",
         "y": [
          43,
          58,
          78,
          111,
          78,
          40,
          75,
          45,
          80,
          55,
          70,
          57,
          60,
          90,
          43,
          58,
          78,
          40,
          120,
          37,
          85,
          90,
          40,
          60,
          70,
          80,
          40,
          70,
          100,
          140,
          44,
          52,
          71,
          67,
          106,
          45,
          55,
          65,
          48,
          63,
          45,
          55,
          105,
          66,
          40,
          58,
          72,
          55,
          71,
          58,
          72,
          120
         ],
         "yaxis": "y"
        },
        {
         "hovertemplate": "<b>%{hovertext}</b><br><br>Type 1=Water<br>Attack=%{x}<br>Defense=%{y}<br>Sp. Atk=%{marker.size}<extra></extra>",
         "hovertext": [
          "Squirtle",
          "Wartortle",
          "Blastoise",
          "BlastoiseMega Blastoise",
          "Psyduck",
          "Golduck",
          "Poliwag",
          "Poliwhirl",
          "Poliwrath",
          "Tentacool",
          "Tentacruel",
          "Slowpoke",
          "Slowbro",
          "SlowbroMega Slowbro",
          "Seel",
          "Dewgong",
          "Shellder",
          "Cloyster",
          "Krabby",
          "Kingler",
          "Horsea",
          "Seadra",
          "Goldeen",
          "Seaking",
          "Staryu",
          "Starmie",
          "Magikarp",
          "Gyarados",
          "GyaradosMega Gyarados",
          "Lapras",
          "Vaporeon",
          "Totodile",
          "Croconaw",
          "Feraligatr",
          "Chinchou",
          "Lanturn",
          "Marill",
          "Azumarill",
          "Politoed",
          "Wooper",
          "Quagsire",
          "Slowking",
          "Qwilfish",
          "Corsola",
          "Remoraid",
          "Octillery",
          "Mantine",
          "Kingdra",
          "Suicune",
          "Mudkip",
          "Marshtomp",
          "Swampert",
          "SwampertMega Swampert",
          "Lotad",
          "Lombre",
          "Ludicolo",
          "Wingull",
          "Pelipper",
          "Carvanha",
          "Sharpedo",
          "SharpedoMega Sharpedo",
          "Wailmer",
          "Wailord",
          "Barboach",
          "Whiscash",
          "Corphish",
          "Crawdaunt",
          "Feebas",
          "Milotic",
          "Clamperl",
          "Huntail",
          "Gorebyss",
          "Relicanth",
          "Luvdisc",
          "Kyogre",
          "KyogrePrimal Kyogre",
          "Piplup",
          "Prinplup",
          "Empoleon",
          "Buizel",
          "Floatzel",
          "Shellos",
          "Gastrodon",
          "Finneon",
          "Lumineon",
          "Mantyke",
          "Palkia",
          "Phione",
          "Manaphy",
          "Oshawott",
          "Dewott",
          "Samurott",
          "Panpour",
          "Simipour",
          "Tympole",
          "Palpitoad",
          "Seismitoad",
          "Basculin",
          "Tirtouga",
          "Carracosta",
          "Ducklett",
          "Swanna",
          "Frillish",
          "Jellicent",
          "Alomomola",
          "KeldeoOrdinary Forme",
          "KeldeoResolute Forme",
          "Froakie",
          "Frogadier",
          "Greninja",
          "Clauncher",
          "Clawitzer"
         ],
         "legendgroup": "Water",
         "marker": {
          "color": "#00cc96",
          "size": [
           50,
           65,
           85,
           135,
           65,
           95,
           40,
           50,
           70,
           50,
           80,
           40,
           100,
           130,
           45,
           70,
           45,
           85,
           25,
           50,
           70,
           95,
           35,
           65,
           70,
           100,
           15,
           60,
           70,
           85,
           110,
           44,
           59,
           79,
           56,
           76,
           20,
           60,
           90,
           25,
           65,
           100,
           55,
           65,
           65,
           105,
           80,
           95,
           90,
           50,
           60,
           85,
           95,
           40,
           60,
           90,
           55,
           85,
           65,
           95,
           110,
           70,
           90,
           46,
           76,
           50,
           90,
           10,
           100,
           74,
           94,
           114,
           45,
           40,
           150,
           180,
           61,
           81,
           111,
           60,
           85,
           57,
           92,
           49,
           69,
           60,
           150,
           80,
           100,
           63,
           83,
           108,
           53,
           98,
           50,
           65,
           85,
           80,
           53,
           83,
           44,
           87,
           65,
           85,
           40,
           129,
           129,
           62,
           83,
           103,
           58,
           120
          ],
          "sizemode": "area",
          "sizeref": 0.485,
          "symbol": "circle"
         },
         "mode": "markers",
         "name": "Water",
         "orientation": "v",
         "showlegend": true,
         "type": "scatter",
         "x": [
          48,
          63,
          83,
          103,
          52,
          82,
          50,
          65,
          95,
          40,
          70,
          65,
          75,
          75,
          45,
          70,
          65,
          95,
          105,
          130,
          40,
          65,
          67,
          92,
          45,
          75,
          10,
          125,
          155,
          85,
          65,
          65,
          80,
          105,
          38,
          58,
          20,
          50,
          75,
          45,
          85,
          75,
          95,
          55,
          65,
          105,
          40,
          95,
          75,
          70,
          85,
          110,
          150,
          30,
          50,
          70,
          30,
          50,
          90,
          120,
          140,
          70,
          90,
          48,
          78,
          80,
          120,
          15,
          60,
          64,
          104,
          84,
          90,
          30,
          100,
          150,
          51,
          66,
          86,
          65,
          105,
          48,
          83,
          49,
          69,
          20,
          120,
          80,
          100,
          55,
          75,
          100,
          53,
          98,
          50,
          65,
          95,
          92,
          78,
          108,
          44,
          87,
          40,
          60,
          75,
          72,
          72,
          56,
          63,
          95,
          53,
          73
         ],
         "xaxis": "x",
         "y": [
          65,
          80,
          100,
          120,
          48,
          78,
          40,
          65,
          95,
          35,
          65,
          65,
          110,
          180,
          55,
          80,
          100,
          180,
          90,
          115,
          70,
          95,
          60,
          65,
          55,
          85,
          55,
          79,
          109,
          80,
          60,
          64,
          80,
          100,
          38,
          58,
          50,
          80,
          75,
          45,
          85,
          80,
          75,
          85,
          35,
          75,
          70,
          95,
          115,
          50,
          70,
          90,
          110,
          30,
          50,
          70,
          30,
          100,
          20,
          40,
          70,
          35,
          45,
          43,
          73,
          65,
          85,
          20,
          79,
          85,
          105,
          105,
          130,
          55,
          90,
          90,
          53,
          68,
          88,
          35,
          55,
          48,
          68,
          56,
          76,
          50,
          100,
          80,
          100,
          45,
          60,
          85,
          48,
          63,
          40,
          55,
          75,
          65,
          103,
          133,
          50,
          63,
          50,
          70,
          80,
          90,
          90,
          40,
          52,
          67,
          62,
          88
         ],
         "yaxis": "y"
        },
        {
         "hovertemplate": "<b>%{hovertext}</b><br><br>Type 1=Bug<br>Attack=%{x}<br>Defense=%{y}<br>Sp. Atk=%{marker.size}<extra></extra>",
         "hovertext": [
          "Caterpie",
          "Metapod",
          "Butterfree",
          "Weedle",
          "Kakuna",
          "Beedrill",
          "BeedrillMega Beedrill",
          "Paras",
          "Parasect",
          "Venonat",
          "Venomoth",
          "Scyther",
          "Pinsir",
          "PinsirMega Pinsir",
          "Ledyba",
          "Ledian",
          "Spinarak",
          "Ariados",
          "Yanma",
          "Pineco",
          "Forretress",
          "Scizor",
          "ScizorMega Scizor",
          "Shuckle",
          "Heracross",
          "HeracrossMega Heracross",
          "Wurmple",
          "Silcoon",
          "Beautifly",
          "Cascoon",
          "Dustox",
          "Surskit",
          "Masquerain",
          "Nincada",
          "Ninjask",
          "Shedinja",
          "Volbeat",
          "Illumise",
          "Kricketot",
          "Kricketune",
          "Burmy",
          "WormadamPlant Cloak",
          "WormadamSandy Cloak",
          "WormadamTrash Cloak",
          "Mothim",
          "Combee",
          "Vespiquen",
          "Yanmega",
          "Sewaddle",
          "Swadloon",
          "Leavanny",
          "Venipede",
          "Whirlipede",
          "Scolipede",
          "Dwebble",
          "Crustle",
          "Karrablast",
          "Escavalier",
          "Joltik",
          "Galvantula",
          "Shelmet",
          "Accelgor",
          "Durant",
          "Larvesta",
          "Volcarona",
          "Genesect",
          "Scatterbug",
          "Spewpa",
          "Vivillon"
         ],
         "legendgroup": "Bug",
         "marker": {
          "color": "#ab63fa",
          "size": [
           20,
           25,
           90,
           20,
           25,
           45,
           15,
           45,
           60,
           40,
           90,
           55,
           55,
           65,
           40,
           55,
           40,
           60,
           75,
           35,
           60,
           55,
           65,
           10,
           40,
           40,
           20,
           25,
           100,
           25,
           50,
           50,
           80,
           30,
           50,
           30,
           47,
           73,
           25,
           55,
           29,
           79,
           59,
           69,
           94,
           30,
           80,
           116,
           40,
           50,
           70,
           30,
           40,
           55,
           35,
           65,
           40,
           60,
           57,
           97,
           40,
           100,
           48,
           50,
           135,
           120,
           27,
           27,
           90
          ],
          "sizemode": "area",
          "sizeref": 0.485,
          "symbol": "circle"
         },
         "mode": "markers",
         "name": "Bug",
         "orientation": "v",
         "showlegend": true,
         "type": "scatter",
         "x": [
          30,
          20,
          45,
          35,
          25,
          90,
          150,
          70,
          95,
          55,
          65,
          110,
          125,
          155,
          20,
          35,
          60,
          90,
          65,
          65,
          90,
          130,
          150,
          10,
          125,
          185,
          45,
          35,
          70,
          35,
          50,
          30,
          60,
          45,
          90,
          90,
          73,
          47,
          25,
          85,
          29,
          59,
          79,
          69,
          94,
          30,
          80,
          76,
          53,
          63,
          103,
          45,
          55,
          100,
          65,
          95,
          75,
          135,
          47,
          77,
          40,
          70,
          109,
          85,
          60,
          120,
          35,
          22,
          52
         ],
         "xaxis": "x",
         "y": [
          35,
          55,
          50,
          30,
          50,
          40,
          40,
          55,
          80,
          50,
          60,
          80,
          100,
          120,
          30,
          50,
          40,
          70,
          45,
          90,
          140,
          100,
          140,
          230,
          75,
          115,
          35,
          55,
          50,
          55,
          70,
          32,
          62,
          90,
          45,
          45,
          55,
          55,
          41,
          51,
          45,
          85,
          105,
          95,
          50,
          42,
          102,
          86,
          70,
          90,
          80,
          59,
          99,
          89,
          85,
          125,
          45,
          105,
          50,
          60,
          85,
          40,
          112,
          55,
          65,
          95,
          40,
          60,
          50
         ],
         "yaxis": "y"
        },
        {
         "hovertemplate": "<b>%{hovertext}</b><br><br>Type 1=Normal<br>Attack=%{x}<br>Defense=%{y}<br>Sp. Atk=%{marker.size}<extra></extra>",
         "hovertext": [
          "Pidgey",
          "Pidgeotto",
          "Pidgeot",
          "PidgeotMega Pidgeot",
          "Rattata",
          "Raticate",
          "Spearow",
          "Fearow",
          "Jigglypuff",
          "Wigglytuff",
          "Meowth",
          "Persian",
          "Farfetch'd",
          "Doduo",
          "Dodrio",
          "Lickitung",
          "Chansey",
          "Kangaskhan",
          "KangaskhanMega Kangaskhan",
          "Tauros",
          "Ditto",
          "Eevee",
          "Porygon",
          "Snorlax",
          "Sentret",
          "Furret",
          "Hoothoot",
          "Noctowl",
          "Igglybuff",
          "Aipom",
          "Girafarig",
          "Dunsparce",
          "Teddiursa",
          "Ursaring",
          "Porygon2",
          "Stantler",
          "Smeargle",
          "Miltank",
          "Blissey",
          "Zigzagoon",
          "Linoone",
          "Taillow",
          "Swellow",
          "Slakoth",
          "Vigoroth",
          "Slaking",
          "Whismur",
          "Loudred",
          "Exploud",
          "Azurill",
          "Skitty",
          "Delcatty",
          "Spinda",
          "Swablu",
          "Zangoose",
          "Castform",
          "Kecleon",
          "Starly",
          "Staravia",
          "Staraptor",
          "Bidoof",
          "Bibarel",
          "Ambipom",
          "Buneary",
          "Lopunny",
          "LopunnyMega Lopunny",
          "Glameow",
          "Purugly",
          "Happiny",
          "Chatot",
          "Munchlax",
          "Lickilicky",
          "Porygon-Z",
          "Regigigas",
          "Arceus",
          "Patrat",
          "Watchog",
          "Lillipup",
          "Herdier",
          "Stoutland",
          "Pidove",
          "Tranquill",
          "Unfezant",
          "Audino",
          "AudinoMega Audino",
          "Minccino",
          "Cinccino",
          "Deerling",
          "Sawsbuck",
          "Bouffalant",
          "Rufflet",
          "Braviary",
          "MeloettaAria Forme",
          "MeloettaPirouette Forme",
          "Bunnelby",
          "Diggersby",
          "Fletchling",
          "Furfrou"
         ],
         "legendgroup": "Normal",
         "marker": {
          "color": "#FFA15A",
          "size": [
           35,
           50,
           70,
           135,
           25,
           50,
           31,
           61,
           45,
           85,
           40,
           65,
           58,
           35,
           60,
           60,
           35,
           40,
           60,
           40,
           48,
           45,
           85,
           65,
           35,
           45,
           36,
           76,
           40,
           40,
           90,
           65,
           50,
           75,
           105,
           85,
           20,
           40,
           75,
           30,
           50,
           30,
           50,
           35,
           55,
           95,
           51,
           71,
           91,
           20,
           35,
           55,
           60,
           40,
           60,
           70,
           60,
           30,
           40,
           50,
           35,
           55,
           60,
           44,
           54,
           54,
           42,
           64,
           15,
           92,
           40,
           80,
           135,
           80,
           120,
           35,
           60,
           25,
           35,
           45,
           36,
           50,
           65,
           60,
           80,
           40,
           65,
           40,
           60,
           40,
           37,
           57,
           128,
           77,
           32,
           50,
           40,
           65
          ],
          "sizemode": "area",
          "sizeref": 0.485,
          "symbol": "circle"
         },
         "mode": "markers",
         "name": "Normal",
         "orientation": "v",
         "showlegend": true,
         "type": "scatter",
         "x": [
          45,
          60,
          80,
          80,
          56,
          81,
          60,
          90,
          45,
          70,
          45,
          70,
          65,
          85,
          110,
          55,
          5,
          95,
          125,
          100,
          48,
          55,
          60,
          110,
          46,
          76,
          30,
          50,
          30,
          70,
          80,
          70,
          80,
          130,
          80,
          95,
          20,
          80,
          10,
          30,
          70,
          55,
          85,
          60,
          80,
          160,
          51,
          71,
          91,
          20,
          45,
          65,
          60,
          40,
          115,
          70,
          90,
          55,
          75,
          120,
          45,
          85,
          100,
          66,
          76,
          136,
          55,
          82,
          5,
          65,
          85,
          85,
          80,
          160,
          120,
          55,
          85,
          60,
          80,
          110,
          55,
          77,
          115,
          60,
          60,
          50,
          95,
          60,
          100,
          110,
          83,
          123,
          77,
          128,
          36,
          56,
          50,
          80
         ],
         "xaxis": "x",
         "y": [
          40,
          55,
          75,
          80,
          35,
          60,
          30,
          65,
          20,
          45,
          35,
          60,
          55,
          45,
          70,
          75,
          5,
          80,
          100,
          95,
          48,
          50,
          70,
          65,
          34,
          64,
          30,
          50,
          15,
          55,
          65,
          70,
          50,
          75,
          90,
          62,
          35,
          105,
          10,
          41,
          61,
          30,
          60,
          60,
          80,
          100,
          23,
          43,
          63,
          40,
          45,
          65,
          60,
          60,
          60,
          70,
          70,
          30,
          50,
          70,
          40,
          60,
          66,
          44,
          84,
          94,
          42,
          64,
          5,
          45,
          40,
          95,
          70,
          110,
          120,
          39,
          69,
          45,
          65,
          90,
          50,
          62,
          80,
          86,
          126,
          40,
          60,
          50,
          70,
          95,
          50,
          75,
          77,
          90,
          38,
          77,
          43,
          60
         ],
         "yaxis": "y"
        },
        {
         "hovertemplate": "<b>%{hovertext}</b><br><br>Type 1=Poison<br>Attack=%{x}<br>Defense=%{y}<br>Sp. Atk=%{marker.size}<extra></extra>",
         "hovertext": [
          "Ekans",
          "Arbok",
          "Nidoran♀",
          "Nidorina",
          "Nidoqueen",
          "Nidoran♂",
          "Nidorino",
          "Nidoking",
          "Zubat",
          "Golbat",
          "Grimer",
          "Muk",
          "Koffing",
          "Weezing",
          "Crobat",
          "Gulpin",
          "Swalot",
          "Seviper",
          "Stunky",
          "Skuntank",
          "Skorupi",
          "Drapion",
          "Croagunk",
          "Toxicroak",
          "Trubbish",
          "Garbodor",
          "Skrelp",
          "Dragalge"
         ],
         "legendgroup": "Poison",
         "marker": {
          "color": "#19d3f3",
          "size": [
           40,
           65,
           40,
           55,
           75,
           40,
           55,
           85,
           30,
           65,
           40,
           65,
           60,
           85,
           70,
           43,
           73,
           100,
           41,
           71,
           30,
           60,
           61,
           86,
           40,
           60,
           60,
           97
          ],
          "sizemode": "area",
          "sizeref": 0.485,
          "symbol": "circle"
         },
         "mode": "markers",
         "name": "Poison",
         "orientation": "v",
         "showlegend": true,
         "type": "scatter",
         "x": [
          60,
          85,
          47,
          62,
          92,
          57,
          72,
          102,
          45,
          80,
          80,
          105,
          65,
          90,
          90,
          43,
          73,
          100,
          63,
          93,
          50,
          90,
          61,
          106,
          50,
          95,
          60,
          75
         ],
         "xaxis": "x",
         "y": [
          44,
          69,
          52,
          67,
          87,
          40,
          57,
          77,
          35,
          70,
          50,
          75,
          95,
          120,
          80,
          53,
          83,
          60,
          47,
          67,
          90,
          110,
          40,
          65,
          62,
          82,
          60,
          90
         ],
         "yaxis": "y"
        },
        {
         "hovertemplate": "<b>%{hovertext}</b><br><br>Type 1=Electric<br>Attack=%{x}<br>Defense=%{y}<br>Sp. Atk=%{marker.size}<extra></extra>",
         "hovertext": [
          "Pikachu",
          "Raichu",
          "Magnemite",
          "Magneton",
          "Voltorb",
          "Electrode",
          "Electabuzz",
          "Jolteon",
          "Zapdos",
          "Pichu",
          "Mareep",
          "Flaaffy",
          "Ampharos",
          "AmpharosMega Ampharos",
          "Elekid",
          "Raikou",
          "Electrike",
          "Manectric",
          "ManectricMega Manectric",
          "Plusle",
          "Minun",
          "Shinx",
          "Luxio",
          "Luxray",
          "Pachirisu",
          "Magnezone",
          "Electivire",
          "Rotom",
          "RotomHeat Rotom",
          "RotomWash Rotom",
          "RotomFrost Rotom",
          "RotomFan Rotom",
          "RotomMow Rotom",
          "Blitzle",
          "Zebstrika",
          "Emolga",
          "Tynamo",
          "Eelektrik",
          "Eelektross",
          "ThundurusIncarnate Forme",
          "ThundurusTherian Forme",
          "Helioptile",
          "Heliolisk",
          "Dedenne"
         ],
         "legendgroup": "Electric",
         "marker": {
          "color": "#FF6692",
          "size": [
           50,
           90,
           95,
           120,
           55,
           80,
           95,
           110,
           125,
           35,
           65,
           80,
           115,
           165,
           65,
           115,
           65,
           105,
           135,
           85,
           75,
           40,
           60,
           95,
           45,
           130,
           95,
           95,
           105,
           105,
           105,
           105,
           105,
           50,
           80,
           75,
           45,
           75,
           105,
           125,
           145,
           61,
           109,
           81
          ],
          "sizemode": "area",
          "sizeref": 0.485,
          "symbol": "circle"
         },
         "mode": "markers",
         "name": "Electric",
         "orientation": "v",
         "showlegend": true,
         "type": "scatter",
         "x": [
          55,
          90,
          35,
          60,
          30,
          50,
          83,
          65,
          90,
          40,
          40,
          55,
          75,
          95,
          63,
          85,
          45,
          75,
          75,
          50,
          40,
          65,
          85,
          120,
          45,
          70,
          123,
          50,
          65,
          65,
          65,
          65,
          65,
          60,
          100,
          75,
          55,
          85,
          115,
          115,
          105,
          38,
          55,
          58
         ],
         "xaxis": "x",
         "y": [
          40,
          55,
          70,
          95,
          50,
          70,
          57,
          60,
          85,
          15,
          40,
          55,
          85,
          105,
          37,
          75,
          40,
          60,
          80,
          40,
          50,
          34,
          49,
          79,
          70,
          115,
          67,
          77,
          107,
          107,
          107,
          107,
          107,
          32,
          63,
          60,
          40,
          70,
          80,
          70,
          70,
          33,
          52,
          57
         ],
         "yaxis": "y"
        },
        {
         "hovertemplate": "<b>%{hovertext}</b><br><br>Type 1=Ground<br>Attack=%{x}<br>Defense=%{y}<br>Sp. Atk=%{marker.size}<extra></extra>",
         "hovertext": [
          "Sandshrew",
          "Sandslash",
          "Diglett",
          "Dugtrio",
          "Cubone",
          "Marowak",
          "Rhyhorn",
          "Rhydon",
          "Gligar",
          "Phanpy",
          "Donphan",
          "Trapinch",
          "Vibrava",
          "Flygon",
          "Baltoy",
          "Claydol",
          "Groudon",
          "GroudonPrimal Groudon",
          "Hippopotas",
          "Hippowdon",
          "Rhyperior",
          "Gliscor",
          "Drilbur",
          "Excadrill",
          "Sandile",
          "Krokorok",
          "Krookodile",
          "Stunfisk",
          "Golett",
          "Golurk",
          "LandorusIncarnate Forme",
          "LandorusTherian Forme"
         ],
         "legendgroup": "Ground",
         "marker": {
          "color": "#B6E880",
          "size": [
           20,
           45,
           35,
           50,
           40,
           50,
           30,
           45,
           35,
           40,
           60,
           45,
           50,
           80,
           40,
           70,
           100,
           150,
           38,
           68,
           55,
           45,
           30,
           50,
           35,
           45,
           65,
           81,
           35,
           55,
           115,
           105
          ],
          "sizemode": "area",
          "sizeref": 0.485,
          "symbol": "circle"
         },
         "mode": "markers",
         "name": "Ground",
         "orientation": "v",
         "showlegend": true,
         "type": "scatter",
         "x": [
          75,
          100,
          55,
          80,
          50,
          80,
          85,
          130,
          75,
          60,
          120,
          100,
          70,
          100,
          40,
          70,
          150,
          180,
          72,
          112,
          140,
          95,
          85,
          135,
          72,
          82,
          117,
          66,
          74,
          124,
          125,
          145
         ],
         "xaxis": "x",
         "y": [
          85,
          110,
          25,
          50,
          95,
          110,
          95,
          120,
          105,
          60,
          120,
          45,
          50,
          80,
          55,
          105,
          140,
          160,
          78,
          118,
          130,
          125,
          40,
          60,
          35,
          45,
          80,
          84,
          50,
          80,
          90,
          90
         ],
         "yaxis": "y"
        },
        {
         "hovertemplate": "<b>%{hovertext}</b><br><br>Type 1=Fairy<br>Attack=%{x}<br>Defense=%{y}<br>Sp. Atk=%{marker.size}<extra></extra>",
         "hovertext": [
          "Clefairy",
          "Clefable",
          "Cleffa",
          "Togepi",
          "Togetic",
          "Snubbull",
          "Granbull",
          "Togekiss",
          "Flabébé",
          "Floette",
          "Florges",
          "Spritzee",
          "Aromatisse",
          "Swirlix",
          "Slurpuff",
          "Sylveon",
          "Xerneas"
         ],
         "legendgroup": "Fairy",
         "marker": {
          "color": "#FF97FF",
          "size": [
           60,
           95,
           45,
           40,
           80,
           40,
           60,
           120,
           61,
           75,
           112,
           63,
           99,
           59,
           85,
           110,
           131
          ],
          "sizemode": "area",
          "sizeref": 0.485,
          "symbol": "circle"
         },
         "mode": "markers",
         "name": "Fairy",
         "orientation": "v",
         "showlegend": true,
         "type": "scatter",
         "x": [
          45,
          70,
          25,
          20,
          40,
          80,
          120,
          50,
          38,
          45,
          65,
          52,
          72,
          48,
          80,
          65,
          131
         ],
         "xaxis": "x",
         "y": [
          48,
          73,
          28,
          65,
          85,
          50,
          75,
          95,
          39,
          47,
          68,
          60,
          72,
          66,
          86,
          65,
          95
         ],
         "yaxis": "y"
        },
        {
         "hovertemplate": "<b>%{hovertext}</b><br><br>Type 1=Fighting<br>Attack=%{x}<br>Defense=%{y}<br>Sp. Atk=%{marker.size}<extra></extra>",
         "hovertext": [
          "Mankey",
          "Primeape",
          "Machop",
          "Machoke",
          "Machamp",
          "Hitmonlee",
          "Hitmonchan",
          "Tyrogue",
          "Hitmontop",
          "Makuhita",
          "Hariyama",
          "Meditite",
          "Medicham",
          "MedichamMega Medicham",
          "Riolu",
          "Lucario",
          "LucarioMega Lucario",
          "Timburr",
          "Gurdurr",
          "Conkeldurr",
          "Throh",
          "Sawk",
          "Mienfoo",
          "Mienshao",
          "Pancham",
          "Pangoro",
          "Hawlucha"
         ],
         "legendgroup": "Fighting",
         "marker": {
          "color": "#FECB52",
          "size": [
           35,
           60,
           35,
           50,
           65,
           35,
           35,
           35,
           35,
           20,
           40,
           40,
           60,
           80,
           35,
           115,
           140,
           25,
           40,
           55,
           30,
           30,
           55,
           95,
           46,
           69,
           74
          ],
          "sizemode": "area",
          "sizeref": 0.485,
          "symbol": "circle"
         },
         "mode": "markers",
         "name": "Fighting",
         "orientation": "v",
         "showlegend": true,
         "type": "scatter",
         "x": [
          80,
          105,
          80,
          100,
          130,
          120,
          105,
          35,
          95,
          60,
          120,
          40,
          60,
          100,
          70,
          110,
          145,
          80,
          105,
          140,
          100,
          125,
          85,
          125,
          82,
          124,
          92
         ],
         "xaxis": "x",
         "y": [
          35,
          60,
          50,
          70,
          80,
          53,
          79,
          35,
          95,
          30,
          60,
          55,
          75,
          85,
          40,
          70,
          88,
          55,
          85,
          95,
          85,
          75,
          50,
          60,
          62,
          78,
          75
         ],
         "yaxis": "y"
        },
        {
         "hovertemplate": "<b>%{hovertext}</b><br><br>Type 1=Psychic<br>Attack=%{x}<br>Defense=%{y}<br>Sp. Atk=%{marker.size}<extra></extra>",
         "hovertext": [
          "Abra",
          "Kadabra",
          "Alakazam",
          "AlakazamMega Alakazam",
          "Drowzee",
          "Hypno",
          "Mr. Mime",
          "Mewtwo",
          "MewtwoMega Mewtwo X",
          "MewtwoMega Mewtwo Y",
          "Mew",
          "Natu",
          "Xatu",
          "Espeon",
          "Unown",
          "Wobbuffet",
          "Lugia",
          "Celebi",
          "Ralts",
          "Kirlia",
          "Gardevoir",
          "GardevoirMega Gardevoir",
          "Spoink",
          "Grumpig",
          "Chimecho",
          "Wynaut",
          "DeoxysNormal Forme",
          "DeoxysAttack Forme",
          "DeoxysDefense Forme",
          "DeoxysSpeed Forme",
          "Chingling",
          "Mime Jr.",
          "Gallade",
          "GalladeMega Gallade",
          "Uxie",
          "Mesprit",
          "Azelf",
          "Cresselia",
          "Victini",
          "Munna",
          "Musharna",
          "Woobat",
          "Swoobat",
          "Sigilyph",
          "Gothita",
          "Gothorita",
          "Gothitelle",
          "Solosis",
          "Duosion",
          "Reuniclus",
          "Elgyem",
          "Beheeyem",
          "Espurr",
          "MeowsticMale",
          "MeowsticFemale",
          "HoopaHoopa Confined",
          "HoopaHoopa Unbound"
         ],
         "legendgroup": "Psychic",
         "marker": {
          "color": "#636efa",
          "size": [
           105,
           120,
           135,
           175,
           43,
           73,
           100,
           154,
           154,
           194,
           100,
           70,
           95,
           130,
           72,
           33,
           90,
           100,
           45,
           65,
           125,
           165,
           70,
           90,
           95,
           23,
           150,
           180,
           70,
           95,
           65,
           70,
           65,
           65,
           75,
           105,
           125,
           75,
           100,
           67,
           107,
           55,
           77,
           103,
           55,
           75,
           95,
           105,
           125,
           125,
           85,
           125,
           63,
           83,
           83,
           150,
           170
          ],
          "sizemode": "area",
          "sizeref": 0.485,
          "symbol": "circle"
         },
         "mode": "markers",
         "name": "Psychic",
         "orientation": "v",
         "showlegend": true,
         "type": "scatter",
         "x": [
          20,
          35,
          50,
          50,
          48,
          73,
          45,
          110,
          190,
          150,
          100,
          50,
          75,
          65,
          72,
          33,
          90,
          100,
          25,
          35,
          65,
          85,
          25,
          45,
          50,
          23,
          150,
          180,
          70,
          95,
          30,
          25,
          125,
          165,
          75,
          105,
          125,
          70,
          100,
          25,
          55,
          45,
          57,
          58,
          30,
          45,
          55,
          30,
          40,
          65,
          55,
          75,
          48,
          48,
          48,
          110,
          160
         ],
         "xaxis": "x",
         "y": [
          15,
          30,
          45,
          65,
          45,
          70,
          65,
          90,
          100,
          70,
          100,
          45,
          70,
          60,
          48,
          58,
          130,
          100,
          25,
          35,
          65,
          65,
          35,
          65,
          70,
          48,
          50,
          20,
          160,
          90,
          50,
          45,
          65,
          95,
          130,
          105,
          70,
          120,
          100,
          45,
          85,
          43,
          55,
          80,
          50,
          70,
          95,
          40,
          50,
          75,
          55,
          75,
          54,
          76,
          76,
          60,
          60
         ],
         "yaxis": "y"
        },
        {
         "hovertemplate": "<b>%{hovertext}</b><br><br>Type 1=Rock<br>Attack=%{x}<br>Defense=%{y}<br>Sp. Atk=%{marker.size}<extra></extra>",
         "hovertext": [
          "Geodude",
          "Graveler",
          "Golem",
          "Onix",
          "Omanyte",
          "Omastar",
          "Kabuto",
          "Kabutops",
          "Aerodactyl",
          "AerodactylMega Aerodactyl",
          "Sudowoodo",
          "Larvitar",
          "Pupitar",
          "Tyranitar",
          "TyranitarMega Tyranitar",
          "Nosepass",
          "Lunatone",
          "Solrock",
          "Lileep",
          "Cradily",
          "Anorith",
          "Armaldo",
          "Regirock",
          "Cranidos",
          "Rampardos",
          "Shieldon",
          "Bastiodon",
          "Bonsly",
          "Probopass",
          "Roggenrola",
          "Boldore",
          "Gigalith",
          "Archen",
          "Archeops",
          "Terrakion",
          "Binacle",
          "Barbaracle",
          "Tyrunt",
          "Tyrantrum",
          "Amaura",
          "Aurorus",
          "Carbink",
          "Diancie",
          "DiancieMega Diancie"
         ],
         "legendgroup": "Rock",
         "marker": {
          "color": "#EF553B",
          "size": [
           30,
           45,
           55,
           30,
           90,
           115,
           55,
           65,
           60,
           70,
           30,
           45,
           65,
           95,
           95,
           45,
           95,
           55,
           61,
           81,
           40,
           70,
           50,
           30,
           65,
           42,
           47,
           10,
           75,
           25,
           50,
           60,
           74,
           112,
           72,
           39,
           54,
           45,
           69,
           67,
           99,
           50,
           100,
           160
          ],
          "sizemode": "area",
          "sizeref": 0.485,
          "symbol": "circle"
         },
         "mode": "markers",
         "name": "Rock",
         "orientation": "v",
         "showlegend": true,
         "type": "scatter",
         "x": [
          80,
          95,
          120,
          45,
          40,
          60,
          80,
          115,
          105,
          135,
          100,
          64,
          84,
          134,
          164,
          45,
          55,
          95,
          41,
          81,
          95,
          125,
          100,
          125,
          165,
          42,
          52,
          80,
          55,
          75,
          105,
          135,
          112,
          140,
          129,
          52,
          105,
          89,
          121,
          59,
          77,
          50,
          100,
          160
         ],
         "xaxis": "x",
         "y": [
          100,
          115,
          130,
          160,
          100,
          125,
          90,
          105,
          65,
          85,
          115,
          50,
          70,
          110,
          150,
          135,
          65,
          85,
          77,
          97,
          50,
          100,
          200,
          40,
          60,
          118,
          168,
          95,
          145,
          85,
          105,
          130,
          45,
          65,
          90,
          67,
          115,
          77,
          119,
          50,
          72,
          150,
          150,
          110
         ],
         "yaxis": "y"
        },
        {
         "hovertemplate": "<b>%{hovertext}</b><br><br>Type 1=Ghost<br>Attack=%{x}<br>Defense=%{y}<br>Sp. Atk=%{marker.size}<extra></extra>",
         "hovertext": [
          "Gastly",
          "Haunter",
          "Gengar",
          "GengarMega Gengar",
          "Misdreavus",
          "Shuppet",
          "Banette",
          "BanetteMega Banette",
          "Duskull",
          "Dusclops",
          "Drifloon",
          "Drifblim",
          "Mismagius",
          "Spiritomb",
          "Dusknoir",
          "GiratinaAltered Forme",
          "GiratinaOrigin Forme",
          "Yamask",
          "Cofagrigus",
          "Litwick",
          "Lampent",
          "Chandelure",
          "Phantump",
          "Trevenant",
          "PumpkabooAverage Size",
          "PumpkabooSmall Size",
          "PumpkabooLarge Size",
          "PumpkabooSuper Size",
          "GourgeistAverage Size",
          "GourgeistSmall Size",
          "GourgeistLarge Size",
          "GourgeistSuper Size"
         ],
         "legendgroup": "Ghost",
         "marker": {
          "color": "#00cc96",
          "size": [
           100,
           115,
           130,
           170,
           85,
           63,
           83,
           93,
           30,
           60,
           60,
           90,
           105,
           92,
           65,
           100,
           120,
           55,
           95,
           65,
           95,
           145,
           50,
           65,
           44,
           44,
           44,
           44,
           58,
           58,
           58,
           58
          ],
          "sizemode": "area",
          "sizeref": 0.485,
          "symbol": "circle"
         },
         "mode": "markers",
         "name": "Ghost",
         "orientation": "v",
         "showlegend": true,
         "type": "scatter",
         "x": [
          35,
          50,
          65,
          65,
          60,
          75,
          115,
          165,
          40,
          70,
          50,
          80,
          60,
          92,
          100,
          100,
          120,
          30,
          50,
          30,
          40,
          55,
          70,
          110,
          66,
          66,
          66,
          66,
          90,
          85,
          95,
          100
         ],
         "xaxis": "x",
         "y": [
          30,
          45,
          60,
          80,
          60,
          35,
          65,
          75,
          90,
          130,
          34,
          44,
          60,
          108,
          135,
          120,
          100,
          85,
          145,
          55,
          60,
          90,
          48,
          76,
          70,
          70,
          70,
          70,
          122,
          122,
          122,
          122
         ],
         "yaxis": "y"
        },
        {
         "hovertemplate": "<b>%{hovertext}</b><br><br>Type 1=Ice<br>Attack=%{x}<br>Defense=%{y}<br>Sp. Atk=%{marker.size}<extra></extra>",
         "hovertext": [
          "Jynx",
          "Articuno",
          "Swinub",
          "Piloswine",
          "Delibird",
          "Smoochum",
          "Snorunt",
          "Glalie",
          "GlalieMega Glalie",
          "Spheal",
          "Sealeo",
          "Walrein",
          "Regice",
          "Glaceon",
          "Mamoswine",
          "Froslass",
          "Vanillite",
          "Vanillish",
          "Vanilluxe",
          "Cubchoo",
          "Beartic",
          "Cryogonal",
          "Bergmite",
          "Avalugg"
         ],
         "legendgroup": "Ice",
         "marker": {
          "color": "#ab63fa",
          "size": [
           115,
           95,
           30,
           60,
           65,
           85,
           50,
           80,
           120,
           55,
           75,
           95,
           100,
           130,
           70,
           80,
           65,
           80,
           110,
           60,
           70,
           95,
           32,
           44
          ],
          "sizemode": "area",
          "sizeref": 0.485,
          "symbol": "circle"
         },
         "mode": "markers",
         "name": "Ice",
         "orientation": "v",
         "showlegend": true,
         "type": "scatter",
         "x": [
          50,
          85,
          50,
          100,
          55,
          30,
          50,
          80,
          120,
          40,
          60,
          80,
          50,
          60,
          130,
          80,
          50,
          65,
          95,
          70,
          110,
          50,
          69,
          117
         ],
         "xaxis": "x",
         "y": [
          35,
          100,
          40,
          80,
          45,
          15,
          50,
          80,
          80,
          50,
          70,
          90,
          100,
          110,
          80,
          70,
          50,
          65,
          85,
          40,
          80,
          30,
          85,
          184
         ],
         "yaxis": "y"
        },
        {
         "hovertemplate": "<b>%{hovertext}</b><br><br>Type 1=Dragon<br>Attack=%{x}<br>Defense=%{y}<br>Sp. Atk=%{marker.size}<extra></extra>",
         "hovertext": [
          "Dratini",
          "Dragonair",
          "Dragonite",
          "Altaria",
          "AltariaMega Altaria",
          "Bagon",
          "Shelgon",
          "Salamence",
          "SalamenceMega Salamence",
          "Latias",
          "LatiasMega Latias",
          "Latios",
          "LatiosMega Latios",
          "Rayquaza",
          "RayquazaMega Rayquaza",
          "Gible",
          "Gabite",
          "Garchomp",
          "GarchompMega Garchomp",
          "Axew",
          "Fraxure",
          "Haxorus",
          "Druddigon",
          "Reshiram",
          "Zekrom",
          "Kyurem",
          "KyuremBlack Kyurem",
          "KyuremWhite Kyurem",
          "Goomy",
          "Sliggoo",
          "Goodra",
          "Zygarde50% Forme"
         ],
         "legendgroup": "Dragon",
         "marker": {
          "color": "#FFA15A",
          "size": [
           50,
           70,
           100,
           70,
           110,
           40,
           60,
           110,
           120,
           110,
           140,
           130,
           160,
           150,
           180,
           40,
           50,
           80,
           120,
           30,
           40,
           60,
           60,
           150,
           120,
           130,
           120,
           170,
           55,
           83,
           110,
           81
          ],
          "sizemode": "area",
          "sizeref": 0.485,
          "symbol": "circle"
         },
         "mode": "markers",
         "name": "Dragon",
         "orientation": "v",
         "showlegend": true,
         "type": "scatter",
         "x": [
          64,
          84,
          134,
          70,
          110,
          75,
          95,
          135,
          145,
          80,
          100,
          90,
          130,
          150,
          180,
          70,
          90,
          130,
          170,
          87,
          117,
          147,
          120,
          120,
          150,
          130,
          170,
          120,
          50,
          75,
          100,
          100
         ],
         "xaxis": "x",
         "y": [
          45,
          65,
          95,
          90,
          110,
          60,
          100,
          80,
          130,
          90,
          120,
          80,
          100,
          90,
          100,
          45,
          65,
          95,
          115,
          60,
          70,
          90,
          90,
          100,
          120,
          90,
          100,
          90,
          35,
          53,
          70,
          121
         ],
         "yaxis": "y"
        },
        {
         "hovertemplate": "<b>%{hovertext}</b><br><br>Type 1=Dark<br>Attack=%{x}<br>Defense=%{y}<br>Sp. Atk=%{marker.size}<extra></extra>",
         "hovertext": [
          "Umbreon",
          "Murkrow",
          "Sneasel",
          "Houndour",
          "Houndoom",
          "HoundoomMega Houndoom",
          "Poochyena",
          "Mightyena",
          "Sableye",
          "SableyeMega Sableye",
          "Absol",
          "AbsolMega Absol",
          "Honchkrow",
          "Weavile",
          "Darkrai",
          "Purrloin",
          "Liepard",
          "Scraggy",
          "Scrafty",
          "Zorua",
          "Zoroark",
          "Pawniard",
          "Bisharp",
          "Vullaby",
          "Mandibuzz",
          "Deino",
          "Zweilous",
          "Hydreigon",
          "Inkay",
          "Malamar",
          "Yveltal"
         ],
         "legendgroup": "Dark",
         "marker": {
          "color": "#19d3f3",
          "size": [
           60,
           85,
           35,
           80,
           110,
           140,
           30,
           60,
           65,
           85,
           75,
           115,
           105,
           45,
           135,
           50,
           88,
           35,
           45,
           80,
           120,
           40,
           60,
           45,
           55,
           45,
           65,
           125,
           37,
           68,
           131
          ],
          "sizemode": "area",
          "sizeref": 0.485,
          "symbol": "circle"
         },
         "mode": "markers",
         "name": "Dark",
         "orientation": "v",
         "showlegend": true,
         "type": "scatter",
         "x": [
          65,
          85,
          95,
          60,
          90,
          90,
          55,
          90,
          75,
          85,
          130,
          150,
          125,
          120,
          90,
          50,
          88,
          75,
          90,
          65,
          105,
          85,
          125,
          55,
          65,
          65,
          85,
          105,
          54,
          92,
          131
         ],
         "xaxis": "x",
         "y": [
          110,
          42,
          55,
          30,
          50,
          90,
          35,
          70,
          75,
          125,
          60,
          60,
          52,
          65,
          90,
          37,
          50,
          70,
          115,
          40,
          60,
          70,
          100,
          75,
          105,
          50,
          70,
          90,
          53,
          88,
          95
         ],
         "yaxis": "y"
        },
        {
         "hovertemplate": "<b>%{hovertext}</b><br><br>Type 1=Steel<br>Attack=%{x}<br>Defense=%{y}<br>Sp. Atk=%{marker.size}<extra></extra>",
         "hovertext": [
          "Steelix",
          "SteelixMega Steelix",
          "Skarmory",
          "Mawile",
          "MawileMega Mawile",
          "Aron",
          "Lairon",
          "Aggron",
          "AggronMega Aggron",
          "Beldum",
          "Metang",
          "Metagross",
          "MetagrossMega Metagross",
          "Registeel",
          "Jirachi",
          "Bronzor",
          "Bronzong",
          "Dialga",
          "Klink",
          "Klang",
          "Klinklang",
          "Cobalion",
          "Honedge",
          "Doublade",
          "AegislashBlade Forme",
          "AegislashShield Forme",
          "Klefki"
         ],
         "legendgroup": "Steel",
         "marker": {
          "color": "#FF6692",
          "size": [
           55,
           55,
           40,
           55,
           55,
           40,
           50,
           60,
           60,
           35,
           55,
           95,
           105,
           75,
           100,
           24,
           79,
           150,
           45,
           70,
           70,
           90,
           35,
           45,
           150,
           50,
           80
          ],
          "sizemode": "area",
          "sizeref": 0.485,
          "symbol": "circle"
         },
         "mode": "markers",
         "name": "Steel",
         "orientation": "v",
         "showlegend": true,
         "type": "scatter",
         "x": [
          85,
          125,
          80,
          85,
          105,
          70,
          90,
          110,
          140,
          55,
          75,
          135,
          145,
          75,
          100,
          24,
          89,
          120,
          55,
          80,
          100,
          90,
          80,
          110,
          150,
          50,
          80
         ],
         "xaxis": "x",
         "y": [
          200,
          230,
          140,
          85,
          125,
          100,
          140,
          180,
          230,
          80,
          100,
          130,
          150,
          150,
          100,
          86,
          116,
          120,
          70,
          95,
          115,
          129,
          100,
          150,
          50,
          150,
          91
         ],
         "yaxis": "y"
        },
        {
         "hovertemplate": "<b>%{hovertext}</b><br><br>Type 1=Flying<br>Attack=%{x}<br>Defense=%{y}<br>Sp. Atk=%{marker.size}<extra></extra>",
         "hovertext": [
          "TornadusIncarnate Forme",
          "TornadusTherian Forme",
          "Noibat",
          "Noivern"
         ],
         "legendgroup": "Flying",
         "marker": {
          "color": "#B6E880",
          "size": [
           125,
           110,
           45,
           97
          ],
          "sizemode": "area",
          "sizeref": 0.485,
          "symbol": "circle"
         },
         "mode": "markers",
         "name": "Flying",
         "orientation": "v",
         "showlegend": true,
         "type": "scatter",
         "x": [
          115,
          100,
          30,
          70
         ],
         "xaxis": "x",
         "y": [
          70,
          80,
          35,
          80
         ],
         "yaxis": "y"
        }
       ],
       "layout": {
        "legend": {
         "itemsizing": "constant",
         "title": {
          "text": "Type 1"
         },
         "tracegroupgap": 0
        },
        "margin": {
         "t": 60
        },
        "template": {
         "data": {
          "bar": [
           {
            "error_x": {
             "color": "#f2f5fa"
            },
            "error_y": {
             "color": "#f2f5fa"
            },
            "marker": {
             "line": {
              "color": "rgb(17,17,17)",
              "width": 0.5
             },
             "pattern": {
              "fillmode": "overlay",
              "size": 10,
              "solidity": 0.2
             }
            },
            "type": "bar"
           }
          ],
          "barpolar": [
           {
            "marker": {
             "line": {
              "color": "rgb(17,17,17)",
              "width": 0.5
             },
             "pattern": {
              "fillmode": "overlay",
              "size": 10,
              "solidity": 0.2
             }
            },
            "type": "barpolar"
           }
          ],
          "carpet": [
           {
            "aaxis": {
             "endlinecolor": "#A2B1C6",
             "gridcolor": "#506784",
             "linecolor": "#506784",
             "minorgridcolor": "#506784",
             "startlinecolor": "#A2B1C6"
            },
            "baxis": {
             "endlinecolor": "#A2B1C6",
             "gridcolor": "#506784",
             "linecolor": "#506784",
             "minorgridcolor": "#506784",
             "startlinecolor": "#A2B1C6"
            },
            "type": "carpet"
           }
          ],
          "choropleth": [
           {
            "colorbar": {
             "outlinewidth": 0,
             "ticks": ""
            },
            "type": "choropleth"
           }
          ],
          "contour": [
           {
            "colorbar": {
             "outlinewidth": 0,
             "ticks": ""
            },
            "colorscale": [
             [
              0,
              "#0d0887"
             ],
             [
              0.1111111111111111,
              "#46039f"
             ],
             [
              0.2222222222222222,
              "#7201a8"
             ],
             [
              0.3333333333333333,
              "#9c179e"
             ],
             [
              0.4444444444444444,
              "#bd3786"
             ],
             [
              0.5555555555555556,
              "#d8576b"
             ],
             [
              0.6666666666666666,
              "#ed7953"
             ],
             [
              0.7777777777777778,
              "#fb9f3a"
             ],
             [
              0.8888888888888888,
              "#fdca26"
             ],
             [
              1,
              "#f0f921"
             ]
            ],
            "type": "contour"
           }
          ],
          "contourcarpet": [
           {
            "colorbar": {
             "outlinewidth": 0,
             "ticks": ""
            },
            "type": "contourcarpet"
           }
          ],
          "heatmap": [
           {
            "colorbar": {
             "outlinewidth": 0,
             "ticks": ""
            },
            "colorscale": [
             [
              0,
              "#0d0887"
             ],
             [
              0.1111111111111111,
              "#46039f"
             ],
             [
              0.2222222222222222,
              "#7201a8"
             ],
             [
              0.3333333333333333,
              "#9c179e"
             ],
             [
              0.4444444444444444,
              "#bd3786"
             ],
             [
              0.5555555555555556,
              "#d8576b"
             ],
             [
              0.6666666666666666,
              "#ed7953"
             ],
             [
              0.7777777777777778,
              "#fb9f3a"
             ],
             [
              0.8888888888888888,
              "#fdca26"
             ],
             [
              1,
              "#f0f921"
             ]
            ],
            "type": "heatmap"
           }
          ],
          "heatmapgl": [
           {
            "colorbar": {
             "outlinewidth": 0,
             "ticks": ""
            },
            "colorscale": [
             [
              0,
              "#0d0887"
             ],
             [
              0.1111111111111111,
              "#46039f"
             ],
             [
              0.2222222222222222,
              "#7201a8"
             ],
             [
              0.3333333333333333,
              "#9c179e"
             ],
             [
              0.4444444444444444,
              "#bd3786"
             ],
             [
              0.5555555555555556,
              "#d8576b"
             ],
             [
              0.6666666666666666,
              "#ed7953"
             ],
             [
              0.7777777777777778,
              "#fb9f3a"
             ],
             [
              0.8888888888888888,
              "#fdca26"
             ],
             [
              1,
              "#f0f921"
             ]
            ],
            "type": "heatmapgl"
           }
          ],
          "histogram": [
           {
            "marker": {
             "pattern": {
              "fillmode": "overlay",
              "size": 10,
              "solidity": 0.2
             }
            },
            "type": "histogram"
           }
          ],
          "histogram2d": [
           {
            "colorbar": {
             "outlinewidth": 0,
             "ticks": ""
            },
            "colorscale": [
             [
              0,
              "#0d0887"
             ],
             [
              0.1111111111111111,
              "#46039f"
             ],
             [
              0.2222222222222222,
              "#7201a8"
             ],
             [
              0.3333333333333333,
              "#9c179e"
             ],
             [
              0.4444444444444444,
              "#bd3786"
             ],
             [
              0.5555555555555556,
              "#d8576b"
             ],
             [
              0.6666666666666666,
              "#ed7953"
             ],
             [
              0.7777777777777778,
              "#fb9f3a"
             ],
             [
              0.8888888888888888,
              "#fdca26"
             ],
             [
              1,
              "#f0f921"
             ]
            ],
            "type": "histogram2d"
           }
          ],
          "histogram2dcontour": [
           {
            "colorbar": {
             "outlinewidth": 0,
             "ticks": ""
            },
            "colorscale": [
             [
              0,
              "#0d0887"
             ],
             [
              0.1111111111111111,
              "#46039f"
             ],
             [
              0.2222222222222222,
              "#7201a8"
             ],
             [
              0.3333333333333333,
              "#9c179e"
             ],
             [
              0.4444444444444444,
              "#bd3786"
             ],
             [
              0.5555555555555556,
              "#d8576b"
             ],
             [
              0.6666666666666666,
              "#ed7953"
             ],
             [
              0.7777777777777778,
              "#fb9f3a"
             ],
             [
              0.8888888888888888,
              "#fdca26"
             ],
             [
              1,
              "#f0f921"
             ]
            ],
            "type": "histogram2dcontour"
           }
          ],
          "mesh3d": [
           {
            "colorbar": {
             "outlinewidth": 0,
             "ticks": ""
            },
            "type": "mesh3d"
           }
          ],
          "parcoords": [
           {
            "line": {
             "colorbar": {
              "outlinewidth": 0,
              "ticks": ""
             }
            },
            "type": "parcoords"
           }
          ],
          "pie": [
           {
            "automargin": true,
            "type": "pie"
           }
          ],
          "scatter": [
           {
            "marker": {
             "line": {
              "color": "#283442"
             }
            },
            "type": "scatter"
           }
          ],
          "scatter3d": [
           {
            "line": {
             "colorbar": {
              "outlinewidth": 0,
              "ticks": ""
             }
            },
            "marker": {
             "colorbar": {
              "outlinewidth": 0,
              "ticks": ""
             }
            },
            "type": "scatter3d"
           }
          ],
          "scattercarpet": [
           {
            "marker": {
             "colorbar": {
              "outlinewidth": 0,
              "ticks": ""
             }
            },
            "type": "scattercarpet"
           }
          ],
          "scattergeo": [
           {
            "marker": {
             "colorbar": {
              "outlinewidth": 0,
              "ticks": ""
             }
            },
            "type": "scattergeo"
           }
          ],
          "scattergl": [
           {
            "marker": {
             "line": {
              "color": "#283442"
             }
            },
            "type": "scattergl"
           }
          ],
          "scattermapbox": [
           {
            "marker": {
             "colorbar": {
              "outlinewidth": 0,
              "ticks": ""
             }
            },
            "type": "scattermapbox"
           }
          ],
          "scatterpolar": [
           {
            "marker": {
             "colorbar": {
              "outlinewidth": 0,
              "ticks": ""
             }
            },
            "type": "scatterpolar"
           }
          ],
          "scatterpolargl": [
           {
            "marker": {
             "colorbar": {
              "outlinewidth": 0,
              "ticks": ""
             }
            },
            "type": "scatterpolargl"
           }
          ],
          "scatterternary": [
           {
            "marker": {
             "colorbar": {
              "outlinewidth": 0,
              "ticks": ""
             }
            },
            "type": "scatterternary"
           }
          ],
          "surface": [
           {
            "colorbar": {
             "outlinewidth": 0,
             "ticks": ""
            },
            "colorscale": [
             [
              0,
              "#0d0887"
             ],
             [
              0.1111111111111111,
              "#46039f"
             ],
             [
              0.2222222222222222,
              "#7201a8"
             ],
             [
              0.3333333333333333,
              "#9c179e"
             ],
             [
              0.4444444444444444,
              "#bd3786"
             ],
             [
              0.5555555555555556,
              "#d8576b"
             ],
             [
              0.6666666666666666,
              "#ed7953"
             ],
             [
              0.7777777777777778,
              "#fb9f3a"
             ],
             [
              0.8888888888888888,
              "#fdca26"
             ],
             [
              1,
              "#f0f921"
             ]
            ],
            "type": "surface"
           }
          ],
          "table": [
           {
            "cells": {
             "fill": {
              "color": "#506784"
             },
             "line": {
              "color": "rgb(17,17,17)"
             }
            },
            "header": {
             "fill": {
              "color": "#2a3f5f"
             },
             "line": {
              "color": "rgb(17,17,17)"
             }
            },
            "type": "table"
           }
          ]
         },
         "layout": {
          "annotationdefaults": {
           "arrowcolor": "#f2f5fa",
           "arrowhead": 0,
           "arrowwidth": 1
          },
          "autotypenumbers": "strict",
          "coloraxis": {
           "colorbar": {
            "outlinewidth": 0,
            "ticks": ""
           }
          },
          "colorscale": {
           "diverging": [
            [
             0,
             "#8e0152"
            ],
            [
             0.1,
             "#c51b7d"
            ],
            [
             0.2,
             "#de77ae"
            ],
            [
             0.3,
             "#f1b6da"
            ],
            [
             0.4,
             "#fde0ef"
            ],
            [
             0.5,
             "#f7f7f7"
            ],
            [
             0.6,
             "#e6f5d0"
            ],
            [
             0.7,
             "#b8e186"
            ],
            [
             0.8,
             "#7fbc41"
            ],
            [
             0.9,
             "#4d9221"
            ],
            [
             1,
             "#276419"
            ]
           ],
           "sequential": [
            [
             0,
             "#0d0887"
            ],
            [
             0.1111111111111111,
             "#46039f"
            ],
            [
             0.2222222222222222,
             "#7201a8"
            ],
            [
             0.3333333333333333,
             "#9c179e"
            ],
            [
             0.4444444444444444,
             "#bd3786"
            ],
            [
             0.5555555555555556,
             "#d8576b"
            ],
            [
             0.6666666666666666,
             "#ed7953"
            ],
            [
             0.7777777777777778,
             "#fb9f3a"
            ],
            [
             0.8888888888888888,
             "#fdca26"
            ],
            [
             1,
             "#f0f921"
            ]
           ],
           "sequentialminus": [
            [
             0,
             "#0d0887"
            ],
            [
             0.1111111111111111,
             "#46039f"
            ],
            [
             0.2222222222222222,
             "#7201a8"
            ],
            [
             0.3333333333333333,
             "#9c179e"
            ],
            [
             0.4444444444444444,
             "#bd3786"
            ],
            [
             0.5555555555555556,
             "#d8576b"
            ],
            [
             0.6666666666666666,
             "#ed7953"
            ],
            [
             0.7777777777777778,
             "#fb9f3a"
            ],
            [
             0.8888888888888888,
             "#fdca26"
            ],
            [
             1,
             "#f0f921"
            ]
           ]
          },
          "colorway": [
           "#636efa",
           "#EF553B",
           "#00cc96",
           "#ab63fa",
           "#FFA15A",
           "#19d3f3",
           "#FF6692",
           "#B6E880",
           "#FF97FF",
           "#FECB52"
          ],
          "font": {
           "color": "#f2f5fa"
          },
          "geo": {
           "bgcolor": "rgb(17,17,17)",
           "lakecolor": "rgb(17,17,17)",
           "landcolor": "rgb(17,17,17)",
           "showlakes": true,
           "showland": true,
           "subunitcolor": "#506784"
          },
          "hoverlabel": {
           "align": "left"
          },
          "hovermode": "closest",
          "mapbox": {
           "style": "dark"
          },
          "paper_bgcolor": "rgb(17,17,17)",
          "plot_bgcolor": "rgb(17,17,17)",
          "polar": {
           "angularaxis": {
            "gridcolor": "#506784",
            "linecolor": "#506784",
            "ticks": ""
           },
           "bgcolor": "rgb(17,17,17)",
           "radialaxis": {
            "gridcolor": "#506784",
            "linecolor": "#506784",
            "ticks": ""
           }
          },
          "scene": {
           "xaxis": {
            "backgroundcolor": "rgb(17,17,17)",
            "gridcolor": "#506784",
            "gridwidth": 2,
            "linecolor": "#506784",
            "showbackground": true,
            "ticks": "",
            "zerolinecolor": "#C8D4E3"
           },
           "yaxis": {
            "backgroundcolor": "rgb(17,17,17)",
            "gridcolor": "#506784",
            "gridwidth": 2,
            "linecolor": "#506784",
            "showbackground": true,
            "ticks": "",
            "zerolinecolor": "#C8D4E3"
           },
           "zaxis": {
            "backgroundcolor": "rgb(17,17,17)",
            "gridcolor": "#506784",
            "gridwidth": 2,
            "linecolor": "#506784",
            "showbackground": true,
            "ticks": "",
            "zerolinecolor": "#C8D4E3"
           }
          },
          "shapedefaults": {
           "line": {
            "color": "#f2f5fa"
           }
          },
          "sliderdefaults": {
           "bgcolor": "#C8D4E3",
           "bordercolor": "rgb(17,17,17)",
           "borderwidth": 1,
           "tickwidth": 0
          },
          "ternary": {
           "aaxis": {
            "gridcolor": "#506784",
            "linecolor": "#506784",
            "ticks": ""
           },
           "baxis": {
            "gridcolor": "#506784",
            "linecolor": "#506784",
            "ticks": ""
           },
           "bgcolor": "rgb(17,17,17)",
           "caxis": {
            "gridcolor": "#506784",
            "linecolor": "#506784",
            "ticks": ""
           }
          },
          "title": {
           "x": 0.05
          },
          "updatemenudefaults": {
           "bgcolor": "#506784",
           "borderwidth": 0
          },
          "xaxis": {
           "automargin": true,
           "gridcolor": "#283442",
           "linecolor": "#506784",
           "ticks": "",
           "title": {
            "standoff": 15
           },
           "zerolinecolor": "#283442",
           "zerolinewidth": 2
          },
          "yaxis": {
           "automargin": true,
           "gridcolor": "#283442",
           "linecolor": "#506784",
           "ticks": "",
           "title": {
            "standoff": 15
           },
           "zerolinecolor": "#283442",
           "zerolinewidth": 2
          }
         }
        },
        "xaxis": {
         "anchor": "y",
         "domain": [
          0,
          1
         ],
         "title": {
          "text": "Attack"
         }
        },
        "yaxis": {
         "anchor": "x",
         "domain": [
          0,
          1
         ],
         "title": {
          "text": "Defense"
         }
        }
       }
      }
     },
     "metadata": {},
     "output_type": "display_data"
    }
   ],
   "source": [
    "px.scatter( data_frame = df, x = 'Attack', y = 'Defense', color=\"Type 1\", hover_name='Name', template = 'plotly_dark', size=\"Sp. Atk\" )"
   ]
  },
  {
   "cell_type": "code",
   "execution_count": 12,
   "metadata": {},
   "outputs": [
    {
     "data": {
      "application/vnd.plotly.v1+json": {
       "config": {
        "plotlyServerURL": "https://plot.ly"
       },
       "data": [
        {
         "hovertemplate": "HP=%{x}<br>Defense=%{y}<br>Attack=%{z}<br>Total=%{marker.color}<extra></extra>",
         "legendgroup": "",
         "marker": {
          "color": [
           318,
           405,
           525,
           625,
           309,
           405,
           534,
           634,
           634,
           314,
           405,
           530,
           630,
           195,
           205,
           395,
           195,
           205,
           395,
           495,
           251,
           349,
           479,
           579,
           253,
           413,
           262,
           442,
           288,
           438,
           320,
           485,
           300,
           450,
           275,
           365,
           505,
           273,
           365,
           505,
           323,
           483,
           299,
           505,
           270,
           435,
           245,
           455,
           320,
           395,
           490,
           285,
           405,
           305,
           450,
           265,
           405,
           290,
           440,
           320,
           500,
           305,
           455,
           350,
           555,
           300,
           385,
           510,
           310,
           400,
           500,
           590,
           305,
           405,
           505,
           300,
           390,
           490,
           335,
           515,
           300,
           390,
           495,
           410,
           500,
           315,
           490,
           590,
           325,
           465,
           352,
           310,
           460,
           325,
           475,
           325,
           500,
           305,
           525,
           310,
           405,
           500,
           600,
           385,
           328,
           483,
           325,
           475,
           330,
           480,
           325,
           520,
           320,
           425,
           455,
           455,
           385,
           340,
           490,
           345,
           485,
           450,
           435,
           490,
           590,
           295,
           440,
           320,
           450,
           340,
           520,
           460,
           500,
           455,
           490,
           495,
           500,
           600,
           490,
           200,
           540,
           640,
           535,
           288,
           325,
           525,
           525,
           525,
           395,
           355,
           495,
           355,
           495,
           515,
           615,
           540,
           580,
           580,
           580,
           300,
           420,
           600,
           680,
           780,
           780,
           600,
           318,
           405,
           525,
           309,
           405,
           534,
           314,
           405,
           530,
           215,
           415,
           262,
           442,
           265,
           390,
           250,
           390,
           535,
           330,
           460,
           205,
           218,
           210,
           245,
           405,
           320,
           470,
           280,
           365,
           510,
           610,
           490,
           250,
           420,
           410,
           500,
           250,
           340,
           460,
           360,
           180,
           425,
           390,
           210,
           430,
           525,
           525,
           405,
           490,
           435,
           336,
           405,
           455,
           290,
           465,
           415,
           430,
           510,
           610,
           300,
           450,
           430,
           500,
           600,
           505,
           500,
           600,
           430,
           330,
           500,
           250,
           410,
           250,
           450,
           380,
           300,
           480,
           330,
           465,
           465,
           330,
           500,
           600,
           540,
           330,
           500,
           515,
           465,
           250,
           210,
           455,
           305,
           360,
           365,
           490,
           540,
           580,
           580,
           580,
           300,
           410,
           600,
           700,
           680,
           680,
           600,
           310,
           405,
           530,
           630,
           310,
           405,
           530,
           630,
           310,
           405,
           535,
           635,
           220,
           420,
           240,
           420,
           195,
           205,
           395,
           205,
           385,
           220,
           340,
           480,
           220,
           340,
           480,
           270,
           430,
           270,
           430,
           198,
           278,
           518,
           618,
           269,
           414,
           295,
           460,
           280,
           440,
           670,
           266,
           456,
           236,
           240,
           360,
           490,
           237,
           474,
           190,
           375,
           260,
           380,
           380,
           480,
           380,
           480,
           330,
           430,
           530,
           630,
           280,
           410,
           510,
           295,
           475,
           575,
           405,
           405,
           400,
           400,
           400,
           302,
           467,
           305,
           460,
           560,
           400,
           500,
           305,
           460,
           560,
           470,
           330,
           470,
           360,
           290,
           340,
           520,
           335,
           475,
           310,
           490,
           590,
           458,
           458,
           440,
           440,
           288,
           468,
           308,
           468,
           300,
           500,
           355,
           495,
           355,
           495,
           200,
           540,
           420,
           440,
           295,
           455,
           555,
           295,
           455,
           460,
           425,
           465,
           565,
           260,
           300,
           480,
           580,
           290,
           410,
           530,
           345,
           485,
           485,
           485,
           330,
           300,
           420,
           600,
           700,
           300,
           420,
           600,
           700,
           580,
           580,
           580,
           600,
           700,
           600,
           700,
           670,
           770,
           670,
           770,
           680,
           780,
           600,
           600,
           600,
           600,
           600,
           318,
           405,
           525,
           309,
           405,
           534,
           314,
           405,
           530,
           245,
           340,
           485,
           250,
           410,
           194,
           384,
           263,
           363,
           523,
           280,
           515,
           350,
           495,
           350,
           495,
           224,
           424,
           424,
           424,
           424,
           244,
           474,
           405,
           330,
           495,
           275,
           450,
           325,
           475,
           482,
           348,
           498,
           350,
           480,
           580,
           495,
           505,
           310,
           452,
           285,
           329,
           479,
           300,
           500,
           290,
           310,
           220,
           411,
           485,
           300,
           410,
           600,
           700,
           390,
           285,
           525,
           625,
           330,
           525,
           330,
           500,
           300,
           490,
           454,
           330,
           460,
           345,
           334,
           494,
           594,
           510,
           535,
           515,
           535,
           535,
           540,
           540,
           545,
           515,
           525,
           525,
           510,
           530,
           535,
           518,
           618,
           525,
           525,
           480,
           440,
           520,
           520,
           520,
           520,
           520,
           580,
           580,
           580,
           680,
           680,
           600,
           670,
           680,
           680,
           600,
           480,
           600,
           600,
           600,
           600,
           720,
           600,
           308,
           413,
           528,
           308,
           418,
           528,
           308,
           413,
           528,
           255,
           420,
           275,
           370,
           500,
           281,
           446,
           316,
           498,
           316,
           498,
           316,
           498,
           292,
           487,
           264,
           358,
           488,
           295,
           497,
           280,
           390,
           515,
           313,
           425,
           328,
           508,
           445,
           545,
           305,
           405,
           505,
           294,
           384,
           509,
           465,
           465,
           310,
           380,
           500,
           260,
           360,
           485,
           280,
           480,
           280,
           480,
           460,
           292,
           351,
           519,
           315,
           480,
           540,
           461,
           325,
           475,
           348,
           488,
           490,
           303,
           483,
           355,
           495,
           401,
           567,
           329,
           474,
           330,
           510,
           300,
           470,
           290,
           390,
           490,
           290,
           370,
           490,
           305,
           473,
           305,
           395,
           535,
           335,
           475,
           428,
           315,
           495,
           294,
           464,
           335,
           480,
           470,
           319,
           472,
           305,
           489,
           300,
           440,
           520,
           275,
           405,
           515,
           335,
           485,
           275,
           370,
           520,
           320,
           410,
           540,
           305,
           485,
           485,
           305,
           495,
           471,
           350,
           510,
           485,
           303,
           483,
           340,
           490,
           490,
           350,
           510,
           370,
           510,
           484,
           484,
           300,
           420,
           600,
           360,
           550,
           580,
           580,
           580,
           580,
           580,
           580,
           580,
           680,
           680,
           600,
           600,
           660,
           700,
           700,
           580,
           580,
           600,
           600,
           600,
           313,
           405,
           530,
           307,
           409,
           534,
           314,
           405,
           530,
           237,
           423,
           278,
           382,
           499,
           200,
           213,
           411,
           369,
           507,
           303,
           371,
           552,
           350,
           531,
           348,
           495,
           472,
           355,
           466,
           466,
           325,
           448,
           520,
           520,
           341,
           462,
           341,
           480,
           288,
           482,
           306,
           500,
           320,
           494,
           330,
           500,
           289,
           481,
           362,
           521,
           362,
           521,
           525,
           500,
           431,
           500,
           300,
           452,
           600,
           470,
           309,
           474,
           335,
           335,
           335,
           335,
           494,
           494,
           494,
           494,
           304,
           514,
           245,
           535,
           680,
           680,
           600,
           600,
           700,
           600,
           680,
           600
          ],
          "coloraxis": "coloraxis",
          "symbol": "circle"
         },
         "mode": "markers",
         "name": "",
         "scene": "scene",
         "showlegend": false,
         "type": "scatter3d",
         "x": [
          45,
          60,
          80,
          80,
          39,
          58,
          78,
          78,
          78,
          44,
          59,
          79,
          79,
          45,
          50,
          60,
          40,
          45,
          65,
          65,
          40,
          63,
          83,
          83,
          30,
          55,
          40,
          65,
          35,
          60,
          35,
          60,
          50,
          75,
          55,
          70,
          90,
          46,
          61,
          81,
          70,
          95,
          38,
          73,
          115,
          140,
          40,
          75,
          45,
          60,
          75,
          35,
          60,
          60,
          70,
          10,
          35,
          40,
          65,
          50,
          80,
          40,
          65,
          55,
          90,
          40,
          65,
          90,
          25,
          40,
          55,
          55,
          70,
          80,
          90,
          50,
          65,
          80,
          40,
          80,
          40,
          55,
          80,
          50,
          65,
          90,
          95,
          95,
          25,
          50,
          52,
          35,
          60,
          65,
          90,
          80,
          105,
          30,
          50,
          30,
          45,
          60,
          60,
          35,
          60,
          85,
          30,
          55,
          40,
          60,
          60,
          95,
          50,
          60,
          50,
          50,
          90,
          40,
          65,
          80,
          105,
          250,
          65,
          105,
          105,
          30,
          55,
          45,
          80,
          30,
          60,
          40,
          70,
          65,
          65,
          65,
          65,
          65,
          75,
          20,
          95,
          95,
          130,
          48,
          55,
          130,
          65,
          65,
          65,
          35,
          70,
          30,
          60,
          80,
          80,
          160,
          90,
          90,
          90,
          41,
          61,
          91,
          106,
          106,
          106,
          100,
          45,
          60,
          80,
          39,
          58,
          78,
          50,
          65,
          85,
          35,
          85,
          60,
          100,
          40,
          55,
          40,
          70,
          85,
          75,
          125,
          20,
          50,
          90,
          35,
          55,
          40,
          65,
          55,
          70,
          90,
          90,
          75,
          70,
          100,
          70,
          90,
          35,
          55,
          75,
          55,
          30,
          75,
          65,
          55,
          95,
          65,
          95,
          60,
          95,
          60,
          48,
          190,
          70,
          50,
          75,
          100,
          65,
          75,
          75,
          60,
          90,
          65,
          70,
          70,
          20,
          80,
          80,
          55,
          60,
          90,
          40,
          50,
          50,
          100,
          55,
          35,
          75,
          45,
          65,
          65,
          45,
          75,
          75,
          75,
          90,
          90,
          85,
          73,
          55,
          35,
          50,
          45,
          45,
          45,
          95,
          255,
          90,
          115,
          100,
          50,
          70,
          100,
          100,
          106,
          106,
          100,
          40,
          50,
          70,
          70,
          45,
          60,
          80,
          80,
          50,
          70,
          100,
          100,
          35,
          70,
          38,
          78,
          45,
          50,
          60,
          50,
          60,
          40,
          60,
          80,
          40,
          70,
          90,
          40,
          60,
          40,
          60,
          28,
          38,
          68,
          68,
          40,
          70,
          60,
          60,
          60,
          80,
          150,
          31,
          61,
          1,
          64,
          84,
          104,
          72,
          144,
          50,
          30,
          50,
          70,
          50,
          50,
          50,
          50,
          50,
          60,
          70,
          70,
          30,
          60,
          60,
          40,
          70,
          70,
          60,
          60,
          65,
          65,
          50,
          70,
          100,
          45,
          70,
          70,
          130,
          170,
          60,
          70,
          70,
          70,
          60,
          80,
          60,
          45,
          50,
          80,
          50,
          70,
          45,
          75,
          75,
          73,
          73,
          70,
          70,
          50,
          110,
          43,
          63,
          40,
          60,
          66,
          86,
          45,
          75,
          20,
          95,
          70,
          60,
          44,
          64,
          64,
          20,
          40,
          99,
          65,
          65,
          65,
          95,
          50,
          80,
          80,
          70,
          90,
          110,
          35,
          55,
          55,
          100,
          43,
          45,
          65,
          95,
          95,
          40,
          60,
          80,
          80,
          80,
          80,
          80,
          80,
          80,
          80,
          80,
          100,
          100,
          100,
          100,
          105,
          105,
          100,
          50,
          50,
          50,
          50,
          55,
          75,
          95,
          44,
          64,
          76,
          53,
          64,
          84,
          40,
          55,
          85,
          59,
          79,
          37,
          77,
          45,
          60,
          80,
          40,
          60,
          67,
          97,
          30,
          60,
          40,
          60,
          60,
          60,
          70,
          30,
          70,
          60,
          55,
          85,
          45,
          70,
          76,
          111,
          75,
          90,
          150,
          55,
          65,
          65,
          60,
          100,
          49,
          71,
          45,
          63,
          103,
          57,
          67,
          50,
          20,
          100,
          76,
          50,
          58,
          68,
          108,
          108,
          135,
          40,
          70,
          70,
          68,
          108,
          40,
          70,
          48,
          83,
          74,
          49,
          69,
          45,
          60,
          90,
          90,
          70,
          70,
          110,
          115,
          100,
          75,
          75,
          85,
          86,
          65,
          65,
          75,
          110,
          85,
          68,
          68,
          60,
          45,
          70,
          50,
          50,
          50,
          50,
          50,
          50,
          75,
          80,
          75,
          100,
          90,
          91,
          110,
          150,
          150,
          120,
          80,
          100,
          70,
          100,
          100,
          120,
          100,
          45,
          60,
          75,
          65,
          90,
          110,
          55,
          75,
          95,
          45,
          60,
          45,
          65,
          85,
          41,
          64,
          50,
          75,
          50,
          75,
          50,
          75,
          76,
          116,
          50,
          62,
          80,
          45,
          75,
          55,
          70,
          85,
          55,
          67,
          60,
          110,
          103,
          103,
          75,
          85,
          105,
          50,
          75,
          105,
          120,
          75,
          45,
          55,
          75,
          30,
          40,
          60,
          40,
          60,
          45,
          70,
          70,
          50,
          60,
          95,
          70,
          105,
          105,
          75,
          50,
          70,
          50,
          65,
          72,
          38,
          58,
          54,
          74,
          55,
          75,
          50,
          80,
          40,
          60,
          55,
          75,
          45,
          60,
          70,
          45,
          65,
          110,
          62,
          75,
          36,
          51,
          71,
          60,
          80,
          55,
          50,
          70,
          69,
          114,
          55,
          100,
          165,
          50,
          70,
          44,
          74,
          40,
          60,
          60,
          35,
          65,
          85,
          55,
          75,
          50,
          60,
          60,
          46,
          66,
          76,
          55,
          95,
          70,
          50,
          80,
          109,
          45,
          65,
          77,
          59,
          89,
          45,
          65,
          95,
          70,
          100,
          70,
          110,
          85,
          58,
          52,
          72,
          92,
          55,
          85,
          91,
          91,
          91,
          79,
          79,
          79,
          79,
          100,
          100,
          89,
          89,
          125,
          125,
          125,
          91,
          91,
          100,
          100,
          71,
          56,
          61,
          88,
          40,
          59,
          75,
          41,
          54,
          72,
          38,
          85,
          45,
          62,
          78,
          38,
          45,
          80,
          62,
          86,
          44,
          54,
          78,
          66,
          123,
          67,
          95,
          75,
          62,
          74,
          74,
          45,
          59,
          60,
          60,
          78,
          101,
          62,
          82,
          53,
          86,
          42,
          72,
          50,
          65,
          50,
          71,
          44,
          62,
          58,
          82,
          77,
          123,
          95,
          78,
          67,
          50,
          45,
          68,
          90,
          57,
          43,
          85,
          49,
          44,
          54,
          59,
          65,
          55,
          75,
          85,
          55,
          95,
          40,
          85,
          126,
          126,
          108,
          50,
          50,
          80,
          80,
          80
         ],
         "y": [
          49,
          63,
          83,
          123,
          43,
          58,
          78,
          111,
          78,
          65,
          80,
          100,
          120,
          35,
          55,
          50,
          30,
          50,
          40,
          40,
          40,
          55,
          75,
          80,
          35,
          60,
          30,
          65,
          44,
          69,
          40,
          55,
          85,
          110,
          52,
          67,
          87,
          40,
          57,
          77,
          48,
          73,
          40,
          75,
          20,
          45,
          35,
          70,
          55,
          70,
          85,
          55,
          80,
          50,
          60,
          25,
          50,
          35,
          60,
          48,
          78,
          35,
          60,
          45,
          80,
          40,
          65,
          95,
          15,
          30,
          45,
          65,
          50,
          70,
          80,
          35,
          50,
          65,
          35,
          65,
          100,
          115,
          130,
          55,
          70,
          65,
          110,
          180,
          70,
          95,
          55,
          45,
          70,
          55,
          80,
          50,
          75,
          100,
          180,
          30,
          45,
          60,
          80,
          160,
          45,
          70,
          90,
          115,
          50,
          70,
          80,
          85,
          95,
          110,
          53,
          79,
          75,
          95,
          120,
          95,
          120,
          5,
          115,
          80,
          100,
          70,
          95,
          60,
          65,
          55,
          85,
          65,
          80,
          35,
          57,
          57,
          100,
          120,
          95,
          55,
          79,
          109,
          80,
          48,
          50,
          60,
          60,
          60,
          70,
          100,
          125,
          90,
          105,
          65,
          85,
          65,
          100,
          85,
          90,
          45,
          65,
          95,
          90,
          100,
          70,
          100,
          65,
          80,
          100,
          43,
          58,
          78,
          64,
          80,
          100,
          34,
          64,
          30,
          50,
          30,
          50,
          40,
          70,
          80,
          38,
          58,
          15,
          28,
          15,
          65,
          85,
          45,
          70,
          40,
          55,
          85,
          105,
          95,
          50,
          80,
          115,
          75,
          40,
          50,
          70,
          55,
          30,
          55,
          45,
          45,
          85,
          60,
          110,
          42,
          80,
          60,
          48,
          58,
          65,
          90,
          140,
          70,
          105,
          200,
          230,
          50,
          75,
          75,
          100,
          140,
          230,
          75,
          115,
          55,
          50,
          75,
          40,
          120,
          40,
          80,
          85,
          35,
          75,
          45,
          70,
          140,
          30,
          50,
          90,
          95,
          60,
          120,
          90,
          62,
          35,
          35,
          95,
          15,
          37,
          37,
          105,
          10,
          75,
          85,
          115,
          50,
          70,
          110,
          150,
          130,
          90,
          100,
          35,
          45,
          65,
          75,
          40,
          60,
          70,
          80,
          50,
          70,
          90,
          110,
          35,
          70,
          41,
          61,
          35,
          55,
          50,
          55,
          70,
          30,
          50,
          70,
          50,
          40,
          60,
          30,
          60,
          30,
          100,
          25,
          35,
          65,
          65,
          32,
          62,
          60,
          80,
          60,
          80,
          100,
          90,
          45,
          45,
          23,
          43,
          63,
          30,
          60,
          40,
          135,
          45,
          65,
          75,
          125,
          85,
          125,
          100,
          140,
          180,
          230,
          55,
          75,
          85,
          40,
          60,
          80,
          40,
          50,
          55,
          55,
          45,
          53,
          83,
          20,
          40,
          70,
          35,
          45,
          40,
          70,
          100,
          140,
          35,
          65,
          60,
          45,
          50,
          80,
          40,
          60,
          60,
          90,
          110,
          60,
          60,
          65,
          85,
          43,
          73,
          65,
          85,
          55,
          105,
          77,
          97,
          50,
          100,
          20,
          79,
          70,
          70,
          35,
          65,
          75,
          90,
          130,
          83,
          70,
          60,
          60,
          48,
          50,
          80,
          80,
          50,
          70,
          90,
          85,
          105,
          105,
          130,
          55,
          60,
          100,
          80,
          130,
          80,
          100,
          130,
          150,
          200,
          100,
          150,
          90,
          120,
          80,
          100,
          90,
          90,
          140,
          160,
          90,
          100,
          100,
          50,
          20,
          160,
          90,
          64,
          85,
          105,
          44,
          52,
          71,
          53,
          68,
          88,
          30,
          50,
          70,
          40,
          60,
          41,
          51,
          34,
          49,
          79,
          35,
          65,
          40,
          60,
          118,
          168,
          45,
          85,
          105,
          95,
          50,
          42,
          102,
          70,
          35,
          55,
          45,
          70,
          48,
          68,
          66,
          34,
          44,
          44,
          84,
          94,
          60,
          52,
          42,
          64,
          50,
          47,
          67,
          86,
          116,
          95,
          45,
          5,
          45,
          108,
          45,
          65,
          95,
          115,
          40,
          40,
          70,
          88,
          78,
          118,
          90,
          110,
          40,
          65,
          72,
          56,
          76,
          50,
          50,
          75,
          105,
          65,
          115,
          95,
          130,
          125,
          67,
          67,
          95,
          86,
          130,
          110,
          125,
          80,
          70,
          65,
          95,
          145,
          135,
          70,
          77,
          107,
          107,
          107,
          107,
          107,
          130,
          105,
          70,
          120,
          100,
          106,
          110,
          120,
          100,
          120,
          80,
          100,
          90,
          100,
          75,
          120,
          100,
          55,
          75,
          95,
          45,
          55,
          65,
          45,
          60,
          85,
          39,
          69,
          45,
          65,
          90,
          37,
          50,
          48,
          63,
          48,
          63,
          48,
          63,
          45,
          85,
          50,
          62,
          80,
          32,
          63,
          85,
          105,
          130,
          43,
          55,
          40,
          60,
          86,
          126,
          55,
          85,
          95,
          40,
          55,
          75,
          85,
          75,
          70,
          90,
          80,
          59,
          99,
          89,
          60,
          85,
          50,
          75,
          65,
          35,
          45,
          80,
          45,
          55,
          105,
          67,
          85,
          125,
          70,
          115,
          80,
          85,
          145,
          103,
          133,
          45,
          65,
          62,
          82,
          40,
          60,
          40,
          60,
          50,
          70,
          95,
          40,
          50,
          75,
          50,
          63,
          50,
          65,
          85,
          50,
          70,
          60,
          45,
          105,
          45,
          70,
          50,
          70,
          80,
          50,
          60,
          91,
          131,
          70,
          95,
          115,
          40,
          70,
          80,
          55,
          75,
          55,
          60,
          90,
          60,
          70,
          90,
          40,
          80,
          30,
          85,
          40,
          84,
          50,
          60,
          90,
          50,
          80,
          70,
          100,
          95,
          50,
          75,
          75,
          105,
          66,
          112,
          50,
          70,
          90,
          55,
          65,
          129,
          90,
          72,
          70,
          80,
          70,
          70,
          100,
          120,
          90,
          90,
          90,
          100,
          90,
          90,
          90,
          77,
          90,
          95,
          65,
          95,
          122,
          40,
          58,
          72,
          40,
          52,
          67,
          38,
          77,
          43,
          55,
          71,
          40,
          60,
          50,
          58,
          72,
          39,
          47,
          68,
          48,
          62,
          62,
          78,
          60,
          54,
          76,
          76,
          100,
          150,
          50,
          150,
          60,
          72,
          66,
          86,
          53,
          88,
          67,
          115,
          60,
          90,
          62,
          88,
          33,
          52,
          77,
          119,
          50,
          72,
          65,
          75,
          57,
          150,
          35,
          53,
          70,
          91,
          48,
          76,
          70,
          70,
          70,
          70,
          122,
          122,
          122,
          122,
          85,
          184,
          35,
          80,
          95,
          95,
          121,
          150,
          110,
          60,
          60,
          120
         ],
         "z": [
          49,
          62,
          82,
          100,
          52,
          64,
          84,
          130,
          104,
          48,
          63,
          83,
          103,
          30,
          20,
          45,
          35,
          25,
          90,
          150,
          45,
          60,
          80,
          80,
          56,
          81,
          60,
          90,
          60,
          85,
          55,
          90,
          75,
          100,
          47,
          62,
          92,
          57,
          72,
          102,
          45,
          70,
          41,
          76,
          45,
          70,
          45,
          80,
          50,
          65,
          80,
          70,
          95,
          55,
          65,
          55,
          80,
          45,
          70,
          52,
          82,
          80,
          105,
          70,
          110,
          50,
          65,
          95,
          20,
          35,
          50,
          50,
          80,
          100,
          130,
          75,
          90,
          105,
          40,
          70,
          80,
          95,
          120,
          85,
          100,
          65,
          75,
          75,
          35,
          60,
          65,
          85,
          110,
          45,
          70,
          80,
          105,
          65,
          95,
          35,
          50,
          65,
          65,
          45,
          48,
          73,
          105,
          130,
          30,
          50,
          40,
          95,
          50,
          80,
          120,
          105,
          55,
          65,
          90,
          85,
          130,
          5,
          55,
          95,
          125,
          40,
          65,
          67,
          92,
          45,
          75,
          45,
          110,
          50,
          83,
          95,
          125,
          155,
          100,
          10,
          125,
          155,
          85,
          48,
          55,
          65,
          65,
          130,
          60,
          40,
          60,
          80,
          115,
          105,
          135,
          110,
          85,
          90,
          100,
          64,
          84,
          134,
          110,
          190,
          150,
          100,
          49,
          62,
          82,
          52,
          64,
          84,
          65,
          80,
          105,
          46,
          76,
          30,
          50,
          20,
          35,
          60,
          90,
          90,
          38,
          58,
          40,
          25,
          30,
          20,
          40,
          50,
          75,
          40,
          55,
          75,
          95,
          80,
          20,
          50,
          100,
          75,
          35,
          45,
          55,
          70,
          30,
          75,
          65,
          45,
          85,
          65,
          65,
          85,
          75,
          60,
          72,
          33,
          80,
          65,
          90,
          70,
          75,
          85,
          125,
          80,
          120,
          95,
          130,
          150,
          10,
          125,
          185,
          95,
          80,
          130,
          40,
          50,
          50,
          100,
          55,
          65,
          105,
          55,
          40,
          80,
          60,
          90,
          90,
          95,
          60,
          120,
          80,
          95,
          20,
          35,
          95,
          30,
          63,
          75,
          80,
          10,
          85,
          115,
          75,
          64,
          84,
          134,
          164,
          90,
          130,
          100,
          45,
          65,
          85,
          110,
          60,
          85,
          120,
          160,
          70,
          85,
          110,
          150,
          55,
          90,
          30,
          70,
          45,
          35,
          70,
          35,
          50,
          30,
          50,
          70,
          40,
          70,
          100,
          55,
          85,
          30,
          50,
          25,
          35,
          65,
          85,
          30,
          60,
          40,
          130,
          60,
          80,
          160,
          45,
          90,
          90,
          51,
          71,
          91,
          60,
          120,
          20,
          45,
          45,
          65,
          75,
          85,
          85,
          105,
          70,
          90,
          110,
          140,
          40,
          60,
          100,
          45,
          75,
          75,
          50,
          40,
          73,
          47,
          60,
          43,
          73,
          90,
          120,
          140,
          70,
          90,
          60,
          100,
          120,
          85,
          25,
          45,
          60,
          100,
          70,
          100,
          85,
          115,
          40,
          70,
          110,
          115,
          100,
          55,
          95,
          48,
          78,
          80,
          120,
          40,
          70,
          41,
          81,
          95,
          125,
          15,
          60,
          70,
          90,
          75,
          115,
          165,
          40,
          70,
          68,
          50,
          130,
          150,
          23,
          50,
          80,
          120,
          40,
          60,
          80,
          64,
          104,
          84,
          90,
          30,
          75,
          95,
          135,
          145,
          55,
          75,
          135,
          145,
          100,
          50,
          75,
          80,
          100,
          90,
          130,
          100,
          150,
          150,
          180,
          150,
          180,
          100,
          150,
          180,
          70,
          95,
          68,
          89,
          109,
          58,
          78,
          104,
          51,
          66,
          86,
          55,
          75,
          120,
          45,
          85,
          25,
          85,
          65,
          85,
          120,
          30,
          70,
          125,
          165,
          42,
          52,
          29,
          59,
          79,
          69,
          94,
          30,
          80,
          45,
          65,
          105,
          35,
          60,
          48,
          83,
          100,
          50,
          80,
          66,
          76,
          136,
          60,
          125,
          55,
          82,
          30,
          63,
          93,
          24,
          89,
          80,
          25,
          5,
          65,
          92,
          70,
          90,
          130,
          170,
          85,
          70,
          110,
          145,
          72,
          112,
          50,
          90,
          61,
          106,
          100,
          49,
          69,
          20,
          62,
          92,
          132,
          120,
          70,
          85,
          140,
          100,
          123,
          95,
          50,
          76,
          110,
          60,
          95,
          130,
          80,
          125,
          165,
          55,
          100,
          80,
          50,
          65,
          65,
          65,
          65,
          65,
          75,
          105,
          125,
          120,
          120,
          90,
          160,
          100,
          120,
          70,
          80,
          100,
          90,
          100,
          103,
          120,
          100,
          45,
          60,
          75,
          63,
          93,
          123,
          55,
          75,
          100,
          55,
          85,
          60,
          80,
          110,
          50,
          88,
          53,
          98,
          53,
          98,
          53,
          98,
          25,
          55,
          55,
          77,
          115,
          60,
          100,
          75,
          105,
          135,
          45,
          57,
          85,
          135,
          60,
          60,
          80,
          105,
          140,
          50,
          65,
          95,
          100,
          125,
          53,
          63,
          103,
          45,
          55,
          100,
          27,
          67,
          35,
          60,
          92,
          72,
          82,
          117,
          90,
          140,
          30,
          86,
          65,
          95,
          75,
          90,
          58,
          30,
          50,
          78,
          108,
          112,
          140,
          50,
          95,
          65,
          105,
          50,
          95,
          30,
          45,
          55,
          30,
          40,
          65,
          44,
          87,
          50,
          65,
          95,
          60,
          100,
          75,
          75,
          135,
          55,
          85,
          40,
          60,
          75,
          47,
          77,
          50,
          94,
          55,
          80,
          100,
          55,
          85,
          115,
          55,
          75,
          30,
          40,
          55,
          87,
          117,
          147,
          70,
          110,
          50,
          40,
          70,
          66,
          85,
          125,
          120,
          74,
          124,
          85,
          125,
          110,
          83,
          123,
          55,
          65,
          97,
          109,
          65,
          85,
          105,
          85,
          60,
          90,
          129,
          90,
          115,
          100,
          115,
          105,
          120,
          150,
          125,
          145,
          130,
          170,
          120,
          72,
          72,
          77,
          128,
          120,
          61,
          78,
          107,
          45,
          59,
          69,
          56,
          63,
          95,
          36,
          56,
          50,
          73,
          81,
          35,
          22,
          52,
          50,
          68,
          38,
          45,
          65,
          65,
          100,
          82,
          124,
          80,
          48,
          48,
          48,
          80,
          110,
          150,
          50,
          52,
          72,
          48,
          80,
          54,
          92,
          52,
          105,
          60,
          75,
          53,
          73,
          38,
          55,
          89,
          121,
          59,
          77,
          65,
          92,
          58,
          50,
          50,
          75,
          100,
          80,
          70,
          110,
          66,
          66,
          66,
          66,
          90,
          85,
          95,
          100,
          69,
          117,
          30,
          70,
          131,
          131,
          100,
          100,
          160,
          110,
          160,
          110
         ]
        }
       ],
       "layout": {
        "coloraxis": {
         "colorbar": {
          "title": {
           "text": "Total"
          }
         },
         "colorscale": [
          [
           0,
           "#440154"
          ],
          [
           0.1111111111111111,
           "#482878"
          ],
          [
           0.2222222222222222,
           "#3e4989"
          ],
          [
           0.3333333333333333,
           "#31688e"
          ],
          [
           0.4444444444444444,
           "#26828e"
          ],
          [
           0.5555555555555556,
           "#1f9e89"
          ],
          [
           0.6666666666666666,
           "#35b779"
          ],
          [
           0.7777777777777778,
           "#6ece58"
          ],
          [
           0.8888888888888888,
           "#b5de2b"
          ],
          [
           1,
           "#fde725"
          ]
         ]
        },
        "height": 700,
        "legend": {
         "tracegroupgap": 0
        },
        "margin": {
         "t": 60
        },
        "scene": {
         "domain": {
          "x": [
           0,
           1
          ],
          "y": [
           0,
           1
          ]
         },
         "xaxis": {
          "title": {
           "text": "HP"
          }
         },
         "yaxis": {
          "title": {
           "text": "Defense"
          }
         },
         "zaxis": {
          "title": {
           "text": "Attack"
          }
         }
        },
        "template": {
         "data": {
          "bar": [
           {
            "error_x": {
             "color": "#2a3f5f"
            },
            "error_y": {
             "color": "#2a3f5f"
            },
            "marker": {
             "line": {
              "color": "#E5ECF6",
              "width": 0.5
             },
             "pattern": {
              "fillmode": "overlay",
              "size": 10,
              "solidity": 0.2
             }
            },
            "type": "bar"
           }
          ],
          "barpolar": [
           {
            "marker": {
             "line": {
              "color": "#E5ECF6",
              "width": 0.5
             },
             "pattern": {
              "fillmode": "overlay",
              "size": 10,
              "solidity": 0.2
             }
            },
            "type": "barpolar"
           }
          ],
          "carpet": [
           {
            "aaxis": {
             "endlinecolor": "#2a3f5f",
             "gridcolor": "white",
             "linecolor": "white",
             "minorgridcolor": "white",
             "startlinecolor": "#2a3f5f"
            },
            "baxis": {
             "endlinecolor": "#2a3f5f",
             "gridcolor": "white",
             "linecolor": "white",
             "minorgridcolor": "white",
             "startlinecolor": "#2a3f5f"
            },
            "type": "carpet"
           }
          ],
          "choropleth": [
           {
            "colorbar": {
             "outlinewidth": 0,
             "ticks": ""
            },
            "type": "choropleth"
           }
          ],
          "contour": [
           {
            "colorbar": {
             "outlinewidth": 0,
             "ticks": ""
            },
            "colorscale": [
             [
              0,
              "#0d0887"
             ],
             [
              0.1111111111111111,
              "#46039f"
             ],
             [
              0.2222222222222222,
              "#7201a8"
             ],
             [
              0.3333333333333333,
              "#9c179e"
             ],
             [
              0.4444444444444444,
              "#bd3786"
             ],
             [
              0.5555555555555556,
              "#d8576b"
             ],
             [
              0.6666666666666666,
              "#ed7953"
             ],
             [
              0.7777777777777778,
              "#fb9f3a"
             ],
             [
              0.8888888888888888,
              "#fdca26"
             ],
             [
              1,
              "#f0f921"
             ]
            ],
            "type": "contour"
           }
          ],
          "contourcarpet": [
           {
            "colorbar": {
             "outlinewidth": 0,
             "ticks": ""
            },
            "type": "contourcarpet"
           }
          ],
          "heatmap": [
           {
            "colorbar": {
             "outlinewidth": 0,
             "ticks": ""
            },
            "colorscale": [
             [
              0,
              "#0d0887"
             ],
             [
              0.1111111111111111,
              "#46039f"
             ],
             [
              0.2222222222222222,
              "#7201a8"
             ],
             [
              0.3333333333333333,
              "#9c179e"
             ],
             [
              0.4444444444444444,
              "#bd3786"
             ],
             [
              0.5555555555555556,
              "#d8576b"
             ],
             [
              0.6666666666666666,
              "#ed7953"
             ],
             [
              0.7777777777777778,
              "#fb9f3a"
             ],
             [
              0.8888888888888888,
              "#fdca26"
             ],
             [
              1,
              "#f0f921"
             ]
            ],
            "type": "heatmap"
           }
          ],
          "heatmapgl": [
           {
            "colorbar": {
             "outlinewidth": 0,
             "ticks": ""
            },
            "colorscale": [
             [
              0,
              "#0d0887"
             ],
             [
              0.1111111111111111,
              "#46039f"
             ],
             [
              0.2222222222222222,
              "#7201a8"
             ],
             [
              0.3333333333333333,
              "#9c179e"
             ],
             [
              0.4444444444444444,
              "#bd3786"
             ],
             [
              0.5555555555555556,
              "#d8576b"
             ],
             [
              0.6666666666666666,
              "#ed7953"
             ],
             [
              0.7777777777777778,
              "#fb9f3a"
             ],
             [
              0.8888888888888888,
              "#fdca26"
             ],
             [
              1,
              "#f0f921"
             ]
            ],
            "type": "heatmapgl"
           }
          ],
          "histogram": [
           {
            "marker": {
             "pattern": {
              "fillmode": "overlay",
              "size": 10,
              "solidity": 0.2
             }
            },
            "type": "histogram"
           }
          ],
          "histogram2d": [
           {
            "colorbar": {
             "outlinewidth": 0,
             "ticks": ""
            },
            "colorscale": [
             [
              0,
              "#0d0887"
             ],
             [
              0.1111111111111111,
              "#46039f"
             ],
             [
              0.2222222222222222,
              "#7201a8"
             ],
             [
              0.3333333333333333,
              "#9c179e"
             ],
             [
              0.4444444444444444,
              "#bd3786"
             ],
             [
              0.5555555555555556,
              "#d8576b"
             ],
             [
              0.6666666666666666,
              "#ed7953"
             ],
             [
              0.7777777777777778,
              "#fb9f3a"
             ],
             [
              0.8888888888888888,
              "#fdca26"
             ],
             [
              1,
              "#f0f921"
             ]
            ],
            "type": "histogram2d"
           }
          ],
          "histogram2dcontour": [
           {
            "colorbar": {
             "outlinewidth": 0,
             "ticks": ""
            },
            "colorscale": [
             [
              0,
              "#0d0887"
             ],
             [
              0.1111111111111111,
              "#46039f"
             ],
             [
              0.2222222222222222,
              "#7201a8"
             ],
             [
              0.3333333333333333,
              "#9c179e"
             ],
             [
              0.4444444444444444,
              "#bd3786"
             ],
             [
              0.5555555555555556,
              "#d8576b"
             ],
             [
              0.6666666666666666,
              "#ed7953"
             ],
             [
              0.7777777777777778,
              "#fb9f3a"
             ],
             [
              0.8888888888888888,
              "#fdca26"
             ],
             [
              1,
              "#f0f921"
             ]
            ],
            "type": "histogram2dcontour"
           }
          ],
          "mesh3d": [
           {
            "colorbar": {
             "outlinewidth": 0,
             "ticks": ""
            },
            "type": "mesh3d"
           }
          ],
          "parcoords": [
           {
            "line": {
             "colorbar": {
              "outlinewidth": 0,
              "ticks": ""
             }
            },
            "type": "parcoords"
           }
          ],
          "pie": [
           {
            "automargin": true,
            "type": "pie"
           }
          ],
          "scatter": [
           {
            "marker": {
             "colorbar": {
              "outlinewidth": 0,
              "ticks": ""
             }
            },
            "type": "scatter"
           }
          ],
          "scatter3d": [
           {
            "line": {
             "colorbar": {
              "outlinewidth": 0,
              "ticks": ""
             }
            },
            "marker": {
             "colorbar": {
              "outlinewidth": 0,
              "ticks": ""
             }
            },
            "type": "scatter3d"
           }
          ],
          "scattercarpet": [
           {
            "marker": {
             "colorbar": {
              "outlinewidth": 0,
              "ticks": ""
             }
            },
            "type": "scattercarpet"
           }
          ],
          "scattergeo": [
           {
            "marker": {
             "colorbar": {
              "outlinewidth": 0,
              "ticks": ""
             }
            },
            "type": "scattergeo"
           }
          ],
          "scattergl": [
           {
            "marker": {
             "colorbar": {
              "outlinewidth": 0,
              "ticks": ""
             }
            },
            "type": "scattergl"
           }
          ],
          "scattermapbox": [
           {
            "marker": {
             "colorbar": {
              "outlinewidth": 0,
              "ticks": ""
             }
            },
            "type": "scattermapbox"
           }
          ],
          "scatterpolar": [
           {
            "marker": {
             "colorbar": {
              "outlinewidth": 0,
              "ticks": ""
             }
            },
            "type": "scatterpolar"
           }
          ],
          "scatterpolargl": [
           {
            "marker": {
             "colorbar": {
              "outlinewidth": 0,
              "ticks": ""
             }
            },
            "type": "scatterpolargl"
           }
          ],
          "scatterternary": [
           {
            "marker": {
             "colorbar": {
              "outlinewidth": 0,
              "ticks": ""
             }
            },
            "type": "scatterternary"
           }
          ],
          "surface": [
           {
            "colorbar": {
             "outlinewidth": 0,
             "ticks": ""
            },
            "colorscale": [
             [
              0,
              "#0d0887"
             ],
             [
              0.1111111111111111,
              "#46039f"
             ],
             [
              0.2222222222222222,
              "#7201a8"
             ],
             [
              0.3333333333333333,
              "#9c179e"
             ],
             [
              0.4444444444444444,
              "#bd3786"
             ],
             [
              0.5555555555555556,
              "#d8576b"
             ],
             [
              0.6666666666666666,
              "#ed7953"
             ],
             [
              0.7777777777777778,
              "#fb9f3a"
             ],
             [
              0.8888888888888888,
              "#fdca26"
             ],
             [
              1,
              "#f0f921"
             ]
            ],
            "type": "surface"
           }
          ],
          "table": [
           {
            "cells": {
             "fill": {
              "color": "#EBF0F8"
             },
             "line": {
              "color": "white"
             }
            },
            "header": {
             "fill": {
              "color": "#C8D4E3"
             },
             "line": {
              "color": "white"
             }
            },
            "type": "table"
           }
          ]
         },
         "layout": {
          "annotationdefaults": {
           "arrowcolor": "#2a3f5f",
           "arrowhead": 0,
           "arrowwidth": 1
          },
          "autotypenumbers": "strict",
          "coloraxis": {
           "colorbar": {
            "outlinewidth": 0,
            "ticks": ""
           }
          },
          "colorscale": {
           "diverging": [
            [
             0,
             "#8e0152"
            ],
            [
             0.1,
             "#c51b7d"
            ],
            [
             0.2,
             "#de77ae"
            ],
            [
             0.3,
             "#f1b6da"
            ],
            [
             0.4,
             "#fde0ef"
            ],
            [
             0.5,
             "#f7f7f7"
            ],
            [
             0.6,
             "#e6f5d0"
            ],
            [
             0.7,
             "#b8e186"
            ],
            [
             0.8,
             "#7fbc41"
            ],
            [
             0.9,
             "#4d9221"
            ],
            [
             1,
             "#276419"
            ]
           ],
           "sequential": [
            [
             0,
             "#0d0887"
            ],
            [
             0.1111111111111111,
             "#46039f"
            ],
            [
             0.2222222222222222,
             "#7201a8"
            ],
            [
             0.3333333333333333,
             "#9c179e"
            ],
            [
             0.4444444444444444,
             "#bd3786"
            ],
            [
             0.5555555555555556,
             "#d8576b"
            ],
            [
             0.6666666666666666,
             "#ed7953"
            ],
            [
             0.7777777777777778,
             "#fb9f3a"
            ],
            [
             0.8888888888888888,
             "#fdca26"
            ],
            [
             1,
             "#f0f921"
            ]
           ],
           "sequentialminus": [
            [
             0,
             "#0d0887"
            ],
            [
             0.1111111111111111,
             "#46039f"
            ],
            [
             0.2222222222222222,
             "#7201a8"
            ],
            [
             0.3333333333333333,
             "#9c179e"
            ],
            [
             0.4444444444444444,
             "#bd3786"
            ],
            [
             0.5555555555555556,
             "#d8576b"
            ],
            [
             0.6666666666666666,
             "#ed7953"
            ],
            [
             0.7777777777777778,
             "#fb9f3a"
            ],
            [
             0.8888888888888888,
             "#fdca26"
            ],
            [
             1,
             "#f0f921"
            ]
           ]
          },
          "colorway": [
           "#636efa",
           "#EF553B",
           "#00cc96",
           "#ab63fa",
           "#FFA15A",
           "#19d3f3",
           "#FF6692",
           "#B6E880",
           "#FF97FF",
           "#FECB52"
          ],
          "font": {
           "color": "#2a3f5f"
          },
          "geo": {
           "bgcolor": "white",
           "lakecolor": "white",
           "landcolor": "#E5ECF6",
           "showlakes": true,
           "showland": true,
           "subunitcolor": "white"
          },
          "hoverlabel": {
           "align": "left"
          },
          "hovermode": "closest",
          "mapbox": {
           "style": "light"
          },
          "paper_bgcolor": "white",
          "plot_bgcolor": "#E5ECF6",
          "polar": {
           "angularaxis": {
            "gridcolor": "white",
            "linecolor": "white",
            "ticks": ""
           },
           "bgcolor": "#E5ECF6",
           "radialaxis": {
            "gridcolor": "white",
            "linecolor": "white",
            "ticks": ""
           }
          },
          "scene": {
           "xaxis": {
            "backgroundcolor": "#E5ECF6",
            "gridcolor": "white",
            "gridwidth": 2,
            "linecolor": "white",
            "showbackground": true,
            "ticks": "",
            "zerolinecolor": "white"
           },
           "yaxis": {
            "backgroundcolor": "#E5ECF6",
            "gridcolor": "white",
            "gridwidth": 2,
            "linecolor": "white",
            "showbackground": true,
            "ticks": "",
            "zerolinecolor": "white"
           },
           "zaxis": {
            "backgroundcolor": "#E5ECF6",
            "gridcolor": "white",
            "gridwidth": 2,
            "linecolor": "white",
            "showbackground": true,
            "ticks": "",
            "zerolinecolor": "white"
           }
          },
          "shapedefaults": {
           "line": {
            "color": "#2a3f5f"
           }
          },
          "ternary": {
           "aaxis": {
            "gridcolor": "white",
            "linecolor": "white",
            "ticks": ""
           },
           "baxis": {
            "gridcolor": "white",
            "linecolor": "white",
            "ticks": ""
           },
           "bgcolor": "#E5ECF6",
           "caxis": {
            "gridcolor": "white",
            "linecolor": "white",
            "ticks": ""
           }
          },
          "title": {
           "x": 0.05
          },
          "xaxis": {
           "automargin": true,
           "gridcolor": "white",
           "linecolor": "white",
           "ticks": "",
           "title": {
            "standoff": 15
           },
           "zerolinecolor": "white",
           "zerolinewidth": 2
          },
          "yaxis": {
           "automargin": true,
           "gridcolor": "white",
           "linecolor": "white",
           "ticks": "",
           "title": {
            "standoff": 15
           },
           "zerolinecolor": "white",
           "zerolinewidth": 2
          }
         }
        }
       }
      }
     },
     "metadata": {},
     "output_type": "display_data"
    }
   ],
   "source": [
    "px.scatter_3d(data_frame = df, x = 'HP', y = 'Defense', z = 'Attack', color=\"Total\", height=700, color_continuous_scale=px.colors.sequential.Viridis )"
   ]
  },
  {
   "cell_type": "code",
   "execution_count": 13,
   "metadata": {},
   "outputs": [],
   "source": [
    "poke_types =  df.groupby('Type 1', as_index=False).count()"
   ]
  },
  {
   "cell_type": "code",
   "execution_count": 14,
   "metadata": {},
   "outputs": [
    {
     "data": {
      "application/vnd.plotly.v1+json": {
       "config": {
        "plotlyServerURL": "https://plot.ly"
       },
       "data": [
        {
         "domain": {
          "x": [
           0,
           1
          ],
          "y": [
           0,
           1
          ]
         },
         "hovertemplate": "Type 1=%{label}<br>Total=%{value}<extra></extra>",
         "labels": [
          "Bug",
          "Dark",
          "Dragon",
          "Electric",
          "Fairy",
          "Fighting",
          "Fire",
          "Flying",
          "Ghost",
          "Grass",
          "Ground",
          "Ice",
          "Normal",
          "Poison",
          "Psychic",
          "Rock",
          "Steel",
          "Water"
         ],
         "legendgroup": "",
         "name": "",
         "showlegend": true,
         "type": "pie",
         "values": [
          69,
          31,
          32,
          44,
          17,
          27,
          52,
          4,
          32,
          70,
          32,
          24,
          98,
          28,
          57,
          44,
          27,
          112
         ]
        }
       ],
       "layout": {
        "legend": {
         "tracegroupgap": 0
        },
        "margin": {
         "t": 60
        },
        "template": {
         "data": {
          "bar": [
           {
            "error_x": {
             "color": "#2a3f5f"
            },
            "error_y": {
             "color": "#2a3f5f"
            },
            "marker": {
             "line": {
              "color": "#E5ECF6",
              "width": 0.5
             },
             "pattern": {
              "fillmode": "overlay",
              "size": 10,
              "solidity": 0.2
             }
            },
            "type": "bar"
           }
          ],
          "barpolar": [
           {
            "marker": {
             "line": {
              "color": "#E5ECF6",
              "width": 0.5
             },
             "pattern": {
              "fillmode": "overlay",
              "size": 10,
              "solidity": 0.2
             }
            },
            "type": "barpolar"
           }
          ],
          "carpet": [
           {
            "aaxis": {
             "endlinecolor": "#2a3f5f",
             "gridcolor": "white",
             "linecolor": "white",
             "minorgridcolor": "white",
             "startlinecolor": "#2a3f5f"
            },
            "baxis": {
             "endlinecolor": "#2a3f5f",
             "gridcolor": "white",
             "linecolor": "white",
             "minorgridcolor": "white",
             "startlinecolor": "#2a3f5f"
            },
            "type": "carpet"
           }
          ],
          "choropleth": [
           {
            "colorbar": {
             "outlinewidth": 0,
             "ticks": ""
            },
            "type": "choropleth"
           }
          ],
          "contour": [
           {
            "colorbar": {
             "outlinewidth": 0,
             "ticks": ""
            },
            "colorscale": [
             [
              0,
              "#0d0887"
             ],
             [
              0.1111111111111111,
              "#46039f"
             ],
             [
              0.2222222222222222,
              "#7201a8"
             ],
             [
              0.3333333333333333,
              "#9c179e"
             ],
             [
              0.4444444444444444,
              "#bd3786"
             ],
             [
              0.5555555555555556,
              "#d8576b"
             ],
             [
              0.6666666666666666,
              "#ed7953"
             ],
             [
              0.7777777777777778,
              "#fb9f3a"
             ],
             [
              0.8888888888888888,
              "#fdca26"
             ],
             [
              1,
              "#f0f921"
             ]
            ],
            "type": "contour"
           }
          ],
          "contourcarpet": [
           {
            "colorbar": {
             "outlinewidth": 0,
             "ticks": ""
            },
            "type": "contourcarpet"
           }
          ],
          "heatmap": [
           {
            "colorbar": {
             "outlinewidth": 0,
             "ticks": ""
            },
            "colorscale": [
             [
              0,
              "#0d0887"
             ],
             [
              0.1111111111111111,
              "#46039f"
             ],
             [
              0.2222222222222222,
              "#7201a8"
             ],
             [
              0.3333333333333333,
              "#9c179e"
             ],
             [
              0.4444444444444444,
              "#bd3786"
             ],
             [
              0.5555555555555556,
              "#d8576b"
             ],
             [
              0.6666666666666666,
              "#ed7953"
             ],
             [
              0.7777777777777778,
              "#fb9f3a"
             ],
             [
              0.8888888888888888,
              "#fdca26"
             ],
             [
              1,
              "#f0f921"
             ]
            ],
            "type": "heatmap"
           }
          ],
          "heatmapgl": [
           {
            "colorbar": {
             "outlinewidth": 0,
             "ticks": ""
            },
            "colorscale": [
             [
              0,
              "#0d0887"
             ],
             [
              0.1111111111111111,
              "#46039f"
             ],
             [
              0.2222222222222222,
              "#7201a8"
             ],
             [
              0.3333333333333333,
              "#9c179e"
             ],
             [
              0.4444444444444444,
              "#bd3786"
             ],
             [
              0.5555555555555556,
              "#d8576b"
             ],
             [
              0.6666666666666666,
              "#ed7953"
             ],
             [
              0.7777777777777778,
              "#fb9f3a"
             ],
             [
              0.8888888888888888,
              "#fdca26"
             ],
             [
              1,
              "#f0f921"
             ]
            ],
            "type": "heatmapgl"
           }
          ],
          "histogram": [
           {
            "marker": {
             "pattern": {
              "fillmode": "overlay",
              "size": 10,
              "solidity": 0.2
             }
            },
            "type": "histogram"
           }
          ],
          "histogram2d": [
           {
            "colorbar": {
             "outlinewidth": 0,
             "ticks": ""
            },
            "colorscale": [
             [
              0,
              "#0d0887"
             ],
             [
              0.1111111111111111,
              "#46039f"
             ],
             [
              0.2222222222222222,
              "#7201a8"
             ],
             [
              0.3333333333333333,
              "#9c179e"
             ],
             [
              0.4444444444444444,
              "#bd3786"
             ],
             [
              0.5555555555555556,
              "#d8576b"
             ],
             [
              0.6666666666666666,
              "#ed7953"
             ],
             [
              0.7777777777777778,
              "#fb9f3a"
             ],
             [
              0.8888888888888888,
              "#fdca26"
             ],
             [
              1,
              "#f0f921"
             ]
            ],
            "type": "histogram2d"
           }
          ],
          "histogram2dcontour": [
           {
            "colorbar": {
             "outlinewidth": 0,
             "ticks": ""
            },
            "colorscale": [
             [
              0,
              "#0d0887"
             ],
             [
              0.1111111111111111,
              "#46039f"
             ],
             [
              0.2222222222222222,
              "#7201a8"
             ],
             [
              0.3333333333333333,
              "#9c179e"
             ],
             [
              0.4444444444444444,
              "#bd3786"
             ],
             [
              0.5555555555555556,
              "#d8576b"
             ],
             [
              0.6666666666666666,
              "#ed7953"
             ],
             [
              0.7777777777777778,
              "#fb9f3a"
             ],
             [
              0.8888888888888888,
              "#fdca26"
             ],
             [
              1,
              "#f0f921"
             ]
            ],
            "type": "histogram2dcontour"
           }
          ],
          "mesh3d": [
           {
            "colorbar": {
             "outlinewidth": 0,
             "ticks": ""
            },
            "type": "mesh3d"
           }
          ],
          "parcoords": [
           {
            "line": {
             "colorbar": {
              "outlinewidth": 0,
              "ticks": ""
             }
            },
            "type": "parcoords"
           }
          ],
          "pie": [
           {
            "automargin": true,
            "type": "pie"
           }
          ],
          "scatter": [
           {
            "marker": {
             "colorbar": {
              "outlinewidth": 0,
              "ticks": ""
             }
            },
            "type": "scatter"
           }
          ],
          "scatter3d": [
           {
            "line": {
             "colorbar": {
              "outlinewidth": 0,
              "ticks": ""
             }
            },
            "marker": {
             "colorbar": {
              "outlinewidth": 0,
              "ticks": ""
             }
            },
            "type": "scatter3d"
           }
          ],
          "scattercarpet": [
           {
            "marker": {
             "colorbar": {
              "outlinewidth": 0,
              "ticks": ""
             }
            },
            "type": "scattercarpet"
           }
          ],
          "scattergeo": [
           {
            "marker": {
             "colorbar": {
              "outlinewidth": 0,
              "ticks": ""
             }
            },
            "type": "scattergeo"
           }
          ],
          "scattergl": [
           {
            "marker": {
             "colorbar": {
              "outlinewidth": 0,
              "ticks": ""
             }
            },
            "type": "scattergl"
           }
          ],
          "scattermapbox": [
           {
            "marker": {
             "colorbar": {
              "outlinewidth": 0,
              "ticks": ""
             }
            },
            "type": "scattermapbox"
           }
          ],
          "scatterpolar": [
           {
            "marker": {
             "colorbar": {
              "outlinewidth": 0,
              "ticks": ""
             }
            },
            "type": "scatterpolar"
           }
          ],
          "scatterpolargl": [
           {
            "marker": {
             "colorbar": {
              "outlinewidth": 0,
              "ticks": ""
             }
            },
            "type": "scatterpolargl"
           }
          ],
          "scatterternary": [
           {
            "marker": {
             "colorbar": {
              "outlinewidth": 0,
              "ticks": ""
             }
            },
            "type": "scatterternary"
           }
          ],
          "surface": [
           {
            "colorbar": {
             "outlinewidth": 0,
             "ticks": ""
            },
            "colorscale": [
             [
              0,
              "#0d0887"
             ],
             [
              0.1111111111111111,
              "#46039f"
             ],
             [
              0.2222222222222222,
              "#7201a8"
             ],
             [
              0.3333333333333333,
              "#9c179e"
             ],
             [
              0.4444444444444444,
              "#bd3786"
             ],
             [
              0.5555555555555556,
              "#d8576b"
             ],
             [
              0.6666666666666666,
              "#ed7953"
             ],
             [
              0.7777777777777778,
              "#fb9f3a"
             ],
             [
              0.8888888888888888,
              "#fdca26"
             ],
             [
              1,
              "#f0f921"
             ]
            ],
            "type": "surface"
           }
          ],
          "table": [
           {
            "cells": {
             "fill": {
              "color": "#EBF0F8"
             },
             "line": {
              "color": "white"
             }
            },
            "header": {
             "fill": {
              "color": "#C8D4E3"
             },
             "line": {
              "color": "white"
             }
            },
            "type": "table"
           }
          ]
         },
         "layout": {
          "annotationdefaults": {
           "arrowcolor": "#2a3f5f",
           "arrowhead": 0,
           "arrowwidth": 1
          },
          "autotypenumbers": "strict",
          "coloraxis": {
           "colorbar": {
            "outlinewidth": 0,
            "ticks": ""
           }
          },
          "colorscale": {
           "diverging": [
            [
             0,
             "#8e0152"
            ],
            [
             0.1,
             "#c51b7d"
            ],
            [
             0.2,
             "#de77ae"
            ],
            [
             0.3,
             "#f1b6da"
            ],
            [
             0.4,
             "#fde0ef"
            ],
            [
             0.5,
             "#f7f7f7"
            ],
            [
             0.6,
             "#e6f5d0"
            ],
            [
             0.7,
             "#b8e186"
            ],
            [
             0.8,
             "#7fbc41"
            ],
            [
             0.9,
             "#4d9221"
            ],
            [
             1,
             "#276419"
            ]
           ],
           "sequential": [
            [
             0,
             "#0d0887"
            ],
            [
             0.1111111111111111,
             "#46039f"
            ],
            [
             0.2222222222222222,
             "#7201a8"
            ],
            [
             0.3333333333333333,
             "#9c179e"
            ],
            [
             0.4444444444444444,
             "#bd3786"
            ],
            [
             0.5555555555555556,
             "#d8576b"
            ],
            [
             0.6666666666666666,
             "#ed7953"
            ],
            [
             0.7777777777777778,
             "#fb9f3a"
            ],
            [
             0.8888888888888888,
             "#fdca26"
            ],
            [
             1,
             "#f0f921"
            ]
           ],
           "sequentialminus": [
            [
             0,
             "#0d0887"
            ],
            [
             0.1111111111111111,
             "#46039f"
            ],
            [
             0.2222222222222222,
             "#7201a8"
            ],
            [
             0.3333333333333333,
             "#9c179e"
            ],
            [
             0.4444444444444444,
             "#bd3786"
            ],
            [
             0.5555555555555556,
             "#d8576b"
            ],
            [
             0.6666666666666666,
             "#ed7953"
            ],
            [
             0.7777777777777778,
             "#fb9f3a"
            ],
            [
             0.8888888888888888,
             "#fdca26"
            ],
            [
             1,
             "#f0f921"
            ]
           ]
          },
          "colorway": [
           "#636efa",
           "#EF553B",
           "#00cc96",
           "#ab63fa",
           "#FFA15A",
           "#19d3f3",
           "#FF6692",
           "#B6E880",
           "#FF97FF",
           "#FECB52"
          ],
          "font": {
           "color": "#2a3f5f"
          },
          "geo": {
           "bgcolor": "white",
           "lakecolor": "white",
           "landcolor": "#E5ECF6",
           "showlakes": true,
           "showland": true,
           "subunitcolor": "white"
          },
          "hoverlabel": {
           "align": "left"
          },
          "hovermode": "closest",
          "mapbox": {
           "style": "light"
          },
          "paper_bgcolor": "white",
          "plot_bgcolor": "#E5ECF6",
          "polar": {
           "angularaxis": {
            "gridcolor": "white",
            "linecolor": "white",
            "ticks": ""
           },
           "bgcolor": "#E5ECF6",
           "radialaxis": {
            "gridcolor": "white",
            "linecolor": "white",
            "ticks": ""
           }
          },
          "scene": {
           "xaxis": {
            "backgroundcolor": "#E5ECF6",
            "gridcolor": "white",
            "gridwidth": 2,
            "linecolor": "white",
            "showbackground": true,
            "ticks": "",
            "zerolinecolor": "white"
           },
           "yaxis": {
            "backgroundcolor": "#E5ECF6",
            "gridcolor": "white",
            "gridwidth": 2,
            "linecolor": "white",
            "showbackground": true,
            "ticks": "",
            "zerolinecolor": "white"
           },
           "zaxis": {
            "backgroundcolor": "#E5ECF6",
            "gridcolor": "white",
            "gridwidth": 2,
            "linecolor": "white",
            "showbackground": true,
            "ticks": "",
            "zerolinecolor": "white"
           }
          },
          "shapedefaults": {
           "line": {
            "color": "#2a3f5f"
           }
          },
          "ternary": {
           "aaxis": {
            "gridcolor": "white",
            "linecolor": "white",
            "ticks": ""
           },
           "baxis": {
            "gridcolor": "white",
            "linecolor": "white",
            "ticks": ""
           },
           "bgcolor": "#E5ECF6",
           "caxis": {
            "gridcolor": "white",
            "linecolor": "white",
            "ticks": ""
           }
          },
          "title": {
           "x": 0.05
          },
          "xaxis": {
           "automargin": true,
           "gridcolor": "white",
           "linecolor": "white",
           "ticks": "",
           "title": {
            "standoff": 15
           },
           "zerolinecolor": "white",
           "zerolinewidth": 2
          },
          "yaxis": {
           "automargin": true,
           "gridcolor": "white",
           "linecolor": "white",
           "ticks": "",
           "title": {
            "standoff": 15
           },
           "zerolinecolor": "white",
           "zerolinewidth": 2
          }
         }
        }
       }
      }
     },
     "metadata": {},
     "output_type": "display_data"
    }
   ],
   "source": [
    "px.pie(data_frame = poke_types, names='Type 1', values='Total' )"
   ]
  },
  {
   "cell_type": "code",
   "execution_count": null,
   "metadata": {},
   "outputs": [],
   "source": []
  }
 ],
 "metadata": {
  "interpreter": {
   "hash": "8da01e5a71448ea74f54d88afa8911010d1d12e23bc7e103d40d5def4a09152c"
  },
  "kernelspec": {
   "display_name": "Python 3.9.7 64-bit",
   "name": "python3"
  },
  "language_info": {
   "codemirror_mode": {
    "name": "ipython",
    "version": 3
   },
   "file_extension": ".py",
   "mimetype": "text/x-python",
   "name": "python",
   "nbconvert_exporter": "python",
   "pygments_lexer": "ipython3",
   "version": "3.9.7"
  },
  "orig_nbformat": 4
 },
 "nbformat": 4,
 "nbformat_minor": 2
}
