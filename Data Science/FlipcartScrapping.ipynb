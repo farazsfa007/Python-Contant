{
 "cells": [
  {
   "cell_type": "code",
   "execution_count": 3,
   "source": [
    "from bs4 import BeautifulSoup\r\n",
    "import requests"
   ],
   "outputs": [],
   "metadata": {}
  },
  {
   "cell_type": "code",
   "execution_count": 4,
   "source": [
    "url='https://www.flipkart.com/search?q=bags'"
   ],
   "outputs": [],
   "metadata": {}
  },
  {
   "cell_type": "code",
   "execution_count": 5,
   "source": [
    "requests.get(url)"
   ],
   "outputs": [
    {
     "output_type": "execute_result",
     "data": {
      "text/plain": [
       "<Response [200]>"
      ]
     },
     "metadata": {},
     "execution_count": 5
    }
   ],
   "metadata": {}
  },
  {
   "cell_type": "code",
   "execution_count": 7,
   "source": [
    "data=requests.get(url)"
   ],
   "outputs": [],
   "metadata": {}
  },
  {
   "cell_type": "code",
   "execution_count": 8,
   "source": [
    "soup=BeautifulSoup(data.text)"
   ],
   "outputs": [],
   "metadata": {}
  },
  {
   "cell_type": "code",
   "execution_count": 13,
   "source": [
    "row=soup.find('div',{'class':'_1AtVbE col-12-12'})\r\n",
    "    "
   ],
   "outputs": [],
   "metadata": {}
  },
  {
   "cell_type": "code",
   "execution_count": 14,
   "source": [
    "row"
   ],
   "outputs": [
    {
     "output_type": "execute_result",
     "data": {
      "text/plain": [
       "<div class=\"_1AtVbE col-12-12\"><div class=\"_1KOcBL\"><section class=\"JWMl0H _2hbLCH\"><div class=\"_2ssEMF\"><div class=\"_3V8rao\"><span>Filters</span></div></div></section><div class=\"_2q_g77\"><section class=\"_2aDURW\"><div class=\"_2lfNTw\"><span>PICK A CATEGORY</span></div><div><div class=\"TB_InB\"><span><svg class=\"_2Iqv73\" height=\"10\" viewbox=\"0 0 16 27\" width=\"10\" xmlns=\"http://www.w3.org/2000/svg\"><path class=\"\" d=\"M16 23.207L6.11 13.161 16 3.093 12.955 0 0 13.161l12.955 13.161z\" fill=\"#fff\"></path></svg></span><a class=\"_1jJQdf _2Mji8F\" href=\"/clothing-and-accessories/pr?sid=clo&amp;q=bags&amp;otracker=categorytree\" title=\"Clothing and Accessories\">Clothing and Accessories</a></div></div><div><div class=\"TB_InB\"><span><svg class=\"_2Iqv73\" height=\"10\" viewbox=\"0 0 16 27\" width=\"10\" xmlns=\"http://www.w3.org/2000/svg\"><path class=\"\" d=\"M16 23.207L6.11 13.161 16 3.093 12.955 0 0 13.161l12.955 13.161z\" fill=\"#fff\"></path></svg></span><a class=\"_1jJQdf _2Mji8F\" href=\"/automotive-accessories/pr?sid=1mt&amp;q=bags&amp;otracker=categorytree\" title=\"Automotive Accessories\">Automotive Accessories</a></div></div><div><div class=\"TB_InB\"><span><svg class=\"_2Iqv73\" height=\"10\" viewbox=\"0 0 16 27\" width=\"10\" xmlns=\"http://www.w3.org/2000/svg\"><path class=\"\" d=\"M16 23.207L6.11 13.161 16 3.093 12.955 0 0 13.161l12.955 13.161z\" fill=\"#fff\"></path></svg></span><a class=\"_1jJQdf _2Mji8F\" href=\"/food-products/pr?sid=eat&amp;q=bags&amp;otracker=categorytree\" title=\"Food Products\">Food Products</a></div></div><div><div class=\"TB_InB\"><span><svg class=\"_2Iqv73\" height=\"10\" viewbox=\"0 0 16 27\" width=\"10\" xmlns=\"http://www.w3.org/2000/svg\"><path class=\"\" d=\"M16 23.207L6.11 13.161 16 3.093 12.955 0 0 13.161l12.955 13.161z\" fill=\"#fff\"></path></svg></span><a class=\"_1jJQdf _2Mji8F\" href=\"/books/pr?sid=bks&amp;q=bags&amp;otracker=categorytree\" title=\"Books\">Books</a></div></div><div><div class=\"TB_InB\"><span><svg class=\"_2Iqv73\" height=\"10\" viewbox=\"0 0 16 27\" width=\"10\" xmlns=\"http://www.w3.org/2000/svg\"><path class=\"\" d=\"M16 23.207L6.11 13.161 16 3.093 12.955 0 0 13.161l12.955 13.161z\" fill=\"#fff\"></path></svg></span><a class=\"_1jJQdf _2Mji8F\" href=\"/industrial-scientific-supplies/pr?sid=gsx&amp;q=bags&amp;otracker=categorytree\" title=\"Industrial &amp; Scientific Supplies\">Industrial &amp; Scientific Supplies</a></div></div><div class=\"_3OwxoU\"><span>Show 34 more categories</span></div></section></div></div></div>"
      ]
     },
     "metadata": {},
     "execution_count": 14
    }
   ],
   "metadata": {}
  },
  {
   "cell_type": "code",
   "execution_count": 20,
   "source": [
    "for i in row.find('div').findAll('div'):\r\n",
    "    print(i)"
   ],
   "outputs": [
    {
     "output_type": "stream",
     "name": "stdout",
     "text": [
      "<div class=\"_2ssEMF\"><div class=\"_3V8rao\"><span>Filters</span></div></div>\n",
      "[<div class=\"_3V8rao\"><span>Filters</span></div>]\n",
      "<div class=\"_3V8rao\"><span>Filters</span></div>\n",
      "[]\n",
      "<div class=\"_2q_g77\"><section class=\"_2aDURW\"><div class=\"_2lfNTw\"><span>PICK A CATEGORY</span></div><div><div class=\"TB_InB\"><span><svg class=\"_2Iqv73\" height=\"10\" viewbox=\"0 0 16 27\" width=\"10\" xmlns=\"http://www.w3.org/2000/svg\"><path class=\"\" d=\"M16 23.207L6.11 13.161 16 3.093 12.955 0 0 13.161l12.955 13.161z\" fill=\"#fff\"></path></svg></span><a class=\"_1jJQdf _2Mji8F\" href=\"/clothing-and-accessories/pr?sid=clo&amp;q=bags&amp;otracker=categorytree\" title=\"Clothing and Accessories\">Clothing and Accessories</a></div></div><div><div class=\"TB_InB\"><span><svg class=\"_2Iqv73\" height=\"10\" viewbox=\"0 0 16 27\" width=\"10\" xmlns=\"http://www.w3.org/2000/svg\"><path class=\"\" d=\"M16 23.207L6.11 13.161 16 3.093 12.955 0 0 13.161l12.955 13.161z\" fill=\"#fff\"></path></svg></span><a class=\"_1jJQdf _2Mji8F\" href=\"/automotive-accessories/pr?sid=1mt&amp;q=bags&amp;otracker=categorytree\" title=\"Automotive Accessories\">Automotive Accessories</a></div></div><div><div class=\"TB_InB\"><span><svg class=\"_2Iqv73\" height=\"10\" viewbox=\"0 0 16 27\" width=\"10\" xmlns=\"http://www.w3.org/2000/svg\"><path class=\"\" d=\"M16 23.207L6.11 13.161 16 3.093 12.955 0 0 13.161l12.955 13.161z\" fill=\"#fff\"></path></svg></span><a class=\"_1jJQdf _2Mji8F\" href=\"/food-products/pr?sid=eat&amp;q=bags&amp;otracker=categorytree\" title=\"Food Products\">Food Products</a></div></div><div><div class=\"TB_InB\"><span><svg class=\"_2Iqv73\" height=\"10\" viewbox=\"0 0 16 27\" width=\"10\" xmlns=\"http://www.w3.org/2000/svg\"><path class=\"\" d=\"M16 23.207L6.11 13.161 16 3.093 12.955 0 0 13.161l12.955 13.161z\" fill=\"#fff\"></path></svg></span><a class=\"_1jJQdf _2Mji8F\" href=\"/books/pr?sid=bks&amp;q=bags&amp;otracker=categorytree\" title=\"Books\">Books</a></div></div><div><div class=\"TB_InB\"><span><svg class=\"_2Iqv73\" height=\"10\" viewbox=\"0 0 16 27\" width=\"10\" xmlns=\"http://www.w3.org/2000/svg\"><path class=\"\" d=\"M16 23.207L6.11 13.161 16 3.093 12.955 0 0 13.161l12.955 13.161z\" fill=\"#fff\"></path></svg></span><a class=\"_1jJQdf _2Mji8F\" href=\"/industrial-scientific-supplies/pr?sid=gsx&amp;q=bags&amp;otracker=categorytree\" title=\"Industrial &amp; Scientific Supplies\">Industrial &amp; Scientific Supplies</a></div></div><div class=\"_3OwxoU\"><span>Show 34 more categories</span></div></section></div>\n",
      "[<div class=\"_2lfNTw\"><span>PICK A CATEGORY</span></div>, <div><div class=\"TB_InB\"><span><svg class=\"_2Iqv73\" height=\"10\" viewbox=\"0 0 16 27\" width=\"10\" xmlns=\"http://www.w3.org/2000/svg\"><path class=\"\" d=\"M16 23.207L6.11 13.161 16 3.093 12.955 0 0 13.161l12.955 13.161z\" fill=\"#fff\"></path></svg></span><a class=\"_1jJQdf _2Mji8F\" href=\"/clothing-and-accessories/pr?sid=clo&amp;q=bags&amp;otracker=categorytree\" title=\"Clothing and Accessories\">Clothing and Accessories</a></div></div>, <div class=\"TB_InB\"><span><svg class=\"_2Iqv73\" height=\"10\" viewbox=\"0 0 16 27\" width=\"10\" xmlns=\"http://www.w3.org/2000/svg\"><path class=\"\" d=\"M16 23.207L6.11 13.161 16 3.093 12.955 0 0 13.161l12.955 13.161z\" fill=\"#fff\"></path></svg></span><a class=\"_1jJQdf _2Mji8F\" href=\"/clothing-and-accessories/pr?sid=clo&amp;q=bags&amp;otracker=categorytree\" title=\"Clothing and Accessories\">Clothing and Accessories</a></div>, <div><div class=\"TB_InB\"><span><svg class=\"_2Iqv73\" height=\"10\" viewbox=\"0 0 16 27\" width=\"10\" xmlns=\"http://www.w3.org/2000/svg\"><path class=\"\" d=\"M16 23.207L6.11 13.161 16 3.093 12.955 0 0 13.161l12.955 13.161z\" fill=\"#fff\"></path></svg></span><a class=\"_1jJQdf _2Mji8F\" href=\"/automotive-accessories/pr?sid=1mt&amp;q=bags&amp;otracker=categorytree\" title=\"Automotive Accessories\">Automotive Accessories</a></div></div>, <div class=\"TB_InB\"><span><svg class=\"_2Iqv73\" height=\"10\" viewbox=\"0 0 16 27\" width=\"10\" xmlns=\"http://www.w3.org/2000/svg\"><path class=\"\" d=\"M16 23.207L6.11 13.161 16 3.093 12.955 0 0 13.161l12.955 13.161z\" fill=\"#fff\"></path></svg></span><a class=\"_1jJQdf _2Mji8F\" href=\"/automotive-accessories/pr?sid=1mt&amp;q=bags&amp;otracker=categorytree\" title=\"Automotive Accessories\">Automotive Accessories</a></div>, <div><div class=\"TB_InB\"><span><svg class=\"_2Iqv73\" height=\"10\" viewbox=\"0 0 16 27\" width=\"10\" xmlns=\"http://www.w3.org/2000/svg\"><path class=\"\" d=\"M16 23.207L6.11 13.161 16 3.093 12.955 0 0 13.161l12.955 13.161z\" fill=\"#fff\"></path></svg></span><a class=\"_1jJQdf _2Mji8F\" href=\"/food-products/pr?sid=eat&amp;q=bags&amp;otracker=categorytree\" title=\"Food Products\">Food Products</a></div></div>, <div class=\"TB_InB\"><span><svg class=\"_2Iqv73\" height=\"10\" viewbox=\"0 0 16 27\" width=\"10\" xmlns=\"http://www.w3.org/2000/svg\"><path class=\"\" d=\"M16 23.207L6.11 13.161 16 3.093 12.955 0 0 13.161l12.955 13.161z\" fill=\"#fff\"></path></svg></span><a class=\"_1jJQdf _2Mji8F\" href=\"/food-products/pr?sid=eat&amp;q=bags&amp;otracker=categorytree\" title=\"Food Products\">Food Products</a></div>, <div><div class=\"TB_InB\"><span><svg class=\"_2Iqv73\" height=\"10\" viewbox=\"0 0 16 27\" width=\"10\" xmlns=\"http://www.w3.org/2000/svg\"><path class=\"\" d=\"M16 23.207L6.11 13.161 16 3.093 12.955 0 0 13.161l12.955 13.161z\" fill=\"#fff\"></path></svg></span><a class=\"_1jJQdf _2Mji8F\" href=\"/books/pr?sid=bks&amp;q=bags&amp;otracker=categorytree\" title=\"Books\">Books</a></div></div>, <div class=\"TB_InB\"><span><svg class=\"_2Iqv73\" height=\"10\" viewbox=\"0 0 16 27\" width=\"10\" xmlns=\"http://www.w3.org/2000/svg\"><path class=\"\" d=\"M16 23.207L6.11 13.161 16 3.093 12.955 0 0 13.161l12.955 13.161z\" fill=\"#fff\"></path></svg></span><a class=\"_1jJQdf _2Mji8F\" href=\"/books/pr?sid=bks&amp;q=bags&amp;otracker=categorytree\" title=\"Books\">Books</a></div>, <div><div class=\"TB_InB\"><span><svg class=\"_2Iqv73\" height=\"10\" viewbox=\"0 0 16 27\" width=\"10\" xmlns=\"http://www.w3.org/2000/svg\"><path class=\"\" d=\"M16 23.207L6.11 13.161 16 3.093 12.955 0 0 13.161l12.955 13.161z\" fill=\"#fff\"></path></svg></span><a class=\"_1jJQdf _2Mji8F\" href=\"/industrial-scientific-supplies/pr?sid=gsx&amp;q=bags&amp;otracker=categorytree\" title=\"Industrial &amp; Scientific Supplies\">Industrial &amp; Scientific Supplies</a></div></div>, <div class=\"TB_InB\"><span><svg class=\"_2Iqv73\" height=\"10\" viewbox=\"0 0 16 27\" width=\"10\" xmlns=\"http://www.w3.org/2000/svg\"><path class=\"\" d=\"M16 23.207L6.11 13.161 16 3.093 12.955 0 0 13.161l12.955 13.161z\" fill=\"#fff\"></path></svg></span><a class=\"_1jJQdf _2Mji8F\" href=\"/industrial-scientific-supplies/pr?sid=gsx&amp;q=bags&amp;otracker=categorytree\" title=\"Industrial &amp; Scientific Supplies\">Industrial &amp; Scientific Supplies</a></div>, <div class=\"_3OwxoU\"><span>Show 34 more categories</span></div>]\n",
      "<div class=\"_2lfNTw\"><span>PICK A CATEGORY</span></div>\n",
      "[]\n",
      "<div><div class=\"TB_InB\"><span><svg class=\"_2Iqv73\" height=\"10\" viewbox=\"0 0 16 27\" width=\"10\" xmlns=\"http://www.w3.org/2000/svg\"><path class=\"\" d=\"M16 23.207L6.11 13.161 16 3.093 12.955 0 0 13.161l12.955 13.161z\" fill=\"#fff\"></path></svg></span><a class=\"_1jJQdf _2Mji8F\" href=\"/clothing-and-accessories/pr?sid=clo&amp;q=bags&amp;otracker=categorytree\" title=\"Clothing and Accessories\">Clothing and Accessories</a></div></div>\n",
      "[<div class=\"TB_InB\"><span><svg class=\"_2Iqv73\" height=\"10\" viewbox=\"0 0 16 27\" width=\"10\" xmlns=\"http://www.w3.org/2000/svg\"><path class=\"\" d=\"M16 23.207L6.11 13.161 16 3.093 12.955 0 0 13.161l12.955 13.161z\" fill=\"#fff\"></path></svg></span><a class=\"_1jJQdf _2Mji8F\" href=\"/clothing-and-accessories/pr?sid=clo&amp;q=bags&amp;otracker=categorytree\" title=\"Clothing and Accessories\">Clothing and Accessories</a></div>]\n",
      "<div class=\"TB_InB\"><span><svg class=\"_2Iqv73\" height=\"10\" viewbox=\"0 0 16 27\" width=\"10\" xmlns=\"http://www.w3.org/2000/svg\"><path class=\"\" d=\"M16 23.207L6.11 13.161 16 3.093 12.955 0 0 13.161l12.955 13.161z\" fill=\"#fff\"></path></svg></span><a class=\"_1jJQdf _2Mji8F\" href=\"/clothing-and-accessories/pr?sid=clo&amp;q=bags&amp;otracker=categorytree\" title=\"Clothing and Accessories\">Clothing and Accessories</a></div>\n",
      "[]\n",
      "<div><div class=\"TB_InB\"><span><svg class=\"_2Iqv73\" height=\"10\" viewbox=\"0 0 16 27\" width=\"10\" xmlns=\"http://www.w3.org/2000/svg\"><path class=\"\" d=\"M16 23.207L6.11 13.161 16 3.093 12.955 0 0 13.161l12.955 13.161z\" fill=\"#fff\"></path></svg></span><a class=\"_1jJQdf _2Mji8F\" href=\"/automotive-accessories/pr?sid=1mt&amp;q=bags&amp;otracker=categorytree\" title=\"Automotive Accessories\">Automotive Accessories</a></div></div>\n",
      "[<div class=\"TB_InB\"><span><svg class=\"_2Iqv73\" height=\"10\" viewbox=\"0 0 16 27\" width=\"10\" xmlns=\"http://www.w3.org/2000/svg\"><path class=\"\" d=\"M16 23.207L6.11 13.161 16 3.093 12.955 0 0 13.161l12.955 13.161z\" fill=\"#fff\"></path></svg></span><a class=\"_1jJQdf _2Mji8F\" href=\"/automotive-accessories/pr?sid=1mt&amp;q=bags&amp;otracker=categorytree\" title=\"Automotive Accessories\">Automotive Accessories</a></div>]\n",
      "<div class=\"TB_InB\"><span><svg class=\"_2Iqv73\" height=\"10\" viewbox=\"0 0 16 27\" width=\"10\" xmlns=\"http://www.w3.org/2000/svg\"><path class=\"\" d=\"M16 23.207L6.11 13.161 16 3.093 12.955 0 0 13.161l12.955 13.161z\" fill=\"#fff\"></path></svg></span><a class=\"_1jJQdf _2Mji8F\" href=\"/automotive-accessories/pr?sid=1mt&amp;q=bags&amp;otracker=categorytree\" title=\"Automotive Accessories\">Automotive Accessories</a></div>\n",
      "[]\n",
      "<div><div class=\"TB_InB\"><span><svg class=\"_2Iqv73\" height=\"10\" viewbox=\"0 0 16 27\" width=\"10\" xmlns=\"http://www.w3.org/2000/svg\"><path class=\"\" d=\"M16 23.207L6.11 13.161 16 3.093 12.955 0 0 13.161l12.955 13.161z\" fill=\"#fff\"></path></svg></span><a class=\"_1jJQdf _2Mji8F\" href=\"/food-products/pr?sid=eat&amp;q=bags&amp;otracker=categorytree\" title=\"Food Products\">Food Products</a></div></div>\n",
      "[<div class=\"TB_InB\"><span><svg class=\"_2Iqv73\" height=\"10\" viewbox=\"0 0 16 27\" width=\"10\" xmlns=\"http://www.w3.org/2000/svg\"><path class=\"\" d=\"M16 23.207L6.11 13.161 16 3.093 12.955 0 0 13.161l12.955 13.161z\" fill=\"#fff\"></path></svg></span><a class=\"_1jJQdf _2Mji8F\" href=\"/food-products/pr?sid=eat&amp;q=bags&amp;otracker=categorytree\" title=\"Food Products\">Food Products</a></div>]\n",
      "<div class=\"TB_InB\"><span><svg class=\"_2Iqv73\" height=\"10\" viewbox=\"0 0 16 27\" width=\"10\" xmlns=\"http://www.w3.org/2000/svg\"><path class=\"\" d=\"M16 23.207L6.11 13.161 16 3.093 12.955 0 0 13.161l12.955 13.161z\" fill=\"#fff\"></path></svg></span><a class=\"_1jJQdf _2Mji8F\" href=\"/food-products/pr?sid=eat&amp;q=bags&amp;otracker=categorytree\" title=\"Food Products\">Food Products</a></div>\n",
      "[]\n",
      "<div><div class=\"TB_InB\"><span><svg class=\"_2Iqv73\" height=\"10\" viewbox=\"0 0 16 27\" width=\"10\" xmlns=\"http://www.w3.org/2000/svg\"><path class=\"\" d=\"M16 23.207L6.11 13.161 16 3.093 12.955 0 0 13.161l12.955 13.161z\" fill=\"#fff\"></path></svg></span><a class=\"_1jJQdf _2Mji8F\" href=\"/books/pr?sid=bks&amp;q=bags&amp;otracker=categorytree\" title=\"Books\">Books</a></div></div>\n",
      "[<div class=\"TB_InB\"><span><svg class=\"_2Iqv73\" height=\"10\" viewbox=\"0 0 16 27\" width=\"10\" xmlns=\"http://www.w3.org/2000/svg\"><path class=\"\" d=\"M16 23.207L6.11 13.161 16 3.093 12.955 0 0 13.161l12.955 13.161z\" fill=\"#fff\"></path></svg></span><a class=\"_1jJQdf _2Mji8F\" href=\"/books/pr?sid=bks&amp;q=bags&amp;otracker=categorytree\" title=\"Books\">Books</a></div>]\n",
      "<div class=\"TB_InB\"><span><svg class=\"_2Iqv73\" height=\"10\" viewbox=\"0 0 16 27\" width=\"10\" xmlns=\"http://www.w3.org/2000/svg\"><path class=\"\" d=\"M16 23.207L6.11 13.161 16 3.093 12.955 0 0 13.161l12.955 13.161z\" fill=\"#fff\"></path></svg></span><a class=\"_1jJQdf _2Mji8F\" href=\"/books/pr?sid=bks&amp;q=bags&amp;otracker=categorytree\" title=\"Books\">Books</a></div>\n",
      "[]\n",
      "<div><div class=\"TB_InB\"><span><svg class=\"_2Iqv73\" height=\"10\" viewbox=\"0 0 16 27\" width=\"10\" xmlns=\"http://www.w3.org/2000/svg\"><path class=\"\" d=\"M16 23.207L6.11 13.161 16 3.093 12.955 0 0 13.161l12.955 13.161z\" fill=\"#fff\"></path></svg></span><a class=\"_1jJQdf _2Mji8F\" href=\"/industrial-scientific-supplies/pr?sid=gsx&amp;q=bags&amp;otracker=categorytree\" title=\"Industrial &amp; Scientific Supplies\">Industrial &amp; Scientific Supplies</a></div></div>\n",
      "[<div class=\"TB_InB\"><span><svg class=\"_2Iqv73\" height=\"10\" viewbox=\"0 0 16 27\" width=\"10\" xmlns=\"http://www.w3.org/2000/svg\"><path class=\"\" d=\"M16 23.207L6.11 13.161 16 3.093 12.955 0 0 13.161l12.955 13.161z\" fill=\"#fff\"></path></svg></span><a class=\"_1jJQdf _2Mji8F\" href=\"/industrial-scientific-supplies/pr?sid=gsx&amp;q=bags&amp;otracker=categorytree\" title=\"Industrial &amp; Scientific Supplies\">Industrial &amp; Scientific Supplies</a></div>]\n",
      "<div class=\"TB_InB\"><span><svg class=\"_2Iqv73\" height=\"10\" viewbox=\"0 0 16 27\" width=\"10\" xmlns=\"http://www.w3.org/2000/svg\"><path class=\"\" d=\"M16 23.207L6.11 13.161 16 3.093 12.955 0 0 13.161l12.955 13.161z\" fill=\"#fff\"></path></svg></span><a class=\"_1jJQdf _2Mji8F\" href=\"/industrial-scientific-supplies/pr?sid=gsx&amp;q=bags&amp;otracker=categorytree\" title=\"Industrial &amp; Scientific Supplies\">Industrial &amp; Scientific Supplies</a></div>\n",
      "[]\n",
      "<div class=\"_3OwxoU\"><span>Show 34 more categories</span></div>\n",
      "[]\n"
     ]
    }
   ],
   "metadata": {}
  },
  {
   "cell_type": "code",
   "execution_count": null,
   "source": [],
   "outputs": [],
   "metadata": {}
  }
 ],
 "metadata": {
  "orig_nbformat": 4,
  "language_info": {
   "name": "python",
   "version": "3.9.7",
   "mimetype": "text/x-python",
   "codemirror_mode": {
    "name": "ipython",
    "version": 3
   },
   "pygments_lexer": "ipython3",
   "nbconvert_exporter": "python",
   "file_extension": ".py"
  },
  "kernelspec": {
   "name": "python3",
   "display_name": "Python 3.9.7 64-bit"
  },
  "interpreter": {
   "hash": "8da01e5a71448ea74f54d88afa8911010d1d12e23bc7e103d40d5def4a09152c"
  }
 },
 "nbformat": 4,
 "nbformat_minor": 2
}