{
 "cells": [
  {
   "cell_type": "code",
   "execution_count": 1,
   "metadata": {},
   "outputs": [],
   "source": [
    "with open('myapp.py') as code1:\n",
    "    code=code1.read()"
   ]
  },
  {
   "cell_type": "code",
   "execution_count": 2,
   "metadata": {},
   "outputs": [
    {
     "data": {
      "text/plain": [
       "2"
      ]
     },
     "execution_count": 2,
     "metadata": {},
     "output_type": "execute_result"
    }
   ],
   "source": [
    "code.count('import')"
   ]
  },
  {
   "cell_type": "code",
   "execution_count": 3,
   "metadata": {},
   "outputs": [
    {
     "name": "stdout",
     "output_type": "stream",
     "text": [
      "import yfinance as yf\n",
      "import streamlit as st\n",
      "\n",
      "st.write(\"\"\"\n",
      "# Simple Stock Price App\n",
      "Shown are the stock **closing price** and *volume* of Google!\n",
      "\"\"\")\n",
      "\n",
      "# https://towardsdatascience.com/how-to-get-stock-data-using-python-c0de1df17e75\n",
      "#define the ticker symbol\n",
      "tickerSymbol = 'GOOGL'\n",
      "\n",
      "#get data on this ticker\n",
      "tickerData = yf.Ticker(tickerSymbol)\n",
      "\n",
      "#get the historical prices for this ticker\n",
      "tickerDf = tickerData.history(period='1d', start='2010-5-31', end='2020-5-31')\n",
      "\n",
      "# Open\tHigh\tLow\tClose\tVolume\tDividends\tStock Splits\n",
      "st.line_chart(tickerDf.Close)\n",
      "st.line_chart(tickerDf.Volume)\n"
     ]
    }
   ],
   "source": [
    "file_contents=open('myapp.py')\n",
    "print(file_contents.read())"
   ]
  },
  {
   "cell_type": "code",
   "execution_count": 4,
   "metadata": {},
   "outputs": [],
   "source": [
    "file_contents.close()"
   ]
  },
  {
   "cell_type": "code",
   "execution_count": 5,
   "metadata": {},
   "outputs": [],
   "source": [
    "with open('good.txt','w') as newfile:\n",
    "    newfile.write('qwerretty mnbv')"
   ]
  },
  {
   "cell_type": "code",
   "execution_count": 6,
   "metadata": {},
   "outputs": [],
   "source": [
    "with open('good.txt','a') as newfile:\n",
    "    newfile.write('\\nAnthor Contentqwert')"
   ]
  },
  {
   "cell_type": "code",
   "execution_count": 7,
   "metadata": {},
   "outputs": [],
   "source": [
    "with open('myapp.py') as mycode:\n",
    "    t=mycode.read()\n",
    "    t+='\\n\\n#---------This Code is made By python script---------'\n",
    "    with open('myapp_copy.py','w') as copier:\n",
    "        copier.write(t)"
   ]
  },
  {
   "cell_type": "code",
   "execution_count": 8,
   "metadata": {},
   "outputs": [],
   "source": [
    "import os"
   ]
  },
  {
   "cell_type": "code",
   "execution_count": 9,
   "metadata": {},
   "outputs": [],
   "source": [
    "download=os.listdir('C://Users//ASUS//Downloads')"
   ]
  },
  {
   "cell_type": "code",
   "execution_count": 10,
   "metadata": {},
   "outputs": [],
   "source": [
    "for f in os.listdir('D:/Atom'):\n",
    "    if os.path.isfile('D:/Atom'+f):\n",
    "        print(f)"
   ]
  }
 ],
 "metadata": {
  "interpreter": {
   "hash": "8da01e5a71448ea74f54d88afa8911010d1d12e23bc7e103d40d5def4a09152c"
  },
  "kernelspec": {
   "display_name": "Python 3.9.7 64-bit",
   "name": "python3"
  },
  "language_info": {
   "codemirror_mode": {
    "name": "ipython",
    "version": 3
   },
   "file_extension": ".py",
   "mimetype": "text/x-python",
   "name": "python",
   "nbconvert_exporter": "python",
   "pygments_lexer": "ipython3",
   "version": "3.9.7"
  },
  "orig_nbformat": 4
 },
 "nbformat": 4,
 "nbformat_minor": 2
}
